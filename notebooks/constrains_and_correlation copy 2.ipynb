{
 "cells": [
  {
   "cell_type": "code",
   "execution_count": 1,
   "metadata": {},
   "outputs": [],
   "source": [
    "%load_ext autoreload\n",
    "%autoreload 2"
   ]
  },
  {
   "cell_type": "code",
   "execution_count": 2,
   "metadata": {},
   "outputs": [],
   "source": [
    "# Add the project root to the path\n",
    "import sys\n",
    "import os\n",
    "module_path = os.path.abspath(os.path.join('..'))\n",
    "if module_path not in sys.path:\n",
    "    sys.path.append(module_path)"
   ]
  },
  {
   "cell_type": "markdown",
   "metadata": {},
   "source": [
    "#### Arguments"
   ]
  },
  {
   "cell_type": "code",
   "execution_count": 3,
   "metadata": {},
   "outputs": [],
   "source": [
    "args = {\n",
    "    # General\n",
    "    'seed': 42,\n",
    "    'device': 'cpu',\n",
    "    'root_dir': '/Users/svlg/MasterThesis/v02',\n",
    "\n",
    "    # FlowMol\n",
    "    'model': 'qm9_ctmc',\n",
    "    'n_molecules': 1000,\n",
    "    'n_timesteps': 50,\n",
    "\n",
    "    # Reward model\n",
    "    'reward_model': 'PAMNet_s',\n",
    "    'n_layer': 6,\n",
    "    'dim': 128,\n",
    "    'target': 7,\n",
    "    'cutoff_l': 5.0,\n",
    "    'cutoff_g': 5.0,\n",
    "\n",
    "    # Data / Dataset\n",
    "    'dataset': 'QM9',\n",
    "    'data_path': '/data',\n",
    "    'batch_size': 1000,\n",
    "}"
   ]
  },
  {
   "cell_type": "code",
   "execution_count": 4,
   "metadata": {},
   "outputs": [],
   "source": [
    "import torch\n",
    "import numpy as np\n",
    "import random\n",
    "\n",
    "def set_seed(seed):\n",
    "    \"\"\"Seed all random generators.\"\"\"\n",
    "    torch.backends.cudnn.deterministic = True\n",
    "    torch.backends.cudnn.benchmark = False\n",
    "    torch.manual_seed(seed)\n",
    "    torch.cuda.manual_seed_all(seed)\n",
    "    np.random.seed(seed)\n",
    "    random.seed(seed)\n",
    "\n",
    "set_seed(args['seed'])"
   ]
  },
  {
   "cell_type": "markdown",
   "metadata": {},
   "source": [
    "#### Data"
   ]
  },
  {
   "cell_type": "code",
   "execution_count": 5,
   "metadata": {},
   "outputs": [],
   "source": [
    "import os.path as osp\n",
    "from torch_geometric.loader import DataLoader\n",
    "from dataset.QM9 import QM9"
   ]
  },
  {
   "cell_type": "code",
   "execution_count": 8,
   "metadata": {},
   "outputs": [
    {
     "ename": "FileNotFoundError",
     "evalue": "[Errno 2] No such file or directory: '/Users/svlg/MasterThesis/v02/data/QM9/qm9_train_data.pt'",
     "output_type": "error",
     "traceback": [
      "\u001b[0;31m---------------------------------------------------------------------------\u001b[0m",
      "\u001b[0;31mFileNotFoundError\u001b[0m                         Traceback (most recent call last)",
      "Cell \u001b[0;32mIn[8], line 3\u001b[0m\n\u001b[1;32m      1\u001b[0m data_root \u001b[38;5;241m=\u001b[39m osp\u001b[38;5;241m.\u001b[39mjoin(\u001b[38;5;124m'\u001b[39m\u001b[38;5;124m/Users/svlg/MasterThesis/v02/data/QM9\u001b[39m\u001b[38;5;124m'\u001b[39m)\n\u001b[1;32m      2\u001b[0m train_dataset \u001b[38;5;241m=\u001b[39m QM9(data_root)\n\u001b[0;32m----> 3\u001b[0m \u001b[43mtrain_dataset\u001b[49m\u001b[38;5;241;43m.\u001b[39;49m\u001b[43mload\u001b[49m\u001b[43m(\u001b[49m\u001b[43mosp\u001b[49m\u001b[38;5;241;43m.\u001b[39;49m\u001b[43mjoin\u001b[49m\u001b[43m(\u001b[49m\u001b[43mdata_root\u001b[49m\u001b[43m,\u001b[49m\u001b[43m \u001b[49m\u001b[38;5;124;43m'\u001b[39;49m\u001b[38;5;124;43mqm9_train_data.pt\u001b[39;49m\u001b[38;5;124;43m'\u001b[39;49m\u001b[43m)\u001b[49m\u001b[43m)\u001b[49m\n\u001b[1;32m      4\u001b[0m train_loader \u001b[38;5;241m=\u001b[39m DataLoader(train_dataset, batch_size\u001b[38;5;241m=\u001b[39margs[\u001b[38;5;124m'\u001b[39m\u001b[38;5;124mbatch_size\u001b[39m\u001b[38;5;124m'\u001b[39m], shuffle\u001b[38;5;241m=\u001b[39m\u001b[38;5;28;01mTrue\u001b[39;00m)\n\u001b[1;32m      5\u001b[0m val_dataset \u001b[38;5;241m=\u001b[39m QM9(data_root)\n",
      "File \u001b[0;32m/opt/homebrew/Caskroom/miniforge/base/envs/deep/lib/python3.9/site-packages/torch_geometric/data/in_memory_dataset.py:131\u001b[0m, in \u001b[0;36mInMemoryDataset.load\u001b[0;34m(self, path, data_cls)\u001b[0m\n\u001b[1;32m    129\u001b[0m \u001b[38;5;28;01mdef\u001b[39;00m\u001b[38;5;250m \u001b[39m\u001b[38;5;21mload\u001b[39m(\u001b[38;5;28mself\u001b[39m, path: \u001b[38;5;28mstr\u001b[39m, data_cls: Type[BaseData] \u001b[38;5;241m=\u001b[39m Data) \u001b[38;5;241m-\u001b[39m\u001b[38;5;241m>\u001b[39m \u001b[38;5;28;01mNone\u001b[39;00m:\n\u001b[1;32m    130\u001b[0m \u001b[38;5;250m    \u001b[39m\u001b[38;5;124mr\u001b[39m\u001b[38;5;124;03m\"\"\"Loads the dataset from the file path :obj:`path`.\"\"\"\u001b[39;00m\n\u001b[0;32m--> 131\u001b[0m     out \u001b[38;5;241m=\u001b[39m \u001b[43mfs\u001b[49m\u001b[38;5;241;43m.\u001b[39;49m\u001b[43mtorch_load\u001b[49m\u001b[43m(\u001b[49m\u001b[43mpath\u001b[49m\u001b[43m)\u001b[49m\n\u001b[1;32m    132\u001b[0m     \u001b[38;5;28;01massert\u001b[39;00m \u001b[38;5;28misinstance\u001b[39m(out, \u001b[38;5;28mtuple\u001b[39m)\n\u001b[1;32m    133\u001b[0m     \u001b[38;5;28;01massert\u001b[39;00m \u001b[38;5;28mlen\u001b[39m(out) \u001b[38;5;241m==\u001b[39m \u001b[38;5;241m2\u001b[39m \u001b[38;5;129;01mor\u001b[39;00m \u001b[38;5;28mlen\u001b[39m(out) \u001b[38;5;241m==\u001b[39m \u001b[38;5;241m3\u001b[39m\n",
      "File \u001b[0;32m/opt/homebrew/Caskroom/miniforge/base/envs/deep/lib/python3.9/site-packages/torch_geometric/io/fs.py:240\u001b[0m, in \u001b[0;36mtorch_load\u001b[0;34m(path, map_location)\u001b[0m\n\u001b[1;32m    237\u001b[0m         \u001b[38;5;28;01melse\u001b[39;00m:\n\u001b[1;32m    238\u001b[0m             \u001b[38;5;28;01mraise\u001b[39;00m e\n\u001b[0;32m--> 240\u001b[0m \u001b[38;5;28;01mwith\u001b[39;00m fsspec\u001b[38;5;241m.\u001b[39mopen(path, \u001b[38;5;124m'\u001b[39m\u001b[38;5;124mrb\u001b[39m\u001b[38;5;124m'\u001b[39m) \u001b[38;5;28;01mas\u001b[39;00m f:\n\u001b[1;32m    241\u001b[0m     \u001b[38;5;28;01mreturn\u001b[39;00m torch\u001b[38;5;241m.\u001b[39mload(f, map_location)\n",
      "File \u001b[0;32m/opt/homebrew/Caskroom/miniforge/base/envs/deep/lib/python3.9/site-packages/fsspec/core.py:105\u001b[0m, in \u001b[0;36mOpenFile.__enter__\u001b[0;34m(self)\u001b[0m\n\u001b[1;32m    102\u001b[0m mode \u001b[38;5;241m=\u001b[39m \u001b[38;5;28mself\u001b[39m\u001b[38;5;241m.\u001b[39mmode\u001b[38;5;241m.\u001b[39mreplace(\u001b[38;5;124m\"\u001b[39m\u001b[38;5;124mt\u001b[39m\u001b[38;5;124m\"\u001b[39m, \u001b[38;5;124m\"\u001b[39m\u001b[38;5;124m\"\u001b[39m)\u001b[38;5;241m.\u001b[39mreplace(\u001b[38;5;124m\"\u001b[39m\u001b[38;5;124mb\u001b[39m\u001b[38;5;124m\"\u001b[39m, \u001b[38;5;124m\"\u001b[39m\u001b[38;5;124m\"\u001b[39m) \u001b[38;5;241m+\u001b[39m \u001b[38;5;124m\"\u001b[39m\u001b[38;5;124mb\u001b[39m\u001b[38;5;124m\"\u001b[39m\n\u001b[1;32m    104\u001b[0m \u001b[38;5;28;01mtry\u001b[39;00m:\n\u001b[0;32m--> 105\u001b[0m     f \u001b[38;5;241m=\u001b[39m \u001b[38;5;28;43mself\u001b[39;49m\u001b[38;5;241;43m.\u001b[39;49m\u001b[43mfs\u001b[49m\u001b[38;5;241;43m.\u001b[39;49m\u001b[43mopen\u001b[49m\u001b[43m(\u001b[49m\u001b[38;5;28;43mself\u001b[39;49m\u001b[38;5;241;43m.\u001b[39;49m\u001b[43mpath\u001b[49m\u001b[43m,\u001b[49m\u001b[43m \u001b[49m\u001b[43mmode\u001b[49m\u001b[38;5;241;43m=\u001b[39;49m\u001b[43mmode\u001b[49m\u001b[43m)\u001b[49m\n\u001b[1;32m    106\u001b[0m \u001b[38;5;28;01mexcept\u001b[39;00m \u001b[38;5;167;01mFileNotFoundError\u001b[39;00m \u001b[38;5;28;01mas\u001b[39;00m e:\n\u001b[1;32m    107\u001b[0m     \u001b[38;5;28;01mif\u001b[39;00m has_magic(\u001b[38;5;28mself\u001b[39m\u001b[38;5;241m.\u001b[39mpath):\n",
      "File \u001b[0;32m/opt/homebrew/Caskroom/miniforge/base/envs/deep/lib/python3.9/site-packages/fsspec/spec.py:1310\u001b[0m, in \u001b[0;36mAbstractFileSystem.open\u001b[0;34m(self, path, mode, block_size, cache_options, compression, **kwargs)\u001b[0m\n\u001b[1;32m   1308\u001b[0m \u001b[38;5;28;01melse\u001b[39;00m:\n\u001b[1;32m   1309\u001b[0m     ac \u001b[38;5;241m=\u001b[39m kwargs\u001b[38;5;241m.\u001b[39mpop(\u001b[38;5;124m\"\u001b[39m\u001b[38;5;124mautocommit\u001b[39m\u001b[38;5;124m\"\u001b[39m, \u001b[38;5;129;01mnot\u001b[39;00m \u001b[38;5;28mself\u001b[39m\u001b[38;5;241m.\u001b[39m_intrans)\n\u001b[0;32m-> 1310\u001b[0m     f \u001b[38;5;241m=\u001b[39m \u001b[38;5;28;43mself\u001b[39;49m\u001b[38;5;241;43m.\u001b[39;49m\u001b[43m_open\u001b[49m\u001b[43m(\u001b[49m\n\u001b[1;32m   1311\u001b[0m \u001b[43m        \u001b[49m\u001b[43mpath\u001b[49m\u001b[43m,\u001b[49m\n\u001b[1;32m   1312\u001b[0m \u001b[43m        \u001b[49m\u001b[43mmode\u001b[49m\u001b[38;5;241;43m=\u001b[39;49m\u001b[43mmode\u001b[49m\u001b[43m,\u001b[49m\n\u001b[1;32m   1313\u001b[0m \u001b[43m        \u001b[49m\u001b[43mblock_size\u001b[49m\u001b[38;5;241;43m=\u001b[39;49m\u001b[43mblock_size\u001b[49m\u001b[43m,\u001b[49m\n\u001b[1;32m   1314\u001b[0m \u001b[43m        \u001b[49m\u001b[43mautocommit\u001b[49m\u001b[38;5;241;43m=\u001b[39;49m\u001b[43mac\u001b[49m\u001b[43m,\u001b[49m\n\u001b[1;32m   1315\u001b[0m \u001b[43m        \u001b[49m\u001b[43mcache_options\u001b[49m\u001b[38;5;241;43m=\u001b[39;49m\u001b[43mcache_options\u001b[49m\u001b[43m,\u001b[49m\n\u001b[1;32m   1316\u001b[0m \u001b[43m        \u001b[49m\u001b[38;5;241;43m*\u001b[39;49m\u001b[38;5;241;43m*\u001b[39;49m\u001b[43mkwargs\u001b[49m\u001b[43m,\u001b[49m\n\u001b[1;32m   1317\u001b[0m \u001b[43m    \u001b[49m\u001b[43m)\u001b[49m\n\u001b[1;32m   1318\u001b[0m     \u001b[38;5;28;01mif\u001b[39;00m compression \u001b[38;5;129;01mis\u001b[39;00m \u001b[38;5;129;01mnot\u001b[39;00m \u001b[38;5;28;01mNone\u001b[39;00m:\n\u001b[1;32m   1319\u001b[0m         \u001b[38;5;28;01mfrom\u001b[39;00m\u001b[38;5;250m \u001b[39m\u001b[38;5;21;01mfsspec\u001b[39;00m\u001b[38;5;21;01m.\u001b[39;00m\u001b[38;5;21;01mcompression\u001b[39;00m\u001b[38;5;250m \u001b[39m\u001b[38;5;28;01mimport\u001b[39;00m compr\n",
      "File \u001b[0;32m/opt/homebrew/Caskroom/miniforge/base/envs/deep/lib/python3.9/site-packages/fsspec/implementations/local.py:200\u001b[0m, in \u001b[0;36mLocalFileSystem._open\u001b[0;34m(self, path, mode, block_size, **kwargs)\u001b[0m\n\u001b[1;32m    198\u001b[0m \u001b[38;5;28;01mif\u001b[39;00m \u001b[38;5;28mself\u001b[39m\u001b[38;5;241m.\u001b[39mauto_mkdir \u001b[38;5;129;01mand\u001b[39;00m \u001b[38;5;124m\"\u001b[39m\u001b[38;5;124mw\u001b[39m\u001b[38;5;124m\"\u001b[39m \u001b[38;5;129;01min\u001b[39;00m mode:\n\u001b[1;32m    199\u001b[0m     \u001b[38;5;28mself\u001b[39m\u001b[38;5;241m.\u001b[39mmakedirs(\u001b[38;5;28mself\u001b[39m\u001b[38;5;241m.\u001b[39m_parent(path), exist_ok\u001b[38;5;241m=\u001b[39m\u001b[38;5;28;01mTrue\u001b[39;00m)\n\u001b[0;32m--> 200\u001b[0m \u001b[38;5;28;01mreturn\u001b[39;00m \u001b[43mLocalFileOpener\u001b[49m\u001b[43m(\u001b[49m\u001b[43mpath\u001b[49m\u001b[43m,\u001b[49m\u001b[43m \u001b[49m\u001b[43mmode\u001b[49m\u001b[43m,\u001b[49m\u001b[43m \u001b[49m\u001b[43mfs\u001b[49m\u001b[38;5;241;43m=\u001b[39;49m\u001b[38;5;28;43mself\u001b[39;49m\u001b[43m,\u001b[49m\u001b[43m \u001b[49m\u001b[38;5;241;43m*\u001b[39;49m\u001b[38;5;241;43m*\u001b[39;49m\u001b[43mkwargs\u001b[49m\u001b[43m)\u001b[49m\n",
      "File \u001b[0;32m/opt/homebrew/Caskroom/miniforge/base/envs/deep/lib/python3.9/site-packages/fsspec/implementations/local.py:364\u001b[0m, in \u001b[0;36mLocalFileOpener.__init__\u001b[0;34m(self, path, mode, autocommit, fs, compression, **kwargs)\u001b[0m\n\u001b[1;32m    362\u001b[0m \u001b[38;5;28mself\u001b[39m\u001b[38;5;241m.\u001b[39mcompression \u001b[38;5;241m=\u001b[39m get_compression(path, compression)\n\u001b[1;32m    363\u001b[0m \u001b[38;5;28mself\u001b[39m\u001b[38;5;241m.\u001b[39mblocksize \u001b[38;5;241m=\u001b[39m io\u001b[38;5;241m.\u001b[39mDEFAULT_BUFFER_SIZE\n\u001b[0;32m--> 364\u001b[0m \u001b[38;5;28;43mself\u001b[39;49m\u001b[38;5;241;43m.\u001b[39;49m\u001b[43m_open\u001b[49m\u001b[43m(\u001b[49m\u001b[43m)\u001b[49m\n",
      "File \u001b[0;32m/opt/homebrew/Caskroom/miniforge/base/envs/deep/lib/python3.9/site-packages/fsspec/implementations/local.py:369\u001b[0m, in \u001b[0;36mLocalFileOpener._open\u001b[0;34m(self)\u001b[0m\n\u001b[1;32m    367\u001b[0m \u001b[38;5;28;01mif\u001b[39;00m \u001b[38;5;28mself\u001b[39m\u001b[38;5;241m.\u001b[39mf \u001b[38;5;129;01mis\u001b[39;00m \u001b[38;5;28;01mNone\u001b[39;00m \u001b[38;5;129;01mor\u001b[39;00m \u001b[38;5;28mself\u001b[39m\u001b[38;5;241m.\u001b[39mf\u001b[38;5;241m.\u001b[39mclosed:\n\u001b[1;32m    368\u001b[0m     \u001b[38;5;28;01mif\u001b[39;00m \u001b[38;5;28mself\u001b[39m\u001b[38;5;241m.\u001b[39mautocommit \u001b[38;5;129;01mor\u001b[39;00m \u001b[38;5;124m\"\u001b[39m\u001b[38;5;124mw\u001b[39m\u001b[38;5;124m\"\u001b[39m \u001b[38;5;129;01mnot\u001b[39;00m \u001b[38;5;129;01min\u001b[39;00m \u001b[38;5;28mself\u001b[39m\u001b[38;5;241m.\u001b[39mmode:\n\u001b[0;32m--> 369\u001b[0m         \u001b[38;5;28mself\u001b[39m\u001b[38;5;241m.\u001b[39mf \u001b[38;5;241m=\u001b[39m \u001b[38;5;28;43mopen\u001b[39;49m\u001b[43m(\u001b[49m\u001b[38;5;28;43mself\u001b[39;49m\u001b[38;5;241;43m.\u001b[39;49m\u001b[43mpath\u001b[49m\u001b[43m,\u001b[49m\u001b[43m \u001b[49m\u001b[43mmode\u001b[49m\u001b[38;5;241;43m=\u001b[39;49m\u001b[38;5;28;43mself\u001b[39;49m\u001b[38;5;241;43m.\u001b[39;49m\u001b[43mmode\u001b[49m\u001b[43m)\u001b[49m\n\u001b[1;32m    370\u001b[0m         \u001b[38;5;28;01mif\u001b[39;00m \u001b[38;5;28mself\u001b[39m\u001b[38;5;241m.\u001b[39mcompression:\n\u001b[1;32m    371\u001b[0m             compress \u001b[38;5;241m=\u001b[39m compr[\u001b[38;5;28mself\u001b[39m\u001b[38;5;241m.\u001b[39mcompression]\n",
      "\u001b[0;31mFileNotFoundError\u001b[0m: [Errno 2] No such file or directory: '/Users/svlg/MasterThesis/v02/data/QM9/qm9_train_data.pt'"
     ]
    }
   ],
   "source": [
    "data_root = osp.join('/Users/svlg/MasterThesis/v02/data/QM9')\n",
    "train_dataset = QM9(data_root)\n",
    "train_dataset.load(osp.join(data_root, 'qm9_train_data.pt'))\n",
    "train_loader = DataLoader(train_dataset, batch_size=args['batch_size'], shuffle=True)\n",
    "val_dataset = QM9(data_root)\n",
    "val_dataset.load(osp.join(data_root, 'qm9_val_data.pt'))\n",
    "val_loader = DataLoader(val_dataset, batch_size=args['batch_size'], shuffle=False)\n",
    "test_dataset = QM9(data_root)\n",
    "test_dataset.load(osp.join(data_root, 'qm9_test_data.pt'))\n",
    "test_loader = DataLoader(test_dataset, batch_size=args['batch_size'], shuffle=False)"
   ]
  },
  {
   "cell_type": "code",
   "execution_count": null,
   "metadata": {},
   "outputs": [],
   "source": [
    "for batch_data in train_loader:\n",
    "    print(batch_data)\n",
    "    break\n",
    "\n",
    "qm9_data = batch_data.to_data_list()\n",
    "qm9_smiles = [data.smiles for data in qm9_data]"
   ]
  },
  {
   "cell_type": "code",
   "execution_count": 15,
   "metadata": {},
   "outputs": [],
   "source": [
    "from rdkit import Chem\n",
    "from rdkit.Geometry.rdGeometry import Point3D\n",
    "bond_type_map = [Chem.rdchem.BondType.SINGLE, Chem.rdchem.BondType.DOUBLE, Chem.rdchem.BondType.TRIPLE, Chem.rdchem.BondType.AROMATIC]"
   ]
  },
  {
   "cell_type": "code",
   "execution_count": null,
   "metadata": {},
   "outputs": [],
   "source": [
    "def pyg_to_rdmol(positions, atom_types, bond_src_idxs, bond_dst_idxs, bond_types):\n",
    "    \"\"\"Builds a rdkit molecule from the given atom and bond information.\"\"\"\n",
    "    # create a rdkit molecule and add atoms to it\n",
    "    mol = Chem.RWMol()\n",
    "    for atom_type in atom_types:\n",
    "        a = Chem.Atom(int(atom_type))\n",
    "        mol.AddAtom(a)\n",
    "\n",
    "    # add bonds to rdkit molecule\n",
    "    visited = set()\n",
    "    for bond_type, src_idx, dst_idx in zip(bond_types, bond_src_idxs, bond_dst_idxs):\n",
    "        src_idx = int(src_idx)\n",
    "        dst_idx = int(dst_idx)\n",
    "        if (src_idx, dst_idx) in visited or (dst_idx, src_idx) in visited:\n",
    "            continue\n",
    "        mol.AddBond(src_idx, dst_idx, bond_type_map[bond_type])\n",
    "        visited.add((src_idx, dst_idx))\n",
    "\n",
    "    try:\n",
    "        mol = mol.GetMol()\n",
    "    except Chem.KekulizeException:\n",
    "        return None\n",
    "\n",
    "    # Set coordinates\n",
    "    conf = Chem.Conformer(mol.GetNumAtoms())\n",
    "    for i in range(mol.GetNumAtoms()):\n",
    "        x, y, z = positions[i]\n",
    "        x, y, z = float(x), float(y), float(z)\n",
    "        conf.SetAtomPosition(i, Point3D(x,y,z))\n",
    "    mol.AddConformer(conf)\n",
    "\n",
    "    return mol"
   ]
  },
  {
   "cell_type": "code",
   "execution_count": null,
   "metadata": {},
   "outputs": [],
   "source": [
    "qm9_rdkit_mols = []\n",
    "for data in qm9_data:\n",
    "    mol = pyg_to_rdmol(data.pos, data.z.tolist(), data.edge_index[0].tolist(), data.edge_index[1].tolist(), torch.argmax(data.edge_attr, dim=1))\n",
    "    qm9_rdkit_mols.append(mol)"
   ]
  },
  {
   "cell_type": "code",
   "execution_count": null,
   "metadata": {},
   "outputs": [],
   "source": [
    "def show_mol(index):\n",
    "    import py3Dmol\n",
    "\n",
    "    pdb_block = Chem.MolToMolBlock(qm9_rdkit_mols[index])\n",
    "\n",
    "    # Visualize using py3Dmol\n",
    "    viewer = py3Dmol.view(width=250, height=250)\n",
    "    viewer.addModel(pdb_block, \"mol\")\n",
    "    viewer.setStyle({\"stick\": {}, \"sphere\": {\"scale\": 0.3}})\n",
    "    viewer.zoomTo()\n",
    "    viewer.show()\n",
    "\n",
    "show_mol(50)"
   ]
  },
  {
   "cell_type": "markdown",
   "metadata": {},
   "source": [
    "#### Sampling"
   ]
  },
  {
   "cell_type": "code",
   "execution_count": 9,
   "metadata": {},
   "outputs": [],
   "source": [
    "import flowmol"
   ]
  },
  {
   "cell_type": "code",
   "execution_count": 10,
   "metadata": {},
   "outputs": [
    {
     "data": {
      "text/plain": [
       "FlowMol(\n",
       "  (interpolant_scheduler): InterpolantScheduler()\n",
       "  (vector_field): CTMCVectorField(\n",
       "    (interpolant_scheduler): InterpolantScheduler()\n",
       "    (scalar_embedding): Sequential(\n",
       "      (0): Linear(in_features=14, out_features=256, bias=True)\n",
       "      (1): SiLU()\n",
       "      (2): Linear(in_features=256, out_features=256, bias=True)\n",
       "      (3): SiLU()\n",
       "      (4): LayerNorm((256,), eps=1e-05, elementwise_affine=True)\n",
       "    )\n",
       "    (edge_embedding): Sequential(\n",
       "      (0): Linear(in_features=6, out_features=128, bias=True)\n",
       "      (1): SiLU()\n",
       "      (2): Linear(in_features=128, out_features=128, bias=True)\n",
       "      (3): SiLU()\n",
       "      (4): LayerNorm((128,), eps=1e-05, elementwise_affine=True)\n",
       "    )\n",
       "    (conv_layers): ModuleList(\n",
       "      (0-7): 8 x GVPConv(\n",
       "        (edge_message): Sequential(\n",
       "          (0): GVP(\n",
       "            (vectors_activation): Sigmoid()\n",
       "            (to_feats_out): Sequential(\n",
       "              (0): Linear(in_features=437, out_features=256, bias=True)\n",
       "              (1): SiLU()\n",
       "            )\n",
       "            (scalar_to_vector_gates): Linear(in_features=256, out_features=16, bias=True)\n",
       "          )\n",
       "          (1): GVP(\n",
       "            (vectors_activation): Sigmoid()\n",
       "            (to_feats_out): Sequential(\n",
       "              (0): Linear(in_features=276, out_features=256, bias=True)\n",
       "              (1): SiLU()\n",
       "            )\n",
       "            (scalar_to_vector_gates): Linear(in_features=256, out_features=16, bias=True)\n",
       "          )\n",
       "          (2): GVP(\n",
       "            (vectors_activation): Sigmoid()\n",
       "            (to_feats_out): Sequential(\n",
       "              (0): Linear(in_features=276, out_features=256, bias=True)\n",
       "              (1): SiLU()\n",
       "            )\n",
       "            (scalar_to_vector_gates): Linear(in_features=256, out_features=16, bias=True)\n",
       "          )\n",
       "        )\n",
       "        (node_update): Sequential(\n",
       "          (0): GVP(\n",
       "            (vectors_activation): Sigmoid()\n",
       "            (to_feats_out): Sequential(\n",
       "              (0): Linear(in_features=276, out_features=256, bias=True)\n",
       "              (1): SiLU()\n",
       "            )\n",
       "            (scalar_to_vector_gates): Linear(in_features=256, out_features=16, bias=True)\n",
       "          )\n",
       "          (1): GVP(\n",
       "            (vectors_activation): Sigmoid()\n",
       "            (to_feats_out): Sequential(\n",
       "              (0): Linear(in_features=276, out_features=256, bias=True)\n",
       "              (1): SiLU()\n",
       "            )\n",
       "            (scalar_to_vector_gates): Linear(in_features=256, out_features=16, bias=True)\n",
       "          )\n",
       "          (2): GVP(\n",
       "            (vectors_activation): Sigmoid()\n",
       "            (to_feats_out): Sequential(\n",
       "              (0): Linear(in_features=276, out_features=256, bias=True)\n",
       "              (1): SiLU()\n",
       "            )\n",
       "            (scalar_to_vector_gates): Linear(in_features=256, out_features=16, bias=True)\n",
       "          )\n",
       "        )\n",
       "        (dropout): GVPDropout(\n",
       "          (vector_dropout): _VDropout()\n",
       "          (feat_dropout): Dropout(p=0.0, inplace=False)\n",
       "        )\n",
       "        (message_layer_norm): GVPLayerNorm(\n",
       "          (feat_norm): LayerNorm((256,), eps=1e-05, elementwise_affine=True)\n",
       "        )\n",
       "        (update_layer_norm): GVPLayerNorm(\n",
       "          (feat_norm): LayerNorm((256,), eps=1e-05, elementwise_affine=True)\n",
       "        )\n",
       "      )\n",
       "    )\n",
       "    (node_position_updaters): ModuleList(\n",
       "      (0-7): 8 x NodePositionUpdate(\n",
       "        (gvps): Sequential(\n",
       "          (0): GVP(\n",
       "            (vectors_activation): Sigmoid()\n",
       "            (to_feats_out): Sequential(\n",
       "              (0): Linear(in_features=276, out_features=256, bias=True)\n",
       "              (1): SiLU()\n",
       "            )\n",
       "            (scalar_to_vector_gates): Linear(in_features=256, out_features=16, bias=True)\n",
       "          )\n",
       "          (1): GVP(\n",
       "            (vectors_activation): Sigmoid()\n",
       "            (to_feats_out): Sequential(\n",
       "              (0): Linear(in_features=276, out_features=256, bias=True)\n",
       "              (1): SiLU()\n",
       "            )\n",
       "            (scalar_to_vector_gates): Linear(in_features=256, out_features=16, bias=True)\n",
       "          )\n",
       "          (2): GVP(\n",
       "            (vectors_activation): Identity()\n",
       "            (to_feats_out): Sequential(\n",
       "              (0): Linear(in_features=276, out_features=256, bias=True)\n",
       "              (1): SiLU()\n",
       "            )\n",
       "            (scalar_to_vector_gates): Linear(in_features=256, out_features=1, bias=True)\n",
       "          )\n",
       "        )\n",
       "      )\n",
       "    )\n",
       "    (edge_updaters): ModuleList(\n",
       "      (0-7): 8 x EdgeUpdate(\n",
       "        (edge_update_fn): Sequential(\n",
       "          (0): Linear(in_features=672, out_features=128, bias=True)\n",
       "          (1): SiLU()\n",
       "          (2): Linear(in_features=128, out_features=128, bias=True)\n",
       "          (3): SiLU()\n",
       "        )\n",
       "        (edge_norm): LayerNorm((128,), eps=1e-05, elementwise_affine=True)\n",
       "      )\n",
       "    )\n",
       "    (node_output_head): Sequential(\n",
       "      (0): Linear(in_features=256, out_features=256, bias=True)\n",
       "      (1): SiLU()\n",
       "      (2): Linear(in_features=256, out_features=11, bias=True)\n",
       "    )\n",
       "    (to_edge_logits): Sequential(\n",
       "      (0): Linear(in_features=128, out_features=128, bias=True)\n",
       "      (1): SiLU()\n",
       "      (2): Linear(in_features=128, out_features=5, bias=True)\n",
       "    )\n",
       "  )\n",
       ")"
      ]
     },
     "execution_count": 10,
     "metadata": {},
     "output_type": "execute_result"
    }
   ],
   "source": [
    "model = flowmol.load_pretrained(args['model'])\n",
    "model = model.to(args['device'])\n",
    "model.eval()"
   ]
  },
  {
   "cell_type": "code",
   "execution_count": 12,
   "metadata": {},
   "outputs": [
    {
     "name": "stdout",
     "output_type": "stream",
     "text": [
      "Sampling 1000 molecules...\n"
     ]
    }
   ],
   "source": [
    "n_molecules = 50\n",
    "n_timesteps = 101\n",
    "print(f\"Sampling {n_molecules} molecules...\")\n",
    "generated_molecules = model.sample_random_sizes(n_molecules=n_molecules, n_timesteps=n_timesteps, device=args['device'])"
   ]
  },
  {
   "cell_type": "code",
   "execution_count": 13,
   "metadata": {},
   "outputs": [],
   "source": [
    "gen_rdkit_mols = []\n",
    "gen_smiles = []\n",
    "for mol in generated_molecules:\n",
    "    gen_rdkit_mols.append(mol.rdkit_mol)\n",
    "    gen_smiles.append(mol.smiles)"
   ]
  },
  {
   "cell_type": "code",
   "execution_count": 21,
   "metadata": {},
   "outputs": [
    {
     "data": {
      "application/3dmoljs_load.v0": "<div id=\"3dmolviewer_1751014640426347\"  style=\"position: relative; width: 500px; height: 500px;\">\n        <p id=\"3dmolwarning_1751014640426347\" style=\"background-color:#ffcccc;color:black\">3Dmol.js failed to load for some reason.  Please check your browser console for error messages.<br></p>\n        </div>\n<script>\n\nvar loadScriptAsync = function(uri){\n  return new Promise((resolve, reject) => {\n    //this is to ignore the existence of requirejs amd\n    var savedexports, savedmodule;\n    if (typeof exports !== 'undefined') savedexports = exports;\n    else exports = {}\n    if (typeof module !== 'undefined') savedmodule = module;\n    else module = {}\n\n    var tag = document.createElement('script');\n    tag.src = uri;\n    tag.async = true;\n    tag.onload = () => {\n        exports = savedexports;\n        module = savedmodule;\n        resolve();\n    };\n  var firstScriptTag = document.getElementsByTagName('script')[0];\n  firstScriptTag.parentNode.insertBefore(tag, firstScriptTag);\n});\n};\n\nif(typeof $3Dmolpromise === 'undefined') {\n$3Dmolpromise = null;\n  $3Dmolpromise = loadScriptAsync('https://cdnjs.cloudflare.com/ajax/libs/3Dmol/2.4.2/3Dmol-min.js');\n}\n\nvar viewer_1751014640426347 = null;\nvar warn = document.getElementById(\"3dmolwarning_1751014640426347\");\nif(warn) {\n    warn.parentNode.removeChild(warn);\n}\n$3Dmolpromise.then(function() {\nviewer_1751014640426347 = $3Dmol.createViewer(document.getElementById(\"3dmolviewer_1751014640426347\"),{backgroundColor:\"white\"});\nviewer_1751014640426347.zoomTo();\n\tviewer_1751014640426347.addModel(\"\\n     RDKit          3D\\n\\n 15 17  0  0  0  0  0  0  0  0999 V2000\\n   -1.6084   -1.9476    0.1700 H   0  0  0  0  0  0  0  0  0  0  0  0\\n    1.8211   -0.1369    2.0022 O   0  0  0  0  0  0  0  0  0  0  0  0\\n    1.9841    0.1358   -0.8513 H   0  0  0  0  0  0  0  0  0  0  0  0\\n   -1.1350    0.8152    0.2139 N   0  0  0  0  0  0  0  0  0  0  0  0\\n   -0.8848   -0.4303    2.0477 H   0  0  0  0  0  0  0  0  0  0  0  0\\n   -0.0837    0.9720   -0.8193 C   0  0  0  0  0  0  0  0  0  0  0  0\\n   -1.0876   -0.1259   -0.9474 C   0  0  0  0  0  0  0  0  0  0  0  0\\n    1.0259    0.1048    1.1051 C   0  0  0  0  0  0  0  0  0  0  0  0\\n   -1.8535   -0.1097   -1.7354 H   0  0  0  0  0  0  0  0  0  0  0  0\\n    1.3238    0.7699   -0.2300 C   0  0  0  0  0  0  0  0  0  0  0  0\\n    0.0740   -1.9907   -0.3817 H   0  0  0  0  0  0  0  0  0  0  0  0\\n   -0.4562   -0.2739    1.0553 C   0  0  0  0  0  0  0  0  0  0  0  0\\n    1.8511    1.7195   -0.0768 H   0  0  0  0  0  0  0  0  0  0  0  0\\n   -0.2291    1.8288   -1.4797 H   0  0  0  0  0  0  0  0  0  0  0  0\\n   -0.7418   -1.3307   -0.0727 C   0  0  0  0  0  0  0  0  0  0  0  0\\n  1 15  1  0\\n  2  8  2  0\\n  3 10  1  0\\n  4  6  1  0\\n  4  7  1  0\\n  4 12  1  0\\n  5 12  1  0\\n  6  7  1  0\\n  6 10  1  0\\n  6 14  1  0\\n  7  9  1  0\\n  7 15  1  0\\n  8 10  1  0\\n  8 12  1  0\\n 10 13  1  0\\n 11 15  1  0\\n 12 15  1  0\\nM  CHG  1   4   1\\nM  END\\n\",\"mol\");\n\tviewer_1751014640426347.setStyle({\"stick\": {}, \"sphere\": {\"scale\": 0.3}});\n\tviewer_1751014640426347.zoomTo();\nviewer_1751014640426347.render();\n});\n</script>",
      "text/html": [
       "<div id=\"3dmolviewer_1751014640426347\"  style=\"position: relative; width: 500px; height: 500px;\">\n",
       "        <p id=\"3dmolwarning_1751014640426347\" style=\"background-color:#ffcccc;color:black\">3Dmol.js failed to load for some reason.  Please check your browser console for error messages.<br></p>\n",
       "        </div>\n",
       "<script>\n",
       "\n",
       "var loadScriptAsync = function(uri){\n",
       "  return new Promise((resolve, reject) => {\n",
       "    //this is to ignore the existence of requirejs amd\n",
       "    var savedexports, savedmodule;\n",
       "    if (typeof exports !== 'undefined') savedexports = exports;\n",
       "    else exports = {}\n",
       "    if (typeof module !== 'undefined') savedmodule = module;\n",
       "    else module = {}\n",
       "\n",
       "    var tag = document.createElement('script');\n",
       "    tag.src = uri;\n",
       "    tag.async = true;\n",
       "    tag.onload = () => {\n",
       "        exports = savedexports;\n",
       "        module = savedmodule;\n",
       "        resolve();\n",
       "    };\n",
       "  var firstScriptTag = document.getElementsByTagName('script')[0];\n",
       "  firstScriptTag.parentNode.insertBefore(tag, firstScriptTag);\n",
       "});\n",
       "};\n",
       "\n",
       "if(typeof $3Dmolpromise === 'undefined') {\n",
       "$3Dmolpromise = null;\n",
       "  $3Dmolpromise = loadScriptAsync('https://cdnjs.cloudflare.com/ajax/libs/3Dmol/2.4.2/3Dmol-min.js');\n",
       "}\n",
       "\n",
       "var viewer_1751014640426347 = null;\n",
       "var warn = document.getElementById(\"3dmolwarning_1751014640426347\");\n",
       "if(warn) {\n",
       "    warn.parentNode.removeChild(warn);\n",
       "}\n",
       "$3Dmolpromise.then(function() {\n",
       "viewer_1751014640426347 = $3Dmol.createViewer(document.getElementById(\"3dmolviewer_1751014640426347\"),{backgroundColor:\"white\"});\n",
       "viewer_1751014640426347.zoomTo();\n",
       "\tviewer_1751014640426347.addModel(\"\\n     RDKit          3D\\n\\n 15 17  0  0  0  0  0  0  0  0999 V2000\\n   -1.6084   -1.9476    0.1700 H   0  0  0  0  0  0  0  0  0  0  0  0\\n    1.8211   -0.1369    2.0022 O   0  0  0  0  0  0  0  0  0  0  0  0\\n    1.9841    0.1358   -0.8513 H   0  0  0  0  0  0  0  0  0  0  0  0\\n   -1.1350    0.8152    0.2139 N   0  0  0  0  0  0  0  0  0  0  0  0\\n   -0.8848   -0.4303    2.0477 H   0  0  0  0  0  0  0  0  0  0  0  0\\n   -0.0837    0.9720   -0.8193 C   0  0  0  0  0  0  0  0  0  0  0  0\\n   -1.0876   -0.1259   -0.9474 C   0  0  0  0  0  0  0  0  0  0  0  0\\n    1.0259    0.1048    1.1051 C   0  0  0  0  0  0  0  0  0  0  0  0\\n   -1.8535   -0.1097   -1.7354 H   0  0  0  0  0  0  0  0  0  0  0  0\\n    1.3238    0.7699   -0.2300 C   0  0  0  0  0  0  0  0  0  0  0  0\\n    0.0740   -1.9907   -0.3817 H   0  0  0  0  0  0  0  0  0  0  0  0\\n   -0.4562   -0.2739    1.0553 C   0  0  0  0  0  0  0  0  0  0  0  0\\n    1.8511    1.7195   -0.0768 H   0  0  0  0  0  0  0  0  0  0  0  0\\n   -0.2291    1.8288   -1.4797 H   0  0  0  0  0  0  0  0  0  0  0  0\\n   -0.7418   -1.3307   -0.0727 C   0  0  0  0  0  0  0  0  0  0  0  0\\n  1 15  1  0\\n  2  8  2  0\\n  3 10  1  0\\n  4  6  1  0\\n  4  7  1  0\\n  4 12  1  0\\n  5 12  1  0\\n  6  7  1  0\\n  6 10  1  0\\n  6 14  1  0\\n  7  9  1  0\\n  7 15  1  0\\n  8 10  1  0\\n  8 12  1  0\\n 10 13  1  0\\n 11 15  1  0\\n 12 15  1  0\\nM  CHG  1   4   1\\nM  END\\n\",\"mol\");\n",
       "\tviewer_1751014640426347.setStyle({\"stick\": {}, \"sphere\": {\"scale\": 0.3}});\n",
       "\tviewer_1751014640426347.zoomTo();\n",
       "viewer_1751014640426347.render();\n",
       "});\n",
       "</script>"
      ]
     },
     "metadata": {},
     "output_type": "display_data"
    }
   ],
   "source": [
    "def show_mol(index):\n",
    "    import py3Dmol\n",
    "\n",
    "    pdb_block = Chem.MolToMolBlock(gen_rdkit_mols[index])\n",
    "\n",
    "    # Visualize using py3Dmol\n",
    "    viewer = py3Dmol.view(width=500, height=500)\n",
    "    viewer.addModel(pdb_block, \"mol\")\n",
    "    viewer.setStyle({\"stick\": {}, \"sphere\": {\"scale\": 0.3}})\n",
    "    viewer.zoomTo()\n",
    "    viewer.show()\n",
    "\n",
    "show_mol(50)"
   ]
  },
  {
   "cell_type": "code",
   "execution_count": 17,
   "metadata": {},
   "outputs": [],
   "source": [
    "from rdkit import Chem\n",
    "from rdkit.Chem import Draw\n",
    "\n",
    "mol = gen_rdkit_mols[50]\n",
    "drawer = Draw.MolDraw2DSVG(400, 400)  # width x height in pixels\n",
    "drawer.DrawMolecule(mol)\n",
    "drawer.FinishDrawing()\n",
    "\n",
    "# Save to .svg file\n",
    "with open(\"mol_50.svg\", \"w\") as f:\n",
    "    f.write(drawer.GetDrawingText())\n"
   ]
  },
  {
   "cell_type": "markdown",
   "metadata": {},
   "source": [
    "#### Constrains"
   ]
  },
  {
   "cell_type": "code",
   "execution_count": null,
   "metadata": {},
   "outputs": [],
   "source": [
    "class Constrains:\n",
    "    def __init__(self,\n",
    "                 use_sa_score: bool = False,\n",
    "                 use_aizynth_finder: bool = False,\n",
    "                 use_fs_score: bool = False,\n",
    "                 use_ra_score: bool = False,\n",
    "                 use_posebuster: bool = False,\n",
    "                 pretrained_models_path: str = \"/Users/svlg/MasterThesis/v02/pretrained_models/\",):\n",
    "\n",
    "        self.use_sa_score = use_sa_score\n",
    "        self.use_aizynth_finder = use_aizynth_finder\n",
    "        self.use_fs_score = use_fs_score\n",
    "        self.use_ra_score = use_ra_score\n",
    "        self.use_posebuster = use_posebuster\n",
    "        self.pretrained_models_path = pretrained_models_path\n",
    "\n",
    "        if not (self.use_sa_score or self.use_aizynth_finder or self.use_fs_score or self.use_ra_score or self.use_posebuster):\n",
    "            print(\"No scoring function selected. Please select at least one scoring function.\")\n",
    "\n",
    "        if self.use_sa_score:\n",
    "            from molscore.scoring_functions.SA_Score import sascorer\n",
    "            self.sascorer = sascorer\n",
    "\n",
    "        if self.use_aizynth_finder:\n",
    "            from molscore.scoring_functions.aizynthfinder import AiZynthFinder\n",
    "            self.aizynth_finder = AiZynthFinder(filter_policy=None)\n",
    "\n",
    "        if self.use_fs_score:\n",
    "            from fsscore.score import Scorer\n",
    "            from fsscore.models.ranknet import LitRankNet\n",
    "            fs_score_model_path = \"/FSscore/pretrain_graph_GGLGGL_ep242_best_valloss.ckpt\"\n",
    "            model_path = self.pretrained_models_path + fs_score_model_path\n",
    "            model = LitRankNet.load_from_checkpoint(model_path)\n",
    "            model.to(\"cpu\")\n",
    "            model.eval()\n",
    "            self.fc_scorer = Scorer(model=model, device=\"cpu\")\n",
    "\n",
    "        if self.use_ra_score:\n",
    "            from molscore.scoring_functions.rascore_xgb import RAScore_XGB\n",
    "            self.ra_scorer = RAScore_XGB(model = \"GDB\")\n",
    "\n",
    "        if self.use_posebuster:\n",
    "            from posebusters import PoseBusters\n",
    "            self.posebuster = PoseBusters(config=\"mol\")\n",
    "\n",
    "    def get_sa_score(self, tmp_list):\n",
    "        r\"\"\"Input: List of RDKit molecules\"\"\"\n",
    "        rt_list = []\n",
    "        for tmp in tmp_list:\n",
    "            Chem.GetSSSR(tmp)\n",
    "            Chem.SanitizeMol(tmp)\n",
    "            score = self.sascorer.calculateScore(tmp)\n",
    "            rt_list.append(score)\n",
    "        return rt_list\n",
    "\n",
    "    def get_aizynth_finder(self, tmp_list, directory='ai_finder_results', just_scores=True):\n",
    "        r\"\"\"Input: List of SMILES\"\"\"\n",
    "        tmp_list = self.aizynth_finder(tmp_list, directory)\n",
    "        if just_scores:\n",
    "            return [(tmp['AiZynth_is_solved'], tmp['AiZynth_top_score']) for tmp in tmp_list]\n",
    "        else:\n",
    "            return tmp_list\n",
    "\n",
    "    def get_fs_score(self, tmp_list):\n",
    "        r\"\"\"Input: List of SMILES\"\"\"\n",
    "        return self.fc_scorer.score(tmp_list)\n",
    "    \n",
    "    def get_ra_score(self, tmp_list):\n",
    "        r\"\"\"Input: List of SMILES\"\"\"\n",
    "        tmp_list = self.ra_scorer(tmp_list)\n",
    "        return [tmp['RAScore_pred_proba'] for tmp in tmp_list]\n",
    "    \n",
    "    def get_posebuster(self, tmp_list, full_report=False):\n",
    "        r\"\"\"Input: List of RDKit molecules\"\"\"\n",
    "        return self.posebuster.bust(tmp_list, None, None, full_report=full_report)\n",
    "\n",
    "    def score(self, tmp_list, scorer):\n",
    "        r\"\"\"Input: List of SMILES\"\"\"\n",
    "        rt_list = []\n",
    "        for tmp in tmp_list:\n",
    "            try:\n",
    "                rt_list.append(scorer([tmp]))\n",
    "            except:\n",
    "                rt_list.append(None)\n",
    "        return rt_list\n",
    "\n",
    "    def __call__(self, tmp_list):\n",
    "\n",
    "        r\"\"\"Input: List of Molecules\"\"\"\n",
    "        scores = dict()\n",
    "        if self.use_sa_score:\n",
    "            scores['sa_score'] = self.score(tmp_list, self.get_sa_score)\n",
    "        if self.use_aizynth_finder:\n",
    "            scores['aizynth_finder'] = self.score(tmp_list, self.get_aizynth_finder)\n",
    "        if self.use_fs_score:\n",
    "            scores['fs_score'] = self.score(tmp_list, self.get_fs_score)\n",
    "        if self.use_ra_score:\n",
    "            scores['ra_score'] = self.score(tmp_list, self.get_ra_score)\n",
    "        if self.use_posebuster:\n",
    "            scores['posebuster'] = self.score(tmp_list, self.get_posebuster)\n",
    "        return scores"
   ]
  },
  {
   "cell_type": "code",
   "execution_count": null,
   "metadata": {},
   "outputs": [],
   "source": [
    "# smiles_constrains = Constrains(use_sa_score=False, use_aizynth_finder=True, use_fs_score=True, use_ra_score=True, use_posebuster=False)\n",
    "# rdkit_constrains = Constrains(use_sa_score=True, use_aizynth_finder=False, use_fs_score=False, use_ra_score=False, use_posebuster=True)"
   ]
  },
  {
   "cell_type": "markdown",
   "metadata": {},
   "source": [
    "#### SA Score"
   ]
  },
  {
   "cell_type": "code",
   "execution_count": null,
   "metadata": {},
   "outputs": [],
   "source": [
    "sa_score_constrains = Constrains(use_sa_score=True)"
   ]
  },
  {
   "cell_type": "code",
   "execution_count": null,
   "metadata": {},
   "outputs": [],
   "source": [
    "qm9_sa_scores = sa_score_constrains(qm9_rdkit_mols)"
   ]
  },
  {
   "cell_type": "code",
   "execution_count": null,
   "metadata": {},
   "outputs": [],
   "source": [
    "gen_sa_scores = sa_score_constrains(gen_rdkit_mols)"
   ]
  },
  {
   "cell_type": "code",
   "execution_count": null,
   "metadata": {},
   "outputs": [],
   "source": [
    "sa_score_qm9 = np.array(qm9_sa_scores)\n",
    "sa_score_gen = np.array(gen_sa_scores)\n",
    "np.save(\"output/sa_score_qm9.npy\", sa_score_qm9)\n",
    "np.save(\"output/sa_score_gen.npy\", sa_score_gen)"
   ]
  },
  {
   "cell_type": "code",
   "execution_count": null,
   "metadata": {},
   "outputs": [],
   "source": [
    "import numpy as np\n",
    "import matplotlib.pyplot as plt\n",
    "\n",
    "# Define the number of bins (adjustable)\n",
    "num_bins = 30\n",
    "\n",
    "# Create the figure and axes for 3 subplots\n",
    "fig, ax = plt.subplots(1, 1, figsize=(15, 5), sharey=True, sharex=True)  # 1 row, 3 columns\n",
    "\n",
    "# Plot both histograms with overlay\n",
    "ax.hist(qm9_sa_scores, bins=num_bins, alpha=0.5, color='blue', label='QM9', edgecolor='black')\n",
    "ax.hist(gen_sa_scores, bins=num_bins, alpha=0.5, color='red', label='Gen', edgecolor='black')\n",
    "ax.set_title('SA Scores')\n",
    "ax.set_ylabel('Freq')\n",
    "ax.set_xlabel('Value')\n",
    "ax.legend()\n",
    "\n",
    "# Adjust layout for better spacing\n",
    "plt.tight_layout()\n",
    "plt.show()"
   ]
  },
  {
   "cell_type": "markdown",
   "metadata": {},
   "source": [
    "#### FS Score"
   ]
  },
  {
   "cell_type": "code",
   "execution_count": null,
   "metadata": {},
   "outputs": [],
   "source": [
    "fs_score_constrains = Constrains(use_fs_score=True)"
   ]
  },
  {
   "cell_type": "code",
   "execution_count": null,
   "metadata": {},
   "outputs": [],
   "source": [
    "qm9_fs_score = fs_score_constrains(qm9_smiles)\n",
    "gen_fs_score = fs_score_constrains(gen_smiles)"
   ]
  },
  {
   "cell_type": "code",
   "execution_count": null,
   "metadata": {},
   "outputs": [],
   "source": [
    "print(qm9_fs_score)"
   ]
  },
  {
   "cell_type": "code",
   "execution_count": null,
   "metadata": {},
   "outputs": [],
   "source": [
    "fs_score_qm9 = np.array(qm9_fs_score)\n",
    "fs_score_gen = np.array(gen_fs_score)\n",
    "np.save(\"output/fs_score_qm9.npy\", fs_score_qm9)\n",
    "np.save(\"output/fs_score_gen.npy\", fs_score_gen)"
   ]
  },
  {
   "cell_type": "markdown",
   "metadata": {},
   "source": [
    "#### RA Score"
   ]
  },
  {
   "cell_type": "code",
   "execution_count": null,
   "metadata": {},
   "outputs": [],
   "source": [
    "ra_score_constrains = Constrains(use_ra_score=True)"
   ]
  },
  {
   "cell_type": "code",
   "execution_count": null,
   "metadata": {},
   "outputs": [],
   "source": [
    "ra_score_qm9 = ra_score_constrains(qm9_smiles)\n",
    "ra_score_qm9 = np.array(ra_score_qm9)\n",
    "np.save(\"output/ra_score_qm9.npy\", ra_score_qm9)"
   ]
  },
  {
   "cell_type": "code",
   "execution_count": null,
   "metadata": {},
   "outputs": [],
   "source": [
    "ra_score_gen = ra_score_constrains(gen_smiles)\n",
    "ra_score_gen = np.array(ra_score_gen)\n",
    "np.save(\"output/ra_score_gen.npy\", ra_score_gen)"
   ]
  },
  {
   "cell_type": "markdown",
   "metadata": {},
   "source": [
    "#### Posebuster"
   ]
  },
  {
   "cell_type": "code",
   "execution_count": null,
   "metadata": {},
   "outputs": [],
   "source": [
    "posebuster_constrains = Constrains(use_posebuster=True)"
   ]
  },
  {
   "cell_type": "code",
   "execution_count": null,
   "metadata": {},
   "outputs": [],
   "source": [
    "pose_score_qm9 = posebuster_constrains.get_posebuster(qm9_rdkit_mols)\n",
    "pose_score_qm9 = np.array(pose_score_qm9)\n",
    "np.save(\"output/pose_score_qm9.npy\", pose_score_qm9)"
   ]
  },
  {
   "cell_type": "code",
   "execution_count": null,
   "metadata": {},
   "outputs": [],
   "source": [
    "pose_score_gen = posebuster_constrains.get_posebuster(gen_rdkit_mols)\n",
    "pose_score_gen = np.array(pose_score_gen)\n",
    "np.save(\"output/pose_score_gen.npy\", pose_score_gen)"
   ]
  },
  {
   "cell_type": "markdown",
   "metadata": {},
   "source": [
    "#### AiZynth Finder"
   ]
  },
  {
   "cell_type": "code",
   "execution_count": null,
   "metadata": {},
   "outputs": [],
   "source": [
    "aizynth_finder_constrains = Constrains(use_aizynth_finder=True)"
   ]
  },
  {
   "cell_type": "code",
   "execution_count": null,
   "metadata": {},
   "outputs": [],
   "source": [
    "aifinder_score_qm9 = aizynth_finder_constrains(qm9_smiles)\n",
    "aifinder_score_qm9 = np.array(aifinder_score_qm9)\n",
    "np.save(\"output/aifinder_score_qm9.npy\", aifinder_score_qm9)"
   ]
  },
  {
   "cell_type": "code",
   "execution_count": null,
   "metadata": {},
   "outputs": [],
   "source": [
    "aifinder_score_gen = aizynth_finder_constrains(gen_smiles)\n",
    "aifinder_score_gen = np.array(aifinder_score_gen)\n",
    "np.save(\"output/aifinder_score_gen.npy\", aifinder_score_gen)"
   ]
  },
  {
   "cell_type": "markdown",
   "metadata": {},
   "source": [
    "#### Plots"
   ]
  },
  {
   "cell_type": "code",
   "execution_count": null,
   "metadata": {},
   "outputs": [],
   "source": []
  },
  {
   "cell_type": "code",
   "execution_count": null,
   "metadata": {},
   "outputs": [],
   "source": []
  },
  {
   "cell_type": "code",
   "execution_count": null,
   "metadata": {},
   "outputs": [],
   "source": []
  },
  {
   "cell_type": "code",
   "execution_count": null,
   "metadata": {},
   "outputs": [],
   "source": []
  },
  {
   "cell_type": "markdown",
   "metadata": {},
   "source": [
    "#### RDKit Constrains"
   ]
  },
  {
   "cell_type": "code",
   "execution_count": null,
   "metadata": {},
   "outputs": [],
   "source": [
    "qm9_rdkit_constrains = rdkit_constrains(qm9_rdkit_mols[:10])"
   ]
  },
  {
   "cell_type": "code",
   "execution_count": null,
   "metadata": {},
   "outputs": [],
   "source": [
    "qm9_rdkit_constrains['sa_score']"
   ]
  },
  {
   "cell_type": "code",
   "execution_count": null,
   "metadata": {},
   "outputs": [],
   "source": [
    "qm9_rdkit_constrains['posebuster'][1]"
   ]
  },
  {
   "cell_type": "code",
   "execution_count": null,
   "metadata": {},
   "outputs": [],
   "source": [
    "gen_rdkit_constrains = rdkit_constrains(gen_rdkit_mols)"
   ]
  },
  {
   "cell_type": "code",
   "execution_count": null,
   "metadata": {},
   "outputs": [],
   "source": [
    "gen_rdkit_constrains"
   ]
  },
  {
   "cell_type": "code",
   "execution_count": null,
   "metadata": {},
   "outputs": [],
   "source": []
  },
  {
   "cell_type": "code",
   "execution_count": null,
   "metadata": {},
   "outputs": [],
   "source": []
  },
  {
   "cell_type": "markdown",
   "metadata": {},
   "source": [
    "#### XTB Simulation"
   ]
  },
  {
   "cell_type": "code",
   "execution_count": null,
   "metadata": {},
   "outputs": [],
   "source": [
    "from true_reward import xtb_simulation"
   ]
  },
  {
   "cell_type": "code",
   "execution_count": null,
   "metadata": {},
   "outputs": [],
   "source": [
    "#  Calculate the true reward\n",
    "for mol in qm9_data[:10]:\n",
    "    quantity_value = xtb_simulation.compute_true_reward(mol, \"pyg\", \"homolumo\")\n",
    "    homolumo_gap, lumo, homo = quantity_value\n",
    "    print(f\"HOMO-LUMO gap: {homolumo_gap:.4f} eV\")\n",
    "    print(f\"LUMO: {lumo} eV\\nHOMO: {homo} eV\")"
   ]
  },
  {
   "cell_type": "code",
   "execution_count": null,
   "metadata": {},
   "outputs": [],
   "source": [
    "#  Calculate the true reward\n",
    "for mol in generated_molecules:\n",
    "    quantity_value = xtb_simulation.compute_true_reward(mol.g, \"dgl\", \"homolumo\")\n",
    "    homolumo_gap, lumo, homo = quantity_value\n",
    "    print(f\"HOMO-LUMO gap: {homolumo_gap:.6f} eV\")\n",
    "    print(f\"LUMO: {lumo} eV\\nHOMO: {homo} eV\")"
   ]
  },
  {
   "cell_type": "markdown",
   "metadata": {},
   "source": [
    "#### Compare 1000 Molecules wrt there Homolumo Energy"
   ]
  },
  {
   "cell_type": "code",
   "execution_count": null,
   "metadata": {},
   "outputs": [],
   "source": [
    "qm9_gap = []\n",
    "qm9_homo_lumo = []\n",
    "for mol in qm9_data:\n",
    "    quantity_value = xtb_simulation.compute_true_reward(mol, \"pyg\", \"homolumo\")\n",
    "    gap, lumo, homo = quantity_value\n",
    "    qm9_gap.append(gap)\n",
    "    qm9_homo_lumo.append((lumo, homo))"
   ]
  },
  {
   "cell_type": "code",
   "execution_count": null,
   "metadata": {},
   "outputs": [],
   "source": [
    "qm9_gap = np.array(qm9_gap)\n",
    "qm9_homo_lumo = np.array(qm9_homo_lumo)\n",
    "np.save(\"qm9_gap.npy\", qm9_gap)\n",
    "np.save(\"qm9_homo_lumo.npy\", qm9_homo_lumo)"
   ]
  },
  {
   "cell_type": "code",
   "execution_count": null,
   "metadata": {},
   "outputs": [],
   "source": [
    "gen_gap = []\n",
    "gen_homo_lumo = []\n",
    "for i in range(100):\n",
    "    print(f\"Round {i+1} - Sampling {args['n_molecules']} molecules...\")\n",
    "    tmp_molecules = model.sample_random_sizes(n_molecules=args['n_molecules'], n_timesteps=args['n_timesteps'], device=args['device'])\n",
    "    for mol in tmp_molecules:\n",
    "        quantity_value = xtb_simulation.compute_true_reward(mol.g, \"dgl\", \"homolumo\")\n",
    "        gap, lumo, homo = quantity_value\n",
    "        gen_gap.append(gap)\n",
    "        gen_homo_lumo.append((lumo, homo))"
   ]
  },
  {
   "cell_type": "code",
   "execution_count": null,
   "metadata": {},
   "outputs": [],
   "source": [
    "gen_gap = np.array(gen_gap)\n",
    "gen_homo_lumo = np.array(gen_homo_lumo)\n",
    "np.save(\"gen_gap.npy\", gen_gap)\n",
    "np.save(\"gen_homo_lumo.npy\", gen_homo_lumo)"
   ]
  },
  {
   "cell_type": "markdown",
   "metadata": {},
   "source": [
    "#### Differentiable Reward"
   ]
  },
  {
   "cell_type": "code",
   "execution_count": null,
   "metadata": {},
   "outputs": [],
   "source": [
    "from PAMNet.models import PAMNet_s, Config"
   ]
  },
  {
   "cell_type": "code",
   "execution_count": null,
   "metadata": {},
   "outputs": [],
   "source": [
    "config = Config(dataset=args['dataset'], dim=args['dim'], n_layer=args['n_layer'], cutoff_l=args['cutoff_l'], cutoff_g=args['cutoff_g'])\n",
    "reward_model = PAMNet_s(config).to(args['device'])\n",
    "reward_model.eval()"
   ]
  },
  {
   "cell_type": "code",
   "execution_count": null,
   "metadata": {},
   "outputs": [],
   "source": [
    "targets = []\n",
    "for data in generated_molecules:\n",
    "    data = data.pyg_mol\n",
    "    data.pos.requires_grad_()\n",
    "    tmp = reward_model(data)\n",
    "    targets.append(tmp)\n",
    "    tmp.backward()\n",
    "    pos_grad = data.pos.grad\n",
    "print(len(targets))\n",
    "print(data.pos.shape)\n",
    "print(pos_grad.shape)"
   ]
  },
  {
   "cell_type": "markdown",
   "metadata": {},
   "source": [
    "#### Visualize the Molecules"
   ]
  },
  {
   "cell_type": "code",
   "execution_count": null,
   "metadata": {},
   "outputs": [],
   "source": [
    "import py3Dmol"
   ]
  },
  {
   "cell_type": "code",
   "execution_count": null,
   "metadata": {},
   "outputs": [],
   "source": [
    "# Convert RDKit Mol to PDB block\n",
    "pdb_blocks = []\n",
    "for mol in gen_rdkit_mols:\n",
    "    pdb_blocks.append(Chem.MolToMolBlock(mol))\n",
    "\n",
    "# Visualize using py3Dmol\n",
    "viewer = py3Dmol.view(width=600, height=600, viewergrid=(3, 3))\n",
    "viewer.addModel(pdb_blocks[0], \"mol\", viewer=(0, 0))\n",
    "viewer.addModel(pdb_blocks[1], \"mol\", viewer=(0, 1))\n",
    "viewer.addModel(pdb_blocks[2], \"mol\", viewer=(0, 2))\n",
    "viewer.addModel(pdb_blocks[3], \"mol\", viewer=(1, 0))\n",
    "viewer.addModel(pdb_blocks[4], \"mol\", viewer=(1, 1))\n",
    "viewer.addModel(pdb_blocks[5], \"mol\", viewer=(1, 2))\n",
    "viewer.addModel(pdb_blocks[6], \"mol\", viewer=(2, 0))\n",
    "viewer.addModel(pdb_blocks[7], \"mol\", viewer=(2, 1))\n",
    "viewer.addModel(pdb_blocks[8], \"mol\", viewer=(2, 2))\n",
    "viewer.setStyle({\"stick\": {}, \"sphere\": {\"scale\": 0.3}})\n",
    "viewer.zoomTo()\n",
    "viewer.show()"
   ]
  },
  {
   "cell_type": "code",
   "execution_count": null,
   "metadata": {},
   "outputs": [],
   "source": []
  }
 ],
 "metadata": {
  "kernelspec": {
   "display_name": "deep",
   "language": "python",
   "name": "python3"
  },
  "language_info": {
   "codemirror_mode": {
    "name": "ipython",
    "version": 3
   },
   "file_extension": ".py",
   "mimetype": "text/x-python",
   "name": "python",
   "nbconvert_exporter": "python",
   "pygments_lexer": "ipython3",
   "version": "3.9.21"
  }
 },
 "nbformat": 4,
 "nbformat_minor": 2
}

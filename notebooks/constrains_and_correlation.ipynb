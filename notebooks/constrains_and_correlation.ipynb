{
 "cells": [
  {
   "cell_type": "code",
   "execution_count": 15,
   "metadata": {},
   "outputs": [
    {
     "name": "stdout",
     "output_type": "stream",
     "text": [
      "The autoreload extension is already loaded. To reload it, use:\n",
      "  %reload_ext autoreload\n"
     ]
    }
   ],
   "source": [
    "%load_ext autoreload\n",
    "%autoreload 2"
   ]
  },
  {
   "cell_type": "code",
   "execution_count": 16,
   "metadata": {},
   "outputs": [],
   "source": [
    "import os\n",
    "import re\n",
    "import sys\n",
    "import copy\n",
    "\n",
    "import numpy as np\n",
    "import pandas as pd\n",
    "from pathlib import Path\n",
    "import matplotlib.pyplot as plt\n",
    "from omegaconf import OmegaConf\n",
    "\n",
    "# Add the project root to the path\n",
    "module_path = os.path.abspath(os.path.join('..'))\n",
    "if module_path not in sys.path:\n",
    "    sys.path.append(module_path)\n",
    "\n",
    "from utils.plotting import plot_graphs"
   ]
  },
  {
   "cell_type": "code",
   "execution_count": 17,
   "metadata": {},
   "outputs": [],
   "source": [
    "from dgl.data.utils import load_graphs"
   ]
  },
  {
   "cell_type": "code",
   "execution_count": 18,
   "metadata": {},
   "outputs": [],
   "source": [
    "from flowmol.analysis.molecule_builder import SampledMolecule"
   ]
  },
  {
   "cell_type": "code",
   "execution_count": 5,
   "metadata": {},
   "outputs": [],
   "source": [
    "path = Path(\"/Users/svlg/MasterThesis/v02/aa_experiments/samples_last_try\")"
   ]
  },
  {
   "cell_type": "code",
   "execution_count": 6,
   "metadata": {},
   "outputs": [],
   "source": [
    "mols = Path(\"samples_5.bin\")\n",
    "mols_path = path / mols"
   ]
  },
  {
   "cell_type": "code",
   "execution_count": 7,
   "metadata": {},
   "outputs": [
    {
     "data": {
      "text/plain": [
       "30"
      ]
     },
     "execution_count": 7,
     "metadata": {},
     "output_type": "execute_result"
    }
   ],
   "source": [
    "graphs = load_graphs(str(mols_path))[0]\n",
    "len(graphs)"
   ]
  },
  {
   "cell_type": "code",
   "execution_count": 8,
   "metadata": {},
   "outputs": [
    {
     "name": "stderr",
     "output_type": "stream",
     "text": [
      "/Users/svlg/MasterThesis/v02/flowmol/analysis/molecule_builder.py:268: UserWarning: indexing with dtype torch.uint8 is now deprecated, please use a dtype torch.bool instead. (Triggered internally at /Users/runner/work/pytorch/pytorch/pytorch/aten/src/ATen/native/IndexingUtils.h:28.)\n",
      "  bond_types = bond_types[upper_edge_mask]\n",
      "/Users/svlg/MasterThesis/v02/flowmol/analysis/molecule_builder.py:269: UserWarning: indexing with dtype torch.uint8 is now deprecated, please use a dtype torch.bool instead. (Triggered internally at /Users/runner/work/pytorch/pytorch/pytorch/aten/src/ATen/native/IndexingUtils.h:28.)\n",
      "  bond_src_idxs = bond_src_idxs[upper_edge_mask]\n",
      "/Users/svlg/MasterThesis/v02/flowmol/analysis/molecule_builder.py:270: UserWarning: indexing with dtype torch.uint8 is now deprecated, please use a dtype torch.bool instead. (Triggered internally at /Users/runner/work/pytorch/pytorch/pytorch/aten/src/ATen/native/IndexingUtils.h:28.)\n",
      "  bond_dst_idxs = bond_dst_idxs[upper_edge_mask]\n"
     ]
    },
    {
     "data": {
      "text/plain": [
       "30"
      ]
     },
     "execution_count": 8,
     "metadata": {},
     "output_type": "execute_result"
    }
   ],
   "source": [
    "full_graphs = []\n",
    "for g in graphs:\n",
    "    tmp_g = copy.deepcopy(g)\n",
    "    tmp_g.ndata['x_1'] = tmp_g.ndata['x_t']\n",
    "    tmp_g.ndata['a_1'] = tmp_g.ndata['a_t']\n",
    "    tmp_g.ndata['c_1'] = tmp_g.ndata['c_t']\n",
    "    tmp_g.edata['e_1'] = tmp_g.edata['e_t']\n",
    "    mol = SampledMolecule(\n",
    "        g = tmp_g,\n",
    "        atom_type_map =[\"C\", \"H\", \"N\", \"O\", \"F\"],\n",
    "        ctmc_mol = True\n",
    "    )\n",
    "    full_graphs.append(mol)\n",
    "len(full_graphs)"
   ]
  },
  {
   "cell_type": "code",
   "execution_count": 9,
   "metadata": {},
   "outputs": [],
   "source": [
    "# 5 19 26\n",
    "idx = 19"
   ]
  },
  {
   "cell_type": "code",
   "execution_count": 10,
   "metadata": {},
   "outputs": [
    {
     "name": "stdout",
     "output_type": "stream",
     "text": [
      "19\n"
     ]
    },
    {
     "data": {
      "application/3dmoljs_load.v0": "<div id=\"3dmolviewer_17513014569387882\"  style=\"position: relative; width: 250px; height: 250px;\">\n        <p id=\"3dmolwarning_17513014569387882\" style=\"background-color:#ffcccc;color:black\">3Dmol.js failed to load for some reason.  Please check your browser console for error messages.<br></p>\n        </div>\n<script>\n\nvar loadScriptAsync = function(uri){\n  return new Promise((resolve, reject) => {\n    //this is to ignore the existence of requirejs amd\n    var savedexports, savedmodule;\n    if (typeof exports !== 'undefined') savedexports = exports;\n    else exports = {}\n    if (typeof module !== 'undefined') savedmodule = module;\n    else module = {}\n\n    var tag = document.createElement('script');\n    tag.src = uri;\n    tag.async = true;\n    tag.onload = () => {\n        exports = savedexports;\n        module = savedmodule;\n        resolve();\n    };\n  var firstScriptTag = document.getElementsByTagName('script')[0];\n  firstScriptTag.parentNode.insertBefore(tag, firstScriptTag);\n});\n};\n\nif(typeof $3Dmolpromise === 'undefined') {\n$3Dmolpromise = null;\n  $3Dmolpromise = loadScriptAsync('https://cdnjs.cloudflare.com/ajax/libs/3Dmol/2.4.2/3Dmol-min.js');\n}\n\nvar viewer_17513014569387882 = null;\nvar warn = document.getElementById(\"3dmolwarning_17513014569387882\");\nif(warn) {\n    warn.parentNode.removeChild(warn);\n}\n$3Dmolpromise.then(function() {\nviewer_17513014569387882 = $3Dmol.createViewer(document.getElementById(\"3dmolviewer_17513014569387882\"),{backgroundColor:\"white\"});\nviewer_17513014569387882.zoomTo();\n\tviewer_17513014569387882.addModel(\"\\n     RDKit          3D\\n\\n 20 23  0  0  0  0  0  0  0  0999 V2000\\n   -0.0604   -0.4071   -1.3510 C   0  0  0  0  0  0  0  0  0  0  0  0\\n    2.1787    0.5097   -1.6719 H   0  0  0  0  0  0  0  0  0  0  0  0\\n   -0.2246   -2.0989    0.1947 H   0  0  0  0  0  0  0  0  0  0  0  0\\n   -1.3938    0.2531    1.4927 C   0  0  0  0  0  0  0  0  0  0  0  0\\n    0.9395    0.7441    0.1585 N   0  0  0  0  0  0  0  0  0  0  0  0\\n   -1.1082   -0.8426    2.3942 H   0  0  0  0  0  0  0  0  0  0  0  0\\n   -3.8490    0.0170    2.4968 H   0  0  0  0  0  0  0  0  0  0  0  0\\n    1.2621   -0.0705   -1.0266 C   0  0  0  0  0  0  0  0  0  0  0  0\\n   -0.5574    3.3033    0.5579 H   0  0  0  0  0  0  0  0  0  0  0  0\\n   -1.6778    0.3593    0.2552 O   0  0  0  0  0  0  0  0  0  0  0  0\\n   -0.2023   -0.3110   -2.5526 H   0  0  0  0  0  0  0  0  0  0  0  0\\n    0.1382    1.6563   -0.4499 C   0  0  0  0  0  0  0  0  0  0  0  0\\n   -1.1598    1.2120    2.2858 H   0  0  0  0  0  0  0  0  0  0  0  0\\n    1.1470   -1.4304   -1.2117 N   0  0  0  0  0  0  0  0  0  0  0  0\\n   -0.6718   -2.6036   -1.6008 H   0  0  0  0  0  0  0  0  0  0  0  0\\n    0.4845    2.4267   -1.4796 H   0  0  0  0  0  0  0  0  0  0  0  0\\n    2.1645    1.1764    2.5060 H   0  0  0  0  0  0  0  0  0  0  0  0\\n   -0.0698   -1.6997   -0.9318 C   0  0  0  0  0  0  0  0  0  0  0  0\\n    2.9785   -2.6783    0.3389 H   0  0  0  0  0  0  0  0  0  0  0  0\\n   -0.3179    0.4842   -0.4047 C   0  0  0  0  0  0  0  0  0  0  0  0\\n  1  8  1  0\\n  1 11  1  0\\n  1 14  1  0\\n  1 18  1  0\\n  1 20  1  0\\n  2  8  1  0\\n  3 18  1  0\\n  4  6  1  0\\n  4  7  1  0\\n  4 10  1  0\\n  4 13  1  0\\n  5  8  1  0\\n  5 12  1  0\\n  5 17  1  0\\n  5 20  1  0\\n  8 14  1  0\\n  9 12  1  0\\n 10 20  1  0\\n 12 16  1  0\\n 12 20  1  0\\n 14 18  1  0\\n 14 19  1  0\\n 15 18  1  0\\nM  CHG  1  14   1\\nM  END\\n\",\"mol\");\n\tviewer_17513014569387882.setStyle({\"stick\": {}, \"sphere\": {\"scale\": 0.3}});\n\tviewer_17513014569387882.zoomTo();\nviewer_17513014569387882.render();\n});\n</script>",
      "text/html": [
       "<div id=\"3dmolviewer_17513014569387882\"  style=\"position: relative; width: 250px; height: 250px;\">\n",
       "        <p id=\"3dmolwarning_17513014569387882\" style=\"background-color:#ffcccc;color:black\">3Dmol.js failed to load for some reason.  Please check your browser console for error messages.<br></p>\n",
       "        </div>\n",
       "<script>\n",
       "\n",
       "var loadScriptAsync = function(uri){\n",
       "  return new Promise((resolve, reject) => {\n",
       "    //this is to ignore the existence of requirejs amd\n",
       "    var savedexports, savedmodule;\n",
       "    if (typeof exports !== 'undefined') savedexports = exports;\n",
       "    else exports = {}\n",
       "    if (typeof module !== 'undefined') savedmodule = module;\n",
       "    else module = {}\n",
       "\n",
       "    var tag = document.createElement('script');\n",
       "    tag.src = uri;\n",
       "    tag.async = true;\n",
       "    tag.onload = () => {\n",
       "        exports = savedexports;\n",
       "        module = savedmodule;\n",
       "        resolve();\n",
       "    };\n",
       "  var firstScriptTag = document.getElementsByTagName('script')[0];\n",
       "  firstScriptTag.parentNode.insertBefore(tag, firstScriptTag);\n",
       "});\n",
       "};\n",
       "\n",
       "if(typeof $3Dmolpromise === 'undefined') {\n",
       "$3Dmolpromise = null;\n",
       "  $3Dmolpromise = loadScriptAsync('https://cdnjs.cloudflare.com/ajax/libs/3Dmol/2.4.2/3Dmol-min.js');\n",
       "}\n",
       "\n",
       "var viewer_17513014569387882 = null;\n",
       "var warn = document.getElementById(\"3dmolwarning_17513014569387882\");\n",
       "if(warn) {\n",
       "    warn.parentNode.removeChild(warn);\n",
       "}\n",
       "$3Dmolpromise.then(function() {\n",
       "viewer_17513014569387882 = $3Dmol.createViewer(document.getElementById(\"3dmolviewer_17513014569387882\"),{backgroundColor:\"white\"});\n",
       "viewer_17513014569387882.zoomTo();\n",
       "\tviewer_17513014569387882.addModel(\"\\n     RDKit          3D\\n\\n 20 23  0  0  0  0  0  0  0  0999 V2000\\n   -0.0604   -0.4071   -1.3510 C   0  0  0  0  0  0  0  0  0  0  0  0\\n    2.1787    0.5097   -1.6719 H   0  0  0  0  0  0  0  0  0  0  0  0\\n   -0.2246   -2.0989    0.1947 H   0  0  0  0  0  0  0  0  0  0  0  0\\n   -1.3938    0.2531    1.4927 C   0  0  0  0  0  0  0  0  0  0  0  0\\n    0.9395    0.7441    0.1585 N   0  0  0  0  0  0  0  0  0  0  0  0\\n   -1.1082   -0.8426    2.3942 H   0  0  0  0  0  0  0  0  0  0  0  0\\n   -3.8490    0.0170    2.4968 H   0  0  0  0  0  0  0  0  0  0  0  0\\n    1.2621   -0.0705   -1.0266 C   0  0  0  0  0  0  0  0  0  0  0  0\\n   -0.5574    3.3033    0.5579 H   0  0  0  0  0  0  0  0  0  0  0  0\\n   -1.6778    0.3593    0.2552 O   0  0  0  0  0  0  0  0  0  0  0  0\\n   -0.2023   -0.3110   -2.5526 H   0  0  0  0  0  0  0  0  0  0  0  0\\n    0.1382    1.6563   -0.4499 C   0  0  0  0  0  0  0  0  0  0  0  0\\n   -1.1598    1.2120    2.2858 H   0  0  0  0  0  0  0  0  0  0  0  0\\n    1.1470   -1.4304   -1.2117 N   0  0  0  0  0  0  0  0  0  0  0  0\\n   -0.6718   -2.6036   -1.6008 H   0  0  0  0  0  0  0  0  0  0  0  0\\n    0.4845    2.4267   -1.4796 H   0  0  0  0  0  0  0  0  0  0  0  0\\n    2.1645    1.1764    2.5060 H   0  0  0  0  0  0  0  0  0  0  0  0\\n   -0.0698   -1.6997   -0.9318 C   0  0  0  0  0  0  0  0  0  0  0  0\\n    2.9785   -2.6783    0.3389 H   0  0  0  0  0  0  0  0  0  0  0  0\\n   -0.3179    0.4842   -0.4047 C   0  0  0  0  0  0  0  0  0  0  0  0\\n  1  8  1  0\\n  1 11  1  0\\n  1 14  1  0\\n  1 18  1  0\\n  1 20  1  0\\n  2  8  1  0\\n  3 18  1  0\\n  4  6  1  0\\n  4  7  1  0\\n  4 10  1  0\\n  4 13  1  0\\n  5  8  1  0\\n  5 12  1  0\\n  5 17  1  0\\n  5 20  1  0\\n  8 14  1  0\\n  9 12  1  0\\n 10 20  1  0\\n 12 16  1  0\\n 12 20  1  0\\n 14 18  1  0\\n 14 19  1  0\\n 15 18  1  0\\nM  CHG  1  14   1\\nM  END\\n\",\"mol\");\n",
       "\tviewer_17513014569387882.setStyle({\"stick\": {}, \"sphere\": {\"scale\": 0.3}});\n",
       "\tviewer_17513014569387882.zoomTo();\n",
       "viewer_17513014569387882.render();\n",
       "});\n",
       "</script>"
      ]
     },
     "metadata": {},
     "output_type": "display_data"
    }
   ],
   "source": [
    "import py3Dmol\n",
    "from rdkit import Chem\n",
    "print(idx)\n",
    "try:\n",
    "    pdb_block = Chem.MolToMolBlock(full_graphs[idx].rdkit_mol)\n",
    "    # Visualize using py3Dmol\n",
    "    viewer = py3Dmol.view(width=250, height=250)\n",
    "    viewer.addModel(pdb_block, \"mol\")\n",
    "    viewer.setStyle({\"stick\": {}, \"sphere\": {\"scale\": 0.3}})\n",
    "    viewer.zoomTo()\n",
    "    viewer.show()\n",
    "\n",
    "except Exception as e:\n",
    "    print(f\"Error converting molecule to PDB block: {e}\")\n",
    "idx += 1\n"
   ]
  },
  {
   "cell_type": "code",
   "execution_count": 11,
   "metadata": {},
   "outputs": [
    {
     "name": "stderr",
     "output_type": "stream",
     "text": [
      "/opt/homebrew/Caskroom/miniforge/base/envs/deep/lib/python3.9/site-packages/torch/_utils.py:776: UserWarning: TypedStorage is deprecated. It will be removed in the future and UntypedStorage will be the only storage class. This should only matter to you if you are using storages directly.  To access UntypedStorage directly, use tensor.untyped_storage() instead of tensor.storage()\n",
      "  return self.fget.__get__(instance, owner)()\n"
     ]
    }
   ],
   "source": [
    "from environment.property_calculation import compute_property_stats"
   ]
  },
  {
   "cell_type": "code",
   "execution_count": 14,
   "metadata": {},
   "outputs": [
    {
     "name": "stdout",
     "output_type": "stream",
     "text": [
      "5\n"
     ]
    },
    {
     "ename": "ValueError",
     "evalue": "The integral driver seems to be have been set explicitly to 'libcint'. However, the libcint interface is not installed.",
     "output_type": "error",
     "traceback": [
      "\u001b[0;31m---------------------------------------------------------------------------\u001b[0m",
      "\u001b[0;31mValueError\u001b[0m                                Traceback (most recent call last)",
      "Cell \u001b[0;32mIn[14], line 3\u001b[0m\n\u001b[1;32m      1\u001b[0m \u001b[38;5;28;01mfor\u001b[39;00m i \u001b[38;5;129;01min\u001b[39;00m [\u001b[38;5;241m5\u001b[39m, \u001b[38;5;241m19\u001b[39m, \u001b[38;5;241m26\u001b[39m]:\n\u001b[1;32m      2\u001b[0m     \u001b[38;5;28mprint\u001b[39m(i)\n\u001b[0;32m----> 3\u001b[0m     energy \u001b[38;5;241m=\u001b[39m \u001b[43mcompute_property_stats\u001b[49m\u001b[43m(\u001b[49m\u001b[43mgraphs\u001b[49m\u001b[43m[\u001b[49m\u001b[43mi\u001b[49m\u001b[43m]\u001b[49m\u001b[43m,\u001b[49m\u001b[43m \u001b[49m\u001b[38;5;124;43m\"\u001b[39;49m\u001b[38;5;124;43menergy\u001b[39;49m\u001b[38;5;124;43m\"\u001b[39;49m\u001b[43m,\u001b[49m\u001b[43m \u001b[49m\u001b[43mdevice\u001b[49m\u001b[38;5;241;43m=\u001b[39;49m\u001b[38;5;124;43m\"\u001b[39;49m\u001b[38;5;124;43mcpu\u001b[39;49m\u001b[38;5;124;43m\"\u001b[39;49m\u001b[43m)\u001b[49m\n\u001b[1;32m      4\u001b[0m     \u001b[38;5;28mprint\u001b[39m(energy)\n\u001b[1;32m      5\u001b[0m     dipole \u001b[38;5;241m=\u001b[39m compute_property_stats(graphs[i], \u001b[38;5;124m\"\u001b[39m\u001b[38;5;124mdipole\u001b[39m\u001b[38;5;124m\"\u001b[39m, device\u001b[38;5;241m=\u001b[39m\u001b[38;5;124m\"\u001b[39m\u001b[38;5;124mcpu\u001b[39m\u001b[38;5;124m\"\u001b[39m)\n",
      "File \u001b[0;32m~/MasterThesis/v02/environment/property_calculation.py:175\u001b[0m, in \u001b[0;36mcompute_property_stats\u001b[0;34m(molecules, property, device, model)\u001b[0m\n\u001b[1;32m    172\u001b[0m atom_type_map \u001b[38;5;241m=\u001b[39m get_atom_type_map(molecules)\n\u001b[1;32m    174\u001b[0m \u001b[38;5;28;01mfor\u001b[39;00m mol \u001b[38;5;129;01min\u001b[39;00m dgl\u001b[38;5;241m.\u001b[39munbatch(molecules):\n\u001b[0;32m--> 175\u001b[0m     val, _ \u001b[38;5;241m=\u001b[39m \u001b[43mcompute_property_value_and_grad\u001b[49m\u001b[43m(\u001b[49m\n\u001b[1;32m    176\u001b[0m \u001b[43m        \u001b[49m\u001b[43mmol\u001b[49m\u001b[43m,\u001b[49m\u001b[43m \u001b[49m\u001b[38;5;28;43mproperty\u001b[39;49m\u001b[43m,\u001b[49m\u001b[43m \u001b[49m\u001b[43matom_type_map\u001b[49m\u001b[43m,\u001b[49m\u001b[43m \u001b[49m\u001b[43mreward_lambda\u001b[49m\u001b[38;5;241;43m=\u001b[39;49m\u001b[38;5;241;43m1.0\u001b[39;49m\u001b[43m,\u001b[49m\u001b[43m \u001b[49m\u001b[43mdevice\u001b[49m\u001b[38;5;241;43m=\u001b[39;49m\u001b[43mdevice\u001b[49m\u001b[43m,\u001b[49m\u001b[43m \u001b[49m\u001b[43mmodel\u001b[49m\u001b[38;5;241;43m=\u001b[39;49m\u001b[43mmodel\u001b[49m\u001b[43m,\u001b[49m\u001b[43m \u001b[49m\u001b[43mreturn_grad\u001b[49m\u001b[38;5;241;43m=\u001b[39;49m\u001b[38;5;28;43;01mFalse\u001b[39;49;00m\n\u001b[1;32m    177\u001b[0m \u001b[43m    \u001b[49m\u001b[43m)\u001b[49m\n\u001b[1;32m    178\u001b[0m     properties\u001b[38;5;241m.\u001b[39mappend(val)\n\u001b[1;32m    180\u001b[0m properties \u001b[38;5;241m=\u001b[39m torch\u001b[38;5;241m.\u001b[39mstack(properties)\n",
      "File \u001b[0;32m~/MasterThesis/v02/environment/property_calculation.py:145\u001b[0m, in \u001b[0;36mcompute_property_value_and_grad\u001b[0;34m(mol, property, atom_type_map, reward_lambda, device, model, return_grad)\u001b[0m\n\u001b[1;32m    143\u001b[0m \u001b[38;5;28;01mdef\u001b[39;00m\u001b[38;5;250m \u001b[39m\u001b[38;5;21mcompute_property_value_and_grad\u001b[39m(mol, \u001b[38;5;28mproperty\u001b[39m, atom_type_map, reward_lambda, device, model, return_grad):\n\u001b[1;32m    144\u001b[0m     \u001b[38;5;28;01mif\u001b[39;00m \u001b[38;5;28mproperty\u001b[39m \u001b[38;5;129;01min\u001b[39;00m [\u001b[38;5;124m\"\u001b[39m\u001b[38;5;124menergy\u001b[39m\u001b[38;5;124m\"\u001b[39m, \u001b[38;5;124m\"\u001b[39m\u001b[38;5;124mdipole\u001b[39m\u001b[38;5;124m\"\u001b[39m, \u001b[38;5;124m\"\u001b[39m\u001b[38;5;124mforces\u001b[39m\u001b[38;5;124m\"\u001b[39m]:\n\u001b[0;32m--> 145\u001b[0m         \u001b[38;5;28;01mreturn\u001b[39;00m \u001b[43mcompute\u001b[49m\u001b[43m(\u001b[49m\n\u001b[1;32m    146\u001b[0m \u001b[43m            \u001b[49m\u001b[43mmolecule\u001b[49m\u001b[38;5;241;43m=\u001b[39;49m\u001b[43mmol\u001b[49m\u001b[43m,\u001b[49m\n\u001b[1;32m    147\u001b[0m \u001b[43m            \u001b[49m\u001b[43matom_type_map\u001b[49m\u001b[38;5;241;43m=\u001b[39;49m\u001b[43matom_type_map\u001b[49m\u001b[43m,\u001b[49m\n\u001b[1;32m    148\u001b[0m \u001b[43m            \u001b[49m\u001b[38;5;28;43mproperty\u001b[39;49m\u001b[38;5;241;43m=\u001b[39;49m\u001b[38;5;28;43mproperty\u001b[39;49m\u001b[43m,\u001b[49m\n\u001b[1;32m    149\u001b[0m \u001b[43m            \u001b[49m\u001b[43mreward_lambda\u001b[49m\u001b[38;5;241;43m=\u001b[39;49m\u001b[43mreward_lambda\u001b[49m\u001b[43m,\u001b[49m\n\u001b[1;32m    150\u001b[0m \u001b[43m            \u001b[49m\u001b[43mdevice\u001b[49m\u001b[38;5;241;43m=\u001b[39;49m\u001b[43mdevice\u001b[49m\u001b[43m,\u001b[49m\n\u001b[1;32m    151\u001b[0m \u001b[43m            \u001b[49m\u001b[43mreturn_grad\u001b[49m\u001b[38;5;241;43m=\u001b[39;49m\u001b[43mreturn_grad\u001b[49m\u001b[43m,\u001b[49m\n\u001b[1;32m    152\u001b[0m \u001b[43m        \u001b[49m\u001b[43m)\u001b[49m\n\u001b[1;32m    153\u001b[0m     \u001b[38;5;28;01melif\u001b[39;00m \u001b[38;5;28mproperty\u001b[39m \u001b[38;5;241m==\u001b[39m \u001b[38;5;124m\"\u001b[39m\u001b[38;5;124mconst\u001b[39m\u001b[38;5;124m\"\u001b[39m:\n\u001b[1;32m    154\u001b[0m         val \u001b[38;5;241m=\u001b[39m torch\u001b[38;5;241m.\u001b[39mtensor(\u001b[38;5;241m0.0\u001b[39m, device\u001b[38;5;241m=\u001b[39mdevice)\n",
      "File \u001b[0;32m~/MasterThesis/v02/environment/property_calculation.py:88\u001b[0m, in \u001b[0;36mcompute\u001b[0;34m(molecule, atom_type_map, property, reward_lambda, device, return_grad)\u001b[0m\n\u001b[1;32m     86\u001b[0m \u001b[38;5;66;03m# Initialize dxtb calculator\u001b[39;00m\n\u001b[1;32m     87\u001b[0m opts \u001b[38;5;241m=\u001b[39m {\u001b[38;5;124m\"\u001b[39m\u001b[38;5;124mverbosity\u001b[39m\u001b[38;5;124m\"\u001b[39m: \u001b[38;5;241m0\u001b[39m, \u001b[38;5;124m\"\u001b[39m\u001b[38;5;124mint_driver\u001b[39m\u001b[38;5;124m\"\u001b[39m: \u001b[38;5;124m\"\u001b[39m\u001b[38;5;124mlibcint\u001b[39m\u001b[38;5;124m\"\u001b[39m}\n\u001b[0;32m---> 88\u001b[0m calc \u001b[38;5;241m=\u001b[39m \u001b[43mGFN1Calculator\u001b[49m\u001b[43m(\u001b[49m\u001b[43matomic_numbers\u001b[49m\u001b[43m,\u001b[49m\u001b[43m \u001b[49m\u001b[43minteraction\u001b[49m\u001b[38;5;241;43m=\u001b[39;49m\u001b[43mef\u001b[49m\u001b[43m,\u001b[49m\u001b[43m \u001b[49m\u001b[43mopts\u001b[49m\u001b[38;5;241;43m=\u001b[39;49m\u001b[43mopts\u001b[49m\u001b[43m,\u001b[49m\u001b[43m \u001b[49m\u001b[38;5;241;43m*\u001b[39;49m\u001b[38;5;241;43m*\u001b[39;49m\u001b[43mdd\u001b[49m\u001b[43m)\u001b[49m\n\u001b[1;32m     90\u001b[0m \u001b[38;5;28;01mif\u001b[39;00m \u001b[38;5;28mproperty\u001b[39m \u001b[38;5;241m==\u001b[39m \u001b[38;5;124m\"\u001b[39m\u001b[38;5;124menergy\u001b[39m\u001b[38;5;124m\"\u001b[39m:\n\u001b[1;32m     91\u001b[0m     \u001b[38;5;28;01mdef\u001b[39;00m\u001b[38;5;250m \u001b[39m\u001b[38;5;21mcalc_energy\u001b[39m(p): \u001b[38;5;28;01mreturn\u001b[39;00m calc\u001b[38;5;241m.\u001b[39menergy(p)\n",
      "File \u001b[0;32m/opt/homebrew/Caskroom/miniforge/base/envs/deep/lib/python3.9/site-packages/dxtb/_src/calculators/gfn1.py:60\u001b[0m, in \u001b[0;36mGFN1Calculator.__init__\u001b[0;34m(self, numbers, classical, interaction, opts, device, dtype)\u001b[0m\n\u001b[1;32m     45\u001b[0m \u001b[38;5;28;01mdef\u001b[39;00m\u001b[38;5;250m \u001b[39m\u001b[38;5;21m__init__\u001b[39m(\n\u001b[1;32m     46\u001b[0m     \u001b[38;5;28mself\u001b[39m,\n\u001b[1;32m     47\u001b[0m     numbers: Tensor,\n\u001b[0;32m   (...)\u001b[0m\n\u001b[1;32m     56\u001b[0m ) \u001b[38;5;241m-\u001b[39m\u001b[38;5;241m>\u001b[39m \u001b[38;5;28;01mNone\u001b[39;00m:\n\u001b[1;32m     57\u001b[0m     \u001b[38;5;66;03m# pylint: disable=import-outside-toplevel\u001b[39;00m\n\u001b[1;32m     58\u001b[0m     \u001b[38;5;28;01mfrom\u001b[39;00m\u001b[38;5;250m \u001b[39m\u001b[38;5;21;01mdxtb\u001b[39;00m\u001b[38;5;250m \u001b[39m\u001b[38;5;28;01mimport\u001b[39;00m GFN1_XTB\n\u001b[0;32m---> 60\u001b[0m     \u001b[38;5;28;43msuper\u001b[39;49m\u001b[43m(\u001b[49m\u001b[43m)\u001b[49m\u001b[38;5;241;43m.\u001b[39;49m\u001b[38;5;21;43m__init__\u001b[39;49m\u001b[43m(\u001b[49m\n\u001b[1;32m     61\u001b[0m \u001b[43m        \u001b[49m\u001b[43mnumbers\u001b[49m\u001b[43m,\u001b[49m\n\u001b[1;32m     62\u001b[0m \u001b[43m        \u001b[49m\u001b[43mGFN1_XTB\u001b[49m\u001b[43m,\u001b[49m\n\u001b[1;32m     63\u001b[0m \u001b[43m        \u001b[49m\u001b[43mclassical\u001b[49m\u001b[38;5;241;43m=\u001b[39;49m\u001b[43mclassical\u001b[49m\u001b[43m,\u001b[49m\n\u001b[1;32m     64\u001b[0m \u001b[43m        \u001b[49m\u001b[43minteraction\u001b[49m\u001b[38;5;241;43m=\u001b[39;49m\u001b[43minteraction\u001b[49m\u001b[43m,\u001b[49m\n\u001b[1;32m     65\u001b[0m \u001b[43m        \u001b[49m\u001b[43mopts\u001b[49m\u001b[38;5;241;43m=\u001b[39;49m\u001b[43mopts\u001b[49m\u001b[43m,\u001b[49m\n\u001b[1;32m     66\u001b[0m \u001b[43m        \u001b[49m\u001b[43mdevice\u001b[49m\u001b[38;5;241;43m=\u001b[39;49m\u001b[43mdevice\u001b[49m\u001b[43m,\u001b[49m\n\u001b[1;32m     67\u001b[0m \u001b[43m        \u001b[49m\u001b[43mdtype\u001b[49m\u001b[38;5;241;43m=\u001b[39;49m\u001b[43mdtype\u001b[49m\u001b[43m,\u001b[49m\n\u001b[1;32m     68\u001b[0m \u001b[43m    \u001b[49m\u001b[43m)\u001b[49m\n",
      "File \u001b[0;32m/opt/homebrew/Caskroom/miniforge/base/envs/deep/lib/python3.9/site-packages/dxtb/_src/calculators/types/base.py:509\u001b[0m, in \u001b[0;36mBaseCalculator.__init__\u001b[0;34m(self, numbers, par, classical, interaction, opts, cache, device, dtype, **kwargs)\u001b[0m\n\u001b[1;32m    507\u001b[0m \u001b[38;5;66;03m# setup calculator options\u001b[39;00m\n\u001b[1;32m    508\u001b[0m \u001b[38;5;28;01mif\u001b[39;00m \u001b[38;5;28misinstance\u001b[39m(opts, \u001b[38;5;28mdict\u001b[39m):\n\u001b[0;32m--> 509\u001b[0m     opts \u001b[38;5;241m=\u001b[39m \u001b[43mConfig\u001b[49m\u001b[43m(\u001b[49m\u001b[38;5;241;43m*\u001b[39;49m\u001b[38;5;241;43m*\u001b[39;49m\u001b[43mopts\u001b[49m\u001b[43m,\u001b[49m\u001b[43m \u001b[49m\u001b[38;5;241;43m*\u001b[39;49m\u001b[38;5;241;43m*\u001b[39;49m\u001b[43mdd\u001b[49m\u001b[43m)\u001b[49m\n\u001b[1;32m    510\u001b[0m \u001b[38;5;28mself\u001b[39m\u001b[38;5;241m.\u001b[39mopts \u001b[38;5;241m=\u001b[39m opts\n\u001b[1;32m    512\u001b[0m \u001b[38;5;66;03m# create cache\u001b[39;00m\n",
      "File \u001b[0;32m/opt/homebrew/Caskroom/miniforge/base/envs/deep/lib/python3.9/site-packages/dxtb/_src/calculators/config/main.py:185\u001b[0m, in \u001b[0;36mConfig.__init__\u001b[0;34m(self, file, strict, exclude, method, grad, batch_mode, int_cutoff, int_driver, int_level, int_uplo, anomaly, device, dtype, maxiter, mixer, damp, guess, scf_mode, scp_mode, x_atol, f_atol, force_convergence, fermi_etemp, fermi_maxiter, fermi_thresh, fermi_partition, cache_enabled, cache_hcore, cache_overlap, cache_dipole, cache_quadrupole, cache_charges, cache_coefficients, cache_density, cache_fock, cache_iterations, cache_mo_energies, cache_occupation, cache_potential, max_element)\u001b[0m\n\u001b[1;32m    162\u001b[0m     \u001b[38;5;28;01mraise\u001b[39;00m \u001b[38;5;167;01mTypeError\u001b[39;00m(\n\u001b[1;32m    163\u001b[0m         \u001b[38;5;124m\"\u001b[39m\u001b[38;5;124mThe method must be of type \u001b[39m\u001b[38;5;124m'\u001b[39m\u001b[38;5;124mint\u001b[39m\u001b[38;5;124m'\u001b[39m\u001b[38;5;124m or \u001b[39m\u001b[38;5;124m'\u001b[39m\u001b[38;5;124mstr\u001b[39m\u001b[38;5;124m'\u001b[39m\u001b[38;5;124m, but \u001b[39m\u001b[38;5;124m\"\u001b[39m\n\u001b[1;32m    164\u001b[0m         \u001b[38;5;124mf\u001b[39m\u001b[38;5;124m\"\u001b[39m\u001b[38;5;124m'\u001b[39m\u001b[38;5;132;01m{\u001b[39;00m\u001b[38;5;28mtype\u001b[39m(method)\u001b[38;5;132;01m}\u001b[39;00m\u001b[38;5;124m'\u001b[39m\u001b[38;5;124m was given.\u001b[39m\u001b[38;5;124m\"\u001b[39m\n\u001b[1;32m    165\u001b[0m     )\n\u001b[1;32m    167\u001b[0m \u001b[38;5;28mself\u001b[39m\u001b[38;5;241m.\u001b[39mcache \u001b[38;5;241m=\u001b[39m ConfigCache(\n\u001b[1;32m    168\u001b[0m     enabled\u001b[38;5;241m=\u001b[39mcache_enabled,\n\u001b[1;32m    169\u001b[0m     \u001b[38;5;66;03m#\u001b[39;00m\n\u001b[0;32m   (...)\u001b[0m\n\u001b[1;32m    182\u001b[0m     potential\u001b[38;5;241m=\u001b[39mcache_potential,\n\u001b[1;32m    183\u001b[0m )\n\u001b[0;32m--> 185\u001b[0m \u001b[38;5;28mself\u001b[39m\u001b[38;5;241m.\u001b[39mints \u001b[38;5;241m=\u001b[39m \u001b[43mConfigIntegrals\u001b[49m\u001b[43m(\u001b[49m\n\u001b[1;32m    186\u001b[0m \u001b[43m    \u001b[49m\u001b[43mlevel\u001b[49m\u001b[38;5;241;43m=\u001b[39;49m\u001b[43mint_level\u001b[49m\u001b[43m,\u001b[49m\n\u001b[1;32m    187\u001b[0m \u001b[43m    \u001b[49m\u001b[43mcutoff\u001b[49m\u001b[38;5;241;43m=\u001b[39;49m\u001b[43mint_cutoff\u001b[49m\u001b[43m,\u001b[49m\n\u001b[1;32m    188\u001b[0m \u001b[43m    \u001b[49m\u001b[43mdriver\u001b[49m\u001b[38;5;241;43m=\u001b[39;49m\u001b[43mint_driver\u001b[49m\u001b[43m,\u001b[49m\n\u001b[1;32m    189\u001b[0m \u001b[43m    \u001b[49m\u001b[43muplo\u001b[49m\u001b[38;5;241;43m=\u001b[39;49m\u001b[43mint_uplo\u001b[49m\u001b[43m,\u001b[49m\n\u001b[1;32m    190\u001b[0m \u001b[43m\u001b[49m\u001b[43m)\u001b[49m\n\u001b[1;32m    192\u001b[0m \u001b[38;5;28mself\u001b[39m\u001b[38;5;241m.\u001b[39mscf \u001b[38;5;241m=\u001b[39m ConfigSCF(\n\u001b[1;32m    193\u001b[0m     strict\u001b[38;5;241m=\u001b[39mstrict,\n\u001b[1;32m    194\u001b[0m     guess\u001b[38;5;241m=\u001b[39mguess,\n\u001b[0;32m   (...)\u001b[0m\n\u001b[1;32m    211\u001b[0m     dtype\u001b[38;5;241m=\u001b[39mdtype,\n\u001b[1;32m    212\u001b[0m )\n\u001b[1;32m    214\u001b[0m \u001b[38;5;66;03m# compatibility checks\u001b[39;00m\n",
      "File \u001b[0;32m/opt/homebrew/Caskroom/miniforge/base/envs/deep/lib/python3.9/site-packages/dxtb/_src/calculators/config/integral.py:91\u001b[0m, in \u001b[0;36mConfigIntegrals.__init__\u001b[0;34m(self, level, cutoff, driver, uplo)\u001b[0m\n\u001b[1;32m     86\u001b[0m     \u001b[38;5;66;03m# The default input is an integer. So, if we receive a string\u001b[39;00m\n\u001b[1;32m     87\u001b[0m     \u001b[38;5;66;03m# here, we need to assume that the libcint driver was\u001b[39;00m\n\u001b[1;32m     88\u001b[0m     \u001b[38;5;66;03m# explicitly requested and we need to check if the libcint\u001b[39;00m\n\u001b[1;32m     89\u001b[0m     \u001b[38;5;66;03m# interface is available.\u001b[39;00m\n\u001b[1;32m     90\u001b[0m     \u001b[38;5;28;01mif\u001b[39;00m has_libcint \u001b[38;5;129;01mis\u001b[39;00m \u001b[38;5;28;01mFalse\u001b[39;00m:\n\u001b[0;32m---> 91\u001b[0m         \u001b[38;5;28;01mraise\u001b[39;00m \u001b[38;5;167;01mValueError\u001b[39;00m(\n\u001b[1;32m     92\u001b[0m             \u001b[38;5;124m\"\u001b[39m\u001b[38;5;124mThe integral driver seems to be have been set \u001b[39m\u001b[38;5;124m\"\u001b[39m\n\u001b[1;32m     93\u001b[0m             \u001b[38;5;124mf\u001b[39m\u001b[38;5;124m\"\u001b[39m\u001b[38;5;124mexplicitly to \u001b[39m\u001b[38;5;124m'\u001b[39m\u001b[38;5;132;01m{\u001b[39;00mdriver\u001b[38;5;132;01m}\u001b[39;00m\u001b[38;5;124m'\u001b[39m\u001b[38;5;124m. However, the libcint \u001b[39m\u001b[38;5;124m\"\u001b[39m\n\u001b[1;32m     94\u001b[0m             \u001b[38;5;124m\"\u001b[39m\u001b[38;5;124minterface is not installed.\u001b[39m\u001b[38;5;124m\"\u001b[39m\n\u001b[1;32m     95\u001b[0m         )\n\u001b[1;32m     97\u001b[0m     \u001b[38;5;28mself\u001b[39m\u001b[38;5;241m.\u001b[39mdriver \u001b[38;5;241m=\u001b[39m labels\u001b[38;5;241m.\u001b[39mINTDRIVER_LIBCINT\n\u001b[1;32m     98\u001b[0m \u001b[38;5;28;01melif\u001b[39;00m driver\u001b[38;5;241m.\u001b[39mcasefold() \u001b[38;5;129;01min\u001b[39;00m labels\u001b[38;5;241m.\u001b[39mINTDRIVER_ANALYTICAL_STRS:\n",
      "\u001b[0;31mValueError\u001b[0m: The integral driver seems to be have been set explicitly to 'libcint'. However, the libcint interface is not installed."
     ]
    }
   ],
   "source": [
    "for i in [5, 19, 26]:\n",
    "    print(i)\n",
    "    energy = compute_property_stats(graphs[i], \"energy\", device=\"cpu\")\n",
    "    print(energy)\n",
    "    dipole = compute_property_stats(graphs[i], \"dipole\", device=\"cpu\")\n",
    "    print(dipole)"
   ]
  },
  {
   "cell_type": "code",
   "execution_count": 87,
   "metadata": {},
   "outputs": [],
   "source": [
    "import torch\n",
    "import numpy as np\n",
    "import matplotlib.pyplot as plt\n",
    "\n",
    "file_path = \"/Users/svlg/MasterThesis/v02/data/geom/train_data_n_atoms_histogram.pt\"\n",
    "data = torch.load(file_path, map_location='cpu')"
   ]
  },
  {
   "cell_type": "code",
   "execution_count": 89,
   "metadata": {},
   "outputs": [],
   "source": [
    "n_atoms = data[0]\n",
    "count = data[1]"
   ]
  },
  {
   "cell_type": "code",
   "execution_count": 96,
   "metadata": {},
   "outputs": [
    {
     "data": {
      "text/plain": [
       "tensor([     1,      3,      2,      3,      7,     16,     51,     27,     88,\n",
       "           209,    281,    339,    417,    627,   1113,   1516,   2164,   3156,\n",
       "          5402,   7255,  11549,  15062,  21540,  26212,  36418,  46530,  57822,\n",
       "         68600,  84471, 100503, 114599, 135310, 151481, 159181, 178525, 190339,\n",
       "        195101, 209395, 218300, 222699, 226394, 225461, 228583, 224940, 214583,\n",
       "        206414, 201949, 190934, 180248, 172512, 161315, 150188, 135989, 128784,\n",
       "        115990,  99846,  91042,  79476,  70330,  56861,  52736,  42785,  33045,\n",
       "         28651,  23359,  17441,  16815,  13533,  10656,   8715,   8021,   5982,\n",
       "          5867,   3938,   3714,   3501,   3036,   2445,   2143,   1680,   1424,\n",
       "          1277,   1393,   1186,   1192,    650,    480,    750,    709,    461,\n",
       "           751,    600,    419,    570,    150,    600,    359,    180,    150,\n",
       "           180,    176,    180,    300,    570,    270,    120,    240,    390,\n",
       "           180,    210,     60,     60,    180,    390,    720,    360,    240,\n",
       "           180,    150,    480,    330,    180,    242,    210,     60,     30,\n",
       "           150,     30,    180,    180,    330,    229,    270,    300,    120,\n",
       "           630,    120,    210,    120,    120,    420,    120,    120,    330,\n",
       "           300,     60,     60,     60,     90,     60,     60,     30,     30,\n",
       "            30,     30,     90,     30])"
      ]
     },
     "execution_count": 96,
     "metadata": {},
     "output_type": "execute_result"
    }
   ],
   "source": [
    "count"
   ]
  },
  {
   "cell_type": "code",
   "execution_count": 100,
   "metadata": {},
   "outputs": [
    {
     "data": {
      "text/plain": [
       "tensor(5741114)"
      ]
     },
     "execution_count": 100,
     "metadata": {},
     "output_type": "execute_result"
    }
   ],
   "source": [
    "count.sum()"
   ]
  },
  {
   "cell_type": "code",
   "execution_count": 101,
   "metadata": {},
   "outputs": [],
   "source": [
    "freq = count / count.sum()"
   ]
  },
  {
   "cell_type": "code",
   "execution_count": 120,
   "metadata": {},
   "outputs": [],
   "source": [
    "more = count > 1500"
   ]
  },
  {
   "cell_type": "code",
   "execution_count": 121,
   "metadata": {},
   "outputs": [
    {
     "data": {
      "text/plain": [
       "tensor(65)"
      ]
     },
     "execution_count": 121,
     "metadata": {},
     "output_type": "execute_result"
    }
   ],
   "source": [
    "more.sum()"
   ]
  },
  {
   "cell_type": "code",
   "execution_count": 122,
   "metadata": {},
   "outputs": [
    {
     "data": {
      "text/plain": [
       "tensor(28082)"
      ]
     },
     "execution_count": 122,
     "metadata": {},
     "output_type": "execute_result"
    }
   ],
   "source": [
    "sum(count[~more])"
   ]
  },
  {
   "cell_type": "code",
   "execution_count": 123,
   "metadata": {},
   "outputs": [
    {
     "data": {
      "text/plain": [
       "tensor(0.0049)"
      ]
     },
     "execution_count": 123,
     "metadata": {},
     "output_type": "execute_result"
    }
   ],
   "source": [
    "sum(count[~more]) / count.sum()"
   ]
  },
  {
   "cell_type": "code",
   "execution_count": 124,
   "metadata": {},
   "outputs": [
    {
     "name": "stdout",
     "output_type": "stream",
     "text": [
      "First True at index: 15\n",
      "Last True at index: 79\n"
     ]
    }
   ],
   "source": [
    "true_indices = torch.nonzero(more, as_tuple=True)[0]\n",
    "\n",
    "first_true = true_indices[0].item()\n",
    "last_true = true_indices[-1].item()\n",
    "print(f\"First True at index: {first_true}\")\n",
    "print(f\"Last True at index: {last_true}\")"
   ]
  },
  {
   "cell_type": "code",
   "execution_count": 125,
   "metadata": {},
   "outputs": [
    {
     "data": {
      "image/png": "[encoded data removed]",
      "text/plain": [
       "<Figure size 640x480 with 1 Axes>"
      ]
     },
     "metadata": {},
     "output_type": "display_data"
    }
   ],
   "source": [
    "# Now plot\n",
    "plt.figure()\n",
    "plt.bar(n_atoms, count/count.sum())\n",
    "plt.title(\"n_atoms Distribution\")\n",
    "plt.xlabel(\"Number of Atoms\")\n",
    "plt.ylabel(\"Frequency\")\n",
    "plt.grid(True)\n",
    "# plt.savefig('/Users/svlg/MasterThesis/v02/data/geom/plots/n_atoms_distribution.png')\n",
    "plt.show()"
   ]
  },
  {
   "cell_type": "code",
   "execution_count": 92,
   "metadata": {},
   "outputs": [
    {
     "data": {
      "text/plain": [
       "(tensor(3), tensor(181))"
      ]
     },
     "execution_count": 92,
     "metadata": {},
     "output_type": "execute_result"
    }
   ],
   "source": [
    "min(n_atoms), max(n_atoms),"
   ]
  },
  {
   "cell_type": "markdown",
   "metadata": {},
   "source": [
    "#### Arguments"
   ]
  },
  {
   "cell_type": "code",
   "execution_count": null,
   "metadata": {},
   "outputs": [],
   "source": [
    "args = {\n",
    "    # General\n",
    "    'seed': 42,\n",
    "    'device': 'cpu',\n",
    "    'root_dir': '/Users/svlg/MasterThesis/v02',\n",
    "\n",
    "    # FlowMol\n",
    "    'model': 'qm9_ctmc',\n",
    "    'n_molecules': 5,\n",
    "    'n_timesteps': 50,\n",
    "\n",
    "    # Reward model\n",
    "    'reward_model': 'PAMNet_s',\n",
    "    'n_layer': 6,\n",
    "    'dim': 128,\n",
    "    'target': 7,\n",
    "    'cutoff_l': 5.0,\n",
    "    'cutoff_g': 5.0,\n",
    "\n",
    "    # Data / Dataset\n",
    "    'dataset': 'QM9',\n",
    "    'data_path': '/data',\n",
    "    'batch_size': 5,\n",
    "}"
   ]
  },
  {
   "cell_type": "code",
   "execution_count": null,
   "metadata": {},
   "outputs": [],
   "source": [
    "import torch\n",
    "import numpy as np\n",
    "import random\n",
    "\n",
    "def set_seed(seed):\n",
    "    \"\"\"Seed all random generators.\"\"\"\n",
    "    torch.backends.cudnn.deterministic = True\n",
    "    torch.backends.cudnn.benchmark = False\n",
    "    torch.manual_seed(seed)\n",
    "    torch.cuda.manual_seed_all(seed)\n",
    "    np.random.seed(seed)\n",
    "    random.seed(seed)\n",
    "\n",
    "set_seed(args['seed'])"
   ]
  },
  {
   "cell_type": "markdown",
   "metadata": {},
   "source": [
    "#### Data"
   ]
  },
  {
   "cell_type": "code",
   "execution_count": null,
   "metadata": {},
   "outputs": [],
   "source": [
    "import os.path as osp\n",
    "from torch_geometric.loader import DataLoader\n",
    "from dataset.QM9 import QM9"
   ]
  },
  {
   "cell_type": "code",
   "execution_count": null,
   "metadata": {},
   "outputs": [],
   "source": [
    "data_root = osp.join(args['root_dir'] + args['data_path'])\n",
    "train_dataset = QM9(data_root)\n",
    "train_dataset.load(osp.join(data_root, 'qm9_train_data.pt'))\n",
    "train_loader = DataLoader(train_dataset, batch_size=args['batch_size'], shuffle=True)\n",
    "val_dataset = QM9(data_root)\n",
    "val_dataset.load(osp.join(data_root, 'qm9_val_data.pt'))\n",
    "val_loader = DataLoader(val_dataset, batch_size=args['batch_size'], shuffle=False)\n",
    "test_dataset = QM9(data_root)\n",
    "test_dataset.load(osp.join(data_root, 'qm9_test_data.pt'))\n",
    "test_loader = DataLoader(test_dataset, batch_size=args['batch_size'], shuffle=False)"
   ]
  },
  {
   "cell_type": "code",
   "execution_count": null,
   "metadata": {},
   "outputs": [],
   "source": [
    "for batch_data in train_loader:\n",
    "    print(batch_data)\n",
    "    break\n",
    "\n",
    "qm9_data = batch_data.to_data_list()\n",
    "qm9_dataset_smiles = [data.smiles for data in qm9_data]"
   ]
  },
  {
   "cell_type": "code",
   "execution_count": null,
   "metadata": {},
   "outputs": [],
   "source": [
    "from rdkit import Chem\n",
    "from rdkit.Geometry.rdGeometry import Point3D\n",
    "bond_type_map = [Chem.rdchem.BondType.SINGLE, \n",
    "                 Chem.rdchem.BondType.DOUBLE, \n",
    "                 Chem.rdchem.BondType.TRIPLE,\n",
    "                 Chem.rdchem.BondType.AROMATIC, \n",
    "                 None] # last bond type is for masked bonds"
   ]
  },
  {
   "cell_type": "code",
   "execution_count": null,
   "metadata": {},
   "outputs": [],
   "source": [
    "def pyg_to_rdmol(positions, atom_types, bond_src_idxs, bond_dst_idxs, bond_types):\n",
    "    \"\"\"Builds a rdkit molecule from the given atom and bond information.\"\"\"\n",
    "    # create a rdkit molecule and add atoms to it\n",
    "    mol = Chem.RWMol()\n",
    "    for atom_type in atom_types:\n",
    "        a = Chem.Atom(int(atom_type))\n",
    "        mol.AddAtom(a)\n",
    "\n",
    "    # add bonds to rdkit molecule\n",
    "    visited = set()\n",
    "    for bond_type, src_idx, dst_idx in zip(bond_types, bond_src_idxs, bond_dst_idxs):\n",
    "        src_idx = int(src_idx)\n",
    "        dst_idx = int(dst_idx)\n",
    "        if (src_idx, dst_idx) in visited or (dst_idx, src_idx) in visited:\n",
    "            continue\n",
    "        mol.AddBond(src_idx, dst_idx, bond_type_map[bond_type])\n",
    "        visited.add((src_idx, dst_idx))\n",
    "\n",
    "    try:\n",
    "        mol = mol.GetMol()\n",
    "    except Chem.KekulizeException:\n",
    "        return None\n",
    "\n",
    "    # Set coordinates\n",
    "    conf = Chem.Conformer(mol.GetNumAtoms())\n",
    "    for i in range(mol.GetNumAtoms()):\n",
    "        x, y, z = positions[i]\n",
    "        x, y, z = float(x), float(y), float(z)\n",
    "        conf.SetAtomPosition(i, Point3D(x,y,z))\n",
    "    mol.AddConformer(conf)\n",
    "\n",
    "    smiles = Chem.MolToSmiles(mol)\n",
    "    return mol, smiles"
   ]
  },
  {
   "cell_type": "code",
   "execution_count": null,
   "metadata": {},
   "outputs": [],
   "source": [
    "data = qm9_data[0]\n",
    "mol, _= pyg_to_rdmol(data.pos, data.z.tolist(), data.edge_index[0].tolist(), data.edge_index[1].tolist(), torch.argmax(data.edge_attr, dim = 1).tolist())"
   ]
  },
  {
   "cell_type": "code",
   "execution_count": null,
   "metadata": {},
   "outputs": [],
   "source": [
    "import py3Dmol\n",
    "from rdkit import Chem\n",
    "\n",
    "pdb_block = Chem.MolToMolBlock(mol)\n",
    "\n",
    "# Visualize using py3Dmol\n",
    "viewer = py3Dmol.view(width=250, height=250)\n",
    "viewer.addModel(pdb_block, \"mol\")\n",
    "viewer.setStyle({\"stick\": {}, \"sphere\": {\"scale\": 0.3}})\n",
    "viewer.zoomTo()\n",
    "viewer.show()"
   ]
  },
  {
   "cell_type": "code",
   "execution_count": null,
   "metadata": {},
   "outputs": [],
   "source": [
    "qm9_smiles = []\n",
    "for data in qm9_data:\n",
    "    mol, smiles = pyg_to_rdmol(data.pos, data.z.tolist(), data.edge_index[0].tolist(), data.edge_index[1].tolist(), torch.argmax(data.edge_attr, dim = 1).tolist())\n",
    "    if mol is not None:\n",
    "        qm9_smiles.append(smiles)"
   ]
  },
  {
   "cell_type": "markdown",
   "metadata": {},
   "source": [
    "#### Sampling"
   ]
  },
  {
   "cell_type": "code",
   "execution_count": null,
   "metadata": {},
   "outputs": [],
   "source": [
    "import flowmol"
   ]
  },
  {
   "cell_type": "code",
   "execution_count": null,
   "metadata": {},
   "outputs": [],
   "source": [
    "model = flowmol.load_pretrained(args['model'])\n",
    "model = model.to(args['device'])\n",
    "model.eval()"
   ]
  },
  {
   "cell_type": "code",
   "execution_count": null,
   "metadata": {},
   "outputs": [],
   "source": [
    "print(f\"Sampling {args['n_molecules']} molecules...\")\n",
    "generated_molecules = model.sample_random_sizes(n_molecules=args['n_molecules'], n_timesteps=args['n_timesteps'], device=args['device'])"
   ]
  },
  {
   "cell_type": "code",
   "execution_count": null,
   "metadata": {},
   "outputs": [],
   "source": [
    "gen_rdkit_mols = []\n",
    "gen_smiles = []\n",
    "for mol in generated_molecules:\n",
    "    gen_rdkit_mols.append(mol.rdkit_mol)\n",
    "    gen_smiles.append(mol.smiles)"
   ]
  },
  {
   "cell_type": "code",
   "execution_count": null,
   "metadata": {},
   "outputs": [],
   "source": [
    "gen_smiles"
   ]
  },
  {
   "cell_type": "code",
   "execution_count": null,
   "metadata": {},
   "outputs": [],
   "source": [
    "class Constrains:\n",
    "    def __init__(self,\n",
    "                 use_sa_score: bool = False,\n",
    "                 use_aizynth_finder: bool = False,\n",
    "                 use_fs_score: bool = False,\n",
    "                 use_ra_score: bool = False,\n",
    "                 use_posebuster: bool = False,\n",
    "                 pretrained_models_path: str = \"/Users/svlg/MasterThesis/v02/pretrained_models/\",):\n",
    "\n",
    "        self.use_sa_score = use_sa_score\n",
    "        self.use_aizynth_finder = use_aizynth_finder\n",
    "        self.use_fs_score = use_fs_score\n",
    "        self.use_ra_score = use_ra_score\n",
    "        self.use_posebuster = use_posebuster\n",
    "        self.pretrained_models_path = pretrained_models_path\n",
    "\n",
    "        if not (self.use_sa_score or self.use_aizynth_finder or self.use_fs_score or self.use_ra_score or self.use_posebuster):\n",
    "            print(\"No scoring function selected. Please select at least one scoring function.\")\n",
    "\n",
    "        if self.use_sa_score:\n",
    "            from molscore.scoring_functions.SA_Score import sascorer\n",
    "            from rdkit import Chem\n",
    "            self.sascorer = sascorer\n",
    "\n",
    "        if self.use_aizynth_finder:\n",
    "            from molscore.scoring_functions.aizynthfinder import AiZynthFinder\n",
    "            self.aizynth_finder = AiZynthFinder(filter_policy=None)\n",
    "\n",
    "        if self.use_fs_score:\n",
    "            from fsscore.score import Scorer\n",
    "            from fsscore.models.ranknet import LitRankNet\n",
    "            fs_score_model_path = \"/FSscore/pretrain_graph_GGLGGL_ep242_best_valloss.ckpt\"\n",
    "            model_path = self.pretrained_models_path + fs_score_model_path\n",
    "            model = LitRankNet.load_from_checkpoint(model_path)\n",
    "            model.to(args['device'])\n",
    "            model.eval()\n",
    "            self.fc_scorer = Scorer(model=model, device=args['device'])\n",
    "\n",
    "        if self.use_ra_score:\n",
    "            from molscore.scoring_functions.rascore_xgb import RAScore_XGB\n",
    "            self.ra_scorer = RAScore_XGB(model = \"GDB\")\n",
    "\n",
    "        if self.use_posebuster:\n",
    "            from posebusters import PoseBusters\n",
    "            self.posebuster = PoseBusters(config=\"mol\")\n",
    "\n",
    "    def get_sa_score(self, tmp_list):\n",
    "        r\"\"\"Input: List of RDKit molecules\"\"\"\n",
    "        rt_list = []\n",
    "        for tmp in tmp_list:\n",
    "            Chem.GetSSSR(tmp)\n",
    "            Chem.SanitizeMol(tmp)\n",
    "            score = self.sascorer.calculateScore(tmp)\n",
    "            rt_list.append(score)\n",
    "        return rt_list\n",
    "\n",
    "    def get_aizynth_finder(self, tmp_list, directory='ai_finder_results', just_scores=True):\n",
    "        r\"\"\"Input: List of SMILES\"\"\"\n",
    "        r\"\"\"Example of aizynth_finder output:\n",
    "            {'smiles': '[H]C([H])([H])[NH+](C([H])([H])[H])C([H])([H])C([H])(C#N)C([H])([H])C([H])([H])[H]',\n",
    "             'AiZynth_is_solved': False,\n",
    "             'AiZynth_top_score': 0.0491006895,\n",
    "             'AiZynth_number_of_steps': 0,\n",
    "             'AiZynth_number_of_precursors': 1,\n",
    "             'AiZynth_precursors_in_stock': '',\n",
    "             'AiZynth_precursors_not_in_stock': '[H]N1C2([H])C([H])([H])[NH+]3C([H])([H])C1(C([H])([H])[H])C32[H]'}\"\"\"\n",
    "        tmp_list = self.aizynth_finder(tmp_list, directory)\n",
    "        if just_scores:\n",
    "            return [(tmp['AiZynth_is_solved'], tmp['AiZynth_top_score']) for tmp in tmp_list]\n",
    "        else:\n",
    "            return tmp_list\n",
    "\n",
    "    def get_fs_score(self, tmp_list):\n",
    "        r\"\"\"Input: List of SMILES\"\"\"\n",
    "        return self.fc_scorer(tmp_list)\n",
    "    \n",
    "    def get_ra_score(self, tmp_list):\n",
    "        r\"\"\"Input: List of SMILES\"\"\"\n",
    "        tmp_list = self.ra_scorer(tmp_list)\n",
    "        return [tmp['RAScore_pred_proba'] for tmp in tmp_list]\n",
    "    \n",
    "    def get_posebuster(self, tmp_list, full_report=False):\n",
    "        r\"\"\"Input: List of RDKit molecules\"\"\"\n",
    "        return self.posebuster.bust(tmp_list, None, None, full_report=full_report)\n",
    "    \n",
    "    def __call__(self, tmp_list):\n",
    "        r\"\"\"Input: List of Molecules\"\"\"\n",
    "        scores = dict()\n",
    "        if self.use_sa_score:\n",
    "            scores['sa_score'] = self.get_sa_score(tmp_list)\n",
    "        if self.use_aizynth_finder:\n",
    "            scores['aizynth_finder'] = self.get_aizynth_finder(tmp_list)\n",
    "        if self.use_fs_score:\n",
    "            scores['fs_score'] = self.get_fs_score(tmp_list)\n",
    "        if self.use_ra_score:\n",
    "            scores['ra_score'] = self.get_ra_score(tmp_list)\n",
    "        if self.use_posebuster:\n",
    "            scores['posebuster'] = self.get_posebuster(tmp_list)\n",
    "        return scores"
   ]
  },
  {
   "cell_type": "markdown",
   "metadata": {},
   "source": [
    "#### SA Score"
   ]
  },
  {
   "cell_type": "code",
   "execution_count": null,
   "metadata": {},
   "outputs": [],
   "source": [
    "from molscore.scoring_functions.SA_Score import sascorer\n",
    "from rdkit import Chem"
   ]
  },
  {
   "cell_type": "code",
   "execution_count": null,
   "metadata": {},
   "outputs": [],
   "source": [
    "sa_scores = []\n",
    "for tmp in gen_rdkit_mols:\n",
    "    Chem.GetSSSR(tmp)\n",
    "    Chem.SanitizeMol(tmp)\n",
    "    score = sascorer.calculateScore(tmp)\n",
    "    sa_scores.append(score)\n",
    "sa_scores"
   ]
  },
  {
   "cell_type": "code",
   "execution_count": null,
   "metadata": {},
   "outputs": [],
   "source": [
    "def get_sa_score(mol):\n",
    "    Chem.GetSSSR(mol)\n",
    "    Chem.SanitizeMol(mol)\n",
    "    score = sascorer.calculateScore(mol)\n",
    "    return score"
   ]
  },
  {
   "cell_type": "markdown",
   "metadata": {},
   "source": [
    "#### AiZynthFinder"
   ]
  },
  {
   "cell_type": "code",
   "execution_count": null,
   "metadata": {},
   "outputs": [],
   "source": [
    "from molscore.scoring_functions.aizynthfinder import AiZynthFinder"
   ]
  },
  {
   "cell_type": "code",
   "execution_count": null,
   "metadata": {},
   "outputs": [],
   "source": [
    "aizynthfinder = AiZynthFinder(filter_policy=None)"
   ]
  },
  {
   "cell_type": "code",
   "execution_count": null,
   "metadata": {},
   "outputs": [],
   "source": [
    "results = aizynthfinder(gen_smiles, directory='ai_finder_results')"
   ]
  },
  {
   "cell_type": "code",
   "execution_count": null,
   "metadata": {},
   "outputs": [],
   "source": [
    "def get_aizynthfinder_score(smiles):\n",
    "    results = aizynthfinder(smiles, directory='ai_finder_results')\n",
    "    return results[0]['score']"
   ]
  },
  {
   "cell_type": "code",
   "execution_count": null,
   "metadata": {},
   "outputs": [],
   "source": [
    "results = [(tmp['AiZynth_is_solved'], tmp['AiZynth_top_score']) for tmp in results]"
   ]
  },
  {
   "cell_type": "code",
   "execution_count": null,
   "metadata": {},
   "outputs": [],
   "source": [
    "import json\n",
    "import pandas as pd"
   ]
  },
  {
   "cell_type": "code",
   "execution_count": null,
   "metadata": {},
   "outputs": [],
   "source": [
    "# Open and read the JSON file\n",
    "with open('/Users/svlg/MasterThesis/v02/ai_finder_results/aizynth_out.json', 'r') as file:\n",
    "    f = json.load(file)"
   ]
  },
  {
   "cell_type": "code",
   "execution_count": null,
   "metadata": {},
   "outputs": [],
   "source": [
    "# Extract schema and data\n",
    "schema = f[\"schema\"]\n",
    "data = f[\"data\"]\n",
    "\n",
    "# Create a DataFrame\n",
    "df_aizynthfinder = pd.DataFrame(data)"
   ]
  },
  {
   "cell_type": "code",
   "execution_count": null,
   "metadata": {},
   "outputs": [],
   "source": [
    "schema"
   ]
  },
  {
   "cell_type": "code",
   "execution_count": null,
   "metadata": {},
   "outputs": [],
   "source": [
    "df_aizynthfinder['is_solved']"
   ]
  },
  {
   "cell_type": "code",
   "execution_count": null,
   "metadata": {},
   "outputs": [],
   "source": [
    "type_mapping = {\n",
    "    \"integer\": \"int64\",\n",
    "    \"number\": \"float64\",\n",
    "    \"string\": \"object\",\n",
    "    \"boolean\": \"bool\"\n",
    "}"
   ]
  },
  {
   "cell_type": "code",
   "execution_count": null,
   "metadata": {},
   "outputs": [],
   "source": [
    "for field in schema[\"fields\"]:\n",
    "    column_name = field[\"name\"]\n",
    "    column_type = field[\"type\"]\n",
    "    if column_type in type_mapping:\n",
    "        df_aizynthfinder[column_name] = df_aizynthfinder[column_name].astype(type_mapping[column_type])\n",
    "\n",
    "df_aizynthfinder.set_index(schema[\"primaryKey\"], inplace=True)"
   ]
  },
  {
   "cell_type": "code",
   "execution_count": null,
   "metadata": {},
   "outputs": [],
   "source": [
    "df_aizynthfinder"
   ]
  },
  {
   "cell_type": "code",
   "execution_count": null,
   "metadata": {},
   "outputs": [],
   "source": [
    "df_aizynthfinder.columns"
   ]
  },
  {
   "cell_type": "code",
   "execution_count": null,
   "metadata": {},
   "outputs": [],
   "source": [
    "df_aizynthfinder.iloc[1]"
   ]
  },
  {
   "cell_type": "markdown",
   "metadata": {},
   "source": [
    "#### FS-Score"
   ]
  },
  {
   "cell_type": "code",
   "execution_count": null,
   "metadata": {},
   "outputs": [],
   "source": [
    "from fsscore.score import Scorer\n",
    "from fsscore.models.ranknet import LitRankNet"
   ]
  },
  {
   "cell_type": "code",
   "execution_count": null,
   "metadata": {},
   "outputs": [],
   "source": [
    "PRETRAIN_MODEL_PATH = \"/Users/svlg/MasterThesis/v02/pretrained_models/FSscore/pretrain_graph_GGLGGL_ep242_best_valloss.ckpt\"\n",
    "model = LitRankNet.load_from_checkpoint(PRETRAIN_MODEL_PATH)\n",
    "model.to(args['device'])\n",
    "model.eval()\n",
    "scorer = Scorer(model=model, device=args['device'])"
   ]
  },
  {
   "cell_type": "code",
   "execution_count": null,
   "metadata": {},
   "outputs": [],
   "source": [
    "scores = scorer.score(gen_smiles)"
   ]
  },
  {
   "cell_type": "code",
   "execution_count": null,
   "metadata": {},
   "outputs": [],
   "source": [
    "scores"
   ]
  },
  {
   "cell_type": "code",
   "execution_count": null,
   "metadata": {},
   "outputs": [],
   "source": [
    "def get_fs_score(mol):\n",
    "    return scorer.score(mol)"
   ]
  },
  {
   "cell_type": "markdown",
   "metadata": {},
   "source": [
    "#### RA-Score"
   ]
  },
  {
   "cell_type": "code",
   "execution_count": null,
   "metadata": {},
   "outputs": [],
   "source": [
    "from molscore.scoring_functions.rascore_xgb import RAScore_XGB"
   ]
  },
  {
   "cell_type": "code",
   "execution_count": null,
   "metadata": {},
   "outputs": [],
   "source": [
    "ra_scorer = RAScore_XGB(model = \"GDB\")"
   ]
  },
  {
   "cell_type": "code",
   "execution_count": null,
   "metadata": {},
   "outputs": [],
   "source": [
    "score = ra_scorer(gen_smiles)\n",
    "score"
   ]
  },
  {
   "cell_type": "code",
   "execution_count": null,
   "metadata": {},
   "outputs": [],
   "source": [
    "def get_fs_score(mol):\n",
    "    assert type(mol) == list\n",
    "    tmp = ra_scorer(mol)\n",
    "    score = [x['RAScore_pred_proba'] for x in tmp]\n",
    "    return score"
   ]
  },
  {
   "cell_type": "markdown",
   "metadata": {},
   "source": [
    "#### PoseBuster"
   ]
  },
  {
   "cell_type": "code",
   "execution_count": null,
   "metadata": {},
   "outputs": [],
   "source": [
    "from posebusters import PoseBusters"
   ]
  },
  {
   "cell_type": "code",
   "execution_count": null,
   "metadata": {},
   "outputs": [],
   "source": [
    "buster = PoseBusters(config=\"mol\")\n",
    "df = buster.bust(gen_rdkit_mols, None, None, full_report=False)\n",
    "print(df.shape)\n",
    "df"
   ]
  },
  {
   "cell_type": "code",
   "execution_count": null,
   "metadata": {},
   "outputs": [],
   "source": [
    "df.columns"
   ]
  },
  {
   "cell_type": "code",
   "execution_count": null,
   "metadata": {},
   "outputs": [],
   "source": [
    "df.iloc[0]"
   ]
  },
  {
   "cell_type": "code",
   "execution_count": null,
   "metadata": {},
   "outputs": [],
   "source": []
  },
  {
   "cell_type": "markdown",
   "metadata": {},
   "source": [
    "#### XTB Simulation"
   ]
  },
  {
   "cell_type": "code",
   "execution_count": null,
   "metadata": {},
   "outputs": [],
   "source": [
    "from true_reward import xtb_simulation"
   ]
  },
  {
   "cell_type": "code",
   "execution_count": null,
   "metadata": {},
   "outputs": [],
   "source": [
    "#  Calculate the true reward\n",
    "true_rewards = []\n",
    "for mol in generated_molecules:\n",
    "    quantity_value = xtb_simulation.compute_true_reward(mol.g, \"dgl\", \"homolumo\")\n",
    "    homolumo_gap, lumo, homo = quantity_value\n",
    "    print(f\"HOMO-LUMO gap: {homolumo_gap:.6f} eV\")\n",
    "    print(f\"LUMO: {lumo} eV\\nHOMO: {homo} eV\")"
   ]
  },
  {
   "cell_type": "markdown",
   "metadata": {},
   "source": [
    "#### Differentiable Reward"
   ]
  },
  {
   "cell_type": "code",
   "execution_count": null,
   "metadata": {},
   "outputs": [],
   "source": [
    "from PAMNet.models import PAMNet_s, Config"
   ]
  },
  {
   "cell_type": "code",
   "execution_count": null,
   "metadata": {},
   "outputs": [],
   "source": [
    "config = Config(dataset=args['dataset'], dim=args['dim'], n_layer=args['n_layer'], cutoff_l=args['cutoff_l'], cutoff_g=args['cutoff_g'])\n",
    "reward_model = PAMNet_s(config).to(args['device'])\n",
    "reward_model.eval()"
   ]
  },
  {
   "cell_type": "code",
   "execution_count": null,
   "metadata": {},
   "outputs": [],
   "source": [
    "targets = []\n",
    "for data in generated_molecules:\n",
    "    data = data.pyg_mol\n",
    "    data.pos.requires_grad_()\n",
    "    tmp = reward_model(data)\n",
    "    targets.append(tmp)\n",
    "    tmp.backward()\n",
    "    pos_grad = data.pos.grad\n",
    "print(len(targets))\n",
    "print(data.pos.shape)\n",
    "print(pos_grad.shape)"
   ]
  },
  {
   "cell_type": "markdown",
   "metadata": {},
   "source": [
    "#### Visualize the Molecules"
   ]
  },
  {
   "cell_type": "code",
   "execution_count": null,
   "metadata": {},
   "outputs": [],
   "source": [
    "import py3Dmol"
   ]
  },
  {
   "cell_type": "code",
   "execution_count": null,
   "metadata": {},
   "outputs": [],
   "source": [
    "# Convert RDKit Mol to PDB block\n",
    "pdb_blocks = []\n",
    "for mol in gen_rdkit_molecules:\n",
    "    pdb_blocks.append(Chem.MolToMolBlock(mol))\n",
    "\n",
    "# Visualize using py3Dmol\n",
    "viewer = py3Dmol.view(width=600, height=600, viewergrid=(3, 3))\n",
    "viewer.addModel(pdb_blocks[0], \"mol\", viewer=(0, 0))\n",
    "viewer.addModel(pdb_blocks[1], \"mol\", viewer=(0, 1))\n",
    "viewer.addModel(pdb_blocks[2], \"mol\", viewer=(0, 2))\n",
    "viewer.addModel(pdb_blocks[3], \"mol\", viewer=(1, 0))\n",
    "viewer.addModel(pdb_blocks[4], \"mol\", viewer=(1, 1))\n",
    "viewer.addModel(pdb_blocks[5], \"mol\", viewer=(1, 2))\n",
    "viewer.addModel(pdb_blocks[6], \"mol\", viewer=(2, 0))\n",
    "viewer.addModel(pdb_blocks[7], \"mol\", viewer=(2, 1))\n",
    "viewer.addModel(pdb_blocks[8], \"mol\", viewer=(2, 2))\n",
    "viewer.setStyle({\"stick\": {}, \"sphere\": {\"scale\": 0.3}})\n",
    "viewer.zoomTo()\n",
    "viewer.show()"
   ]
  },
  {
   "cell_type": "code",
   "execution_count": null,
   "metadata": {},
   "outputs": [],
   "source": []
  }
 ],
 "metadata": {
  "kernelspec": {
   "display_name": "deep",
   "language": "python",
   "name": "python3"
  },
  "language_info": {
   "codemirror_mode": {
    "name": "ipython",
    "version": 3
   },
   "file_extension": ".py",
   "mimetype": "text/x-python",
   "name": "python",
   "nbconvert_exporter": "python",
   "pygments_lexer": "ipython3",
   "version": "3.9.21"
  }
 },
 "nbformat": 4,
 "nbformat_minor": 2
}

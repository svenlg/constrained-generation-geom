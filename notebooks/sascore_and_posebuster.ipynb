{
 "cells": [
  {
   "cell_type": "code",
   "execution_count": 1,
   "metadata": {},
   "outputs": [],
   "source": [
    "%load_ext autoreload\n",
    "%autoreload 2"
   ]
  },
  {
   "cell_type": "code",
   "execution_count": null,
   "metadata": {},
   "outputs": [],
   "source": [
    "import os\n",
    "import sys\n",
    "import copy\n",
    "import time\n",
    "from pathlib import Path\n",
    "from datetime import datetime\n",
    "import matplotlib.pyplot as plt\n",
    "from omegaconf import OmegaConf\n",
    "import matplotlib.pyplot as plt\n",
    "\n",
    "import torch\n",
    "import torch.nn as nn\n",
    "import numpy as np\n",
    "from tqdm import tqdm\n",
    "\n",
    "# Add the project root to the path\n",
    "module_path = os.path.abspath(os.path.join('..'))\n",
    "if module_path not in sys.path:\n",
    "    sys.path.append(module_path)\n",
    "\n",
    "from utils.utils import set_seed"
   ]
  },
  {
   "cell_type": "code",
   "execution_count": 3,
   "metadata": {},
   "outputs": [],
   "source": [
    "import dgl\n",
    "import flowmol"
   ]
  },
  {
   "cell_type": "code",
   "execution_count": 4,
   "metadata": {},
   "outputs": [],
   "source": [
    "def sampling(config: OmegaConf, model: flowmol.FlowMol, device: torch.device):\n",
    "    new_molecules = model.sample_random_sizes(\n",
    "        n_molecules = config.num_samples, \n",
    "        n_timesteps = config.num_integration_steps + 1, \n",
    "        device = device,\n",
    "    )\n",
    "    return new_molecules"
   ]
  },
  {
   "cell_type": "code",
   "execution_count": 5,
   "metadata": {},
   "outputs": [],
   "source": [
    "def setup_gen_model(flow_model: str, device: torch.device):\n",
    "    # Load - Flow Model\n",
    "    gen_model = flowmol.load_pretrained(flow_model)\n",
    "    gen_model.to(device)\n",
    "    return gen_model"
   ]
  },
  {
   "cell_type": "code",
   "execution_count": 6,
   "metadata": {},
   "outputs": [],
   "source": [
    "import py3Dmol\n",
    "from rdkit import Chem\n",
    "from rdkit.Chem import AllChem\n",
    "\n",
    "def print_molecule(mol):\n",
    "    # Convert RDKit molecule to 3D coordinates\n",
    "    mol = Chem.AddHs(mol)\n",
    "    AllChem.EmbedMolecule(mol, randomSeed=42)\n",
    "    AllChem.UFFOptimizeMolecule(mol)\n",
    "\n",
    "    # Generate PDB block\n",
    "    Chem.SanitizeMol(mol)\n",
    "    Chem.AssignAtomChiralTagsFromStructure(mol)\n",
    "    Chem.AssignStereochemistryFrom3D(mol)"
   ]
  },
  {
   "cell_type": "markdown",
   "metadata": {},
   "source": [
    "### Start"
   ]
  },
  {
   "cell_type": "code",
   "execution_count": 7,
   "metadata": {},
   "outputs": [],
   "source": [
    "config = OmegaConf.create({\n",
    "    \"seed\": 42,\n",
    "    \"flow_model\": \"qm9_ctmc\",\n",
    "    \"num_samples\": 5,\n",
    "    \"num_integration_steps\": 100,\n",
    "})"
   ]
  },
  {
   "cell_type": "code",
   "execution_count": null,
   "metadata": {},
   "outputs": [],
   "source": [
    "# Setup - Seed and device\n",
    "set_seed(config.seed)\n",
    "device = torch.device(\"cuda:0\" if torch.cuda.is_available() else \"cpu\")"
   ]
  },
  {
   "cell_type": "code",
   "execution_count": 9,
   "metadata": {},
   "outputs": [],
   "source": [
    "# Setup - Gen Model\n",
    "gen_model = setup_gen_model(config.flow_model, device=device)"
   ]
  },
  {
   "cell_type": "code",
   "execution_count": 11,
   "metadata": {},
   "outputs": [
    {
     "name": "stderr",
     "output_type": "stream",
     "text": [
      "/opt/homebrew/Caskroom/miniforge/base/envs/deep/lib/python3.9/site-packages/dgl/backend/pytorch/tensor.py:449: UserWarning: TypedStorage is deprecated. It will be removed in the future and UntypedStorage will be the only storage class. This should only matter to you if you are using storages directly.  To access UntypedStorage directly, use tensor.untyped_storage() instead of tensor.storage()\n",
      "  assert input.numel() == input.storage().size(), (\n"
     ]
    }
   ],
   "source": [
    "generated_molecules = sampling(config, gen_model, device)"
   ]
  },
  {
   "cell_type": "code",
   "execution_count": 12,
   "metadata": {},
   "outputs": [
    {
     "data": {
      "text/plain": [
       "['[H]C#CC1(C([H])=O)[NH+](C([H])([H])C([H])([H])[H])C1([H])[H]',\n",
       " '[H]C(=O)C1([H])C([H])([H])C2(C([H])([H])C([H])([H])[H])C([H])([H])C12[H]',\n",
       " '[H]C1=C(C([H])([H])C([H])([H])[H])C2(C([H])([H])[H])C([H])([H])C2([H])C1([H])[H]',\n",
       " '[H]OC([H])([H])C1([H])OC(=O)C2([H])OC21[H]',\n",
       " '[H]C1([H])C(=O)C2([H])OC2(C([H])([H])[H])C1=O']"
      ]
     },
     "execution_count": 12,
     "metadata": {},
     "output_type": "execute_result"
    }
   ],
   "source": [
    "gen_rdkit_mols = []\n",
    "gen_smiles = []\n",
    "for mol in generated_molecules:\n",
    "    gen_rdkit_mols.append(mol.rdkit_mol)\n",
    "    gen_smiles.append(mol.smiles)\n",
    "\n",
    "gen_smiles"
   ]
  },
  {
   "cell_type": "markdown",
   "metadata": {},
   "source": [
    "#### SA Score"
   ]
  },
  {
   "cell_type": "code",
   "execution_count": 13,
   "metadata": {},
   "outputs": [
    {
     "name": "stderr",
     "output_type": "stream",
     "text": [
      "OpenEye functions: currently unavailable due to the following: No module named 'openeye'\n",
      "PoseCheck metrics: currently unavailable due to the following: No module named 'prolif'\n"
     ]
    }
   ],
   "source": [
    "from molscore.scoring_functions.SA_Score import sascorer\n",
    "from rdkit import Chem"
   ]
  },
  {
   "cell_type": "code",
   "execution_count": 14,
   "metadata": {},
   "outputs": [],
   "source": [
    "def get_sa_score(mol):\n",
    "    Chem.GetSSSR(mol)\n",
    "    Chem.SanitizeMol(mol)\n",
    "    score = sascorer.calculateScore(mol)\n",
    "    return score"
   ]
  },
  {
   "cell_type": "code",
   "execution_count": 15,
   "metadata": {},
   "outputs": [
    {
     "data": {
      "text/plain": [
       "[7.511121331446639,\n",
       " 7.7398463812059655,\n",
       " 7.7752512797078035,\n",
       " 7.653818612869355,\n",
       " 7.0971109891641975]"
      ]
     },
     "execution_count": 15,
     "metadata": {},
     "output_type": "execute_result"
    }
   ],
   "source": [
    "sa_scores = []\n",
    "for tmp in gen_rdkit_mols:\n",
    "    Chem.GetSSSR(tmp)\n",
    "    Chem.SanitizeMol(tmp)\n",
    "    score = sascorer.calculateScore(tmp)\n",
    "    sa_scores.append(score)\n",
    "\n",
    "sa_scores"
   ]
  },
  {
   "cell_type": "code",
   "execution_count": 16,
   "metadata": {},
   "outputs": [],
   "source": [
    "from posebusters import PoseBusters"
   ]
  },
  {
   "cell_type": "code",
   "execution_count": 17,
   "metadata": {},
   "outputs": [
    {
     "name": "stdout",
     "output_type": "stream",
     "text": [
      "(5, 10)\n"
     ]
    },
    {
     "data": {
      "text/html": [
       "<div>\n",
       "<style scoped>\n",
       "    .dataframe tbody tr th:only-of-type {\n",
       "        vertical-align: middle;\n",
       "    }\n",
       "\n",
       "    .dataframe tbody tr th {\n",
       "        vertical-align: top;\n",
       "    }\n",
       "\n",
       "    .dataframe thead th {\n",
       "        text-align: right;\n",
       "    }\n",
       "</style>\n",
       "<table border=\"1\" class=\"dataframe\">\n",
       "  <thead>\n",
       "    <tr style=\"text-align: right;\">\n",
       "      <th></th>\n",
       "      <th></th>\n",
       "      <th>mol_pred_loaded</th>\n",
       "      <th>sanitization</th>\n",
       "      <th>inchi_convertible</th>\n",
       "      <th>all_atoms_connected</th>\n",
       "      <th>bond_lengths</th>\n",
       "      <th>bond_angles</th>\n",
       "      <th>internal_steric_clash</th>\n",
       "      <th>aromatic_ring_flatness</th>\n",
       "      <th>double_bond_flatness</th>\n",
       "      <th>internal_energy</th>\n",
       "    </tr>\n",
       "    <tr>\n",
       "      <th>file</th>\n",
       "      <th>molecule</th>\n",
       "      <th></th>\n",
       "      <th></th>\n",
       "      <th></th>\n",
       "      <th></th>\n",
       "      <th></th>\n",
       "      <th></th>\n",
       "      <th></th>\n",
       "      <th></th>\n",
       "      <th></th>\n",
       "      <th></th>\n",
       "    </tr>\n",
       "  </thead>\n",
       "  <tbody>\n",
       "    <tr>\n",
       "      <th>&lt;rdkit.Chem.rdchem.Mol object at 0x333502d60&gt;</th>\n",
       "      <th>mol_at_pos_0</th>\n",
       "      <td>True</td>\n",
       "      <td>True</td>\n",
       "      <td>True</td>\n",
       "      <td>True</td>\n",
       "      <td>True</td>\n",
       "      <td>True</td>\n",
       "      <td>True</td>\n",
       "      <td>True</td>\n",
       "      <td>True</td>\n",
       "      <td>True</td>\n",
       "    </tr>\n",
       "    <tr>\n",
       "      <th>&lt;rdkit.Chem.rdchem.Mol object at 0x3334ef660&gt;</th>\n",
       "      <th>mol_at_pos_0</th>\n",
       "      <td>True</td>\n",
       "      <td>True</td>\n",
       "      <td>True</td>\n",
       "      <td>True</td>\n",
       "      <td>True</td>\n",
       "      <td>True</td>\n",
       "      <td>True</td>\n",
       "      <td>True</td>\n",
       "      <td>True</td>\n",
       "      <td>True</td>\n",
       "    </tr>\n",
       "    <tr>\n",
       "      <th>&lt;rdkit.Chem.rdchem.Mol object at 0x3334ef580&gt;</th>\n",
       "      <th>mol_at_pos_0</th>\n",
       "      <td>True</td>\n",
       "      <td>True</td>\n",
       "      <td>True</td>\n",
       "      <td>True</td>\n",
       "      <td>True</td>\n",
       "      <td>True</td>\n",
       "      <td>True</td>\n",
       "      <td>True</td>\n",
       "      <td>True</td>\n",
       "      <td>True</td>\n",
       "    </tr>\n",
       "    <tr>\n",
       "      <th>&lt;rdkit.Chem.rdchem.Mol object at 0x3334ef3c0&gt;</th>\n",
       "      <th>mol_at_pos_0</th>\n",
       "      <td>True</td>\n",
       "      <td>True</td>\n",
       "      <td>True</td>\n",
       "      <td>True</td>\n",
       "      <td>True</td>\n",
       "      <td>True</td>\n",
       "      <td>True</td>\n",
       "      <td>True</td>\n",
       "      <td>True</td>\n",
       "      <td>True</td>\n",
       "    </tr>\n",
       "    <tr>\n",
       "      <th>&lt;rdkit.Chem.rdchem.Mol object at 0x3334ef350&gt;</th>\n",
       "      <th>mol_at_pos_0</th>\n",
       "      <td>True</td>\n",
       "      <td>True</td>\n",
       "      <td>True</td>\n",
       "      <td>True</td>\n",
       "      <td>True</td>\n",
       "      <td>True</td>\n",
       "      <td>True</td>\n",
       "      <td>True</td>\n",
       "      <td>True</td>\n",
       "      <td>True</td>\n",
       "    </tr>\n",
       "  </tbody>\n",
       "</table>\n",
       "</div>"
      ],
      "text/plain": [
       "                                                            mol_pred_loaded  \\\n",
       "file                                          molecule                        \n",
       "<rdkit.Chem.rdchem.Mol object at 0x333502d60> mol_at_pos_0             True   \n",
       "<rdkit.Chem.rdchem.Mol object at 0x3334ef660> mol_at_pos_0             True   \n",
       "<rdkit.Chem.rdchem.Mol object at 0x3334ef580> mol_at_pos_0             True   \n",
       "<rdkit.Chem.rdchem.Mol object at 0x3334ef3c0> mol_at_pos_0             True   \n",
       "<rdkit.Chem.rdchem.Mol object at 0x3334ef350> mol_at_pos_0             True   \n",
       "\n",
       "                                                            sanitization  \\\n",
       "file                                          molecule                     \n",
       "<rdkit.Chem.rdchem.Mol object at 0x333502d60> mol_at_pos_0          True   \n",
       "<rdkit.Chem.rdchem.Mol object at 0x3334ef660> mol_at_pos_0          True   \n",
       "<rdkit.Chem.rdchem.Mol object at 0x3334ef580> mol_at_pos_0          True   \n",
       "<rdkit.Chem.rdchem.Mol object at 0x3334ef3c0> mol_at_pos_0          True   \n",
       "<rdkit.Chem.rdchem.Mol object at 0x3334ef350> mol_at_pos_0          True   \n",
       "\n",
       "                                                            inchi_convertible  \\\n",
       "file                                          molecule                          \n",
       "<rdkit.Chem.rdchem.Mol object at 0x333502d60> mol_at_pos_0               True   \n",
       "<rdkit.Chem.rdchem.Mol object at 0x3334ef660> mol_at_pos_0               True   \n",
       "<rdkit.Chem.rdchem.Mol object at 0x3334ef580> mol_at_pos_0               True   \n",
       "<rdkit.Chem.rdchem.Mol object at 0x3334ef3c0> mol_at_pos_0               True   \n",
       "<rdkit.Chem.rdchem.Mol object at 0x3334ef350> mol_at_pos_0               True   \n",
       "\n",
       "                                                            all_atoms_connected  \\\n",
       "file                                          molecule                            \n",
       "<rdkit.Chem.rdchem.Mol object at 0x333502d60> mol_at_pos_0                 True   \n",
       "<rdkit.Chem.rdchem.Mol object at 0x3334ef660> mol_at_pos_0                 True   \n",
       "<rdkit.Chem.rdchem.Mol object at 0x3334ef580> mol_at_pos_0                 True   \n",
       "<rdkit.Chem.rdchem.Mol object at 0x3334ef3c0> mol_at_pos_0                 True   \n",
       "<rdkit.Chem.rdchem.Mol object at 0x3334ef350> mol_at_pos_0                 True   \n",
       "\n",
       "                                                            bond_lengths  \\\n",
       "file                                          molecule                     \n",
       "<rdkit.Chem.rdchem.Mol object at 0x333502d60> mol_at_pos_0          True   \n",
       "<rdkit.Chem.rdchem.Mol object at 0x3334ef660> mol_at_pos_0          True   \n",
       "<rdkit.Chem.rdchem.Mol object at 0x3334ef580> mol_at_pos_0          True   \n",
       "<rdkit.Chem.rdchem.Mol object at 0x3334ef3c0> mol_at_pos_0          True   \n",
       "<rdkit.Chem.rdchem.Mol object at 0x3334ef350> mol_at_pos_0          True   \n",
       "\n",
       "                                                            bond_angles  \\\n",
       "file                                          molecule                    \n",
       "<rdkit.Chem.rdchem.Mol object at 0x333502d60> mol_at_pos_0         True   \n",
       "<rdkit.Chem.rdchem.Mol object at 0x3334ef660> mol_at_pos_0         True   \n",
       "<rdkit.Chem.rdchem.Mol object at 0x3334ef580> mol_at_pos_0         True   \n",
       "<rdkit.Chem.rdchem.Mol object at 0x3334ef3c0> mol_at_pos_0         True   \n",
       "<rdkit.Chem.rdchem.Mol object at 0x3334ef350> mol_at_pos_0         True   \n",
       "\n",
       "                                                            internal_steric_clash  \\\n",
       "file                                          molecule                              \n",
       "<rdkit.Chem.rdchem.Mol object at 0x333502d60> mol_at_pos_0                   True   \n",
       "<rdkit.Chem.rdchem.Mol object at 0x3334ef660> mol_at_pos_0                   True   \n",
       "<rdkit.Chem.rdchem.Mol object at 0x3334ef580> mol_at_pos_0                   True   \n",
       "<rdkit.Chem.rdchem.Mol object at 0x3334ef3c0> mol_at_pos_0                   True   \n",
       "<rdkit.Chem.rdchem.Mol object at 0x3334ef350> mol_at_pos_0                   True   \n",
       "\n",
       "                                                            aromatic_ring_flatness  \\\n",
       "file                                          molecule                               \n",
       "<rdkit.Chem.rdchem.Mol object at 0x333502d60> mol_at_pos_0                    True   \n",
       "<rdkit.Chem.rdchem.Mol object at 0x3334ef660> mol_at_pos_0                    True   \n",
       "<rdkit.Chem.rdchem.Mol object at 0x3334ef580> mol_at_pos_0                    True   \n",
       "<rdkit.Chem.rdchem.Mol object at 0x3334ef3c0> mol_at_pos_0                    True   \n",
       "<rdkit.Chem.rdchem.Mol object at 0x3334ef350> mol_at_pos_0                    True   \n",
       "\n",
       "                                                            double_bond_flatness  \\\n",
       "file                                          molecule                             \n",
       "<rdkit.Chem.rdchem.Mol object at 0x333502d60> mol_at_pos_0                  True   \n",
       "<rdkit.Chem.rdchem.Mol object at 0x3334ef660> mol_at_pos_0                  True   \n",
       "<rdkit.Chem.rdchem.Mol object at 0x3334ef580> mol_at_pos_0                  True   \n",
       "<rdkit.Chem.rdchem.Mol object at 0x3334ef3c0> mol_at_pos_0                  True   \n",
       "<rdkit.Chem.rdchem.Mol object at 0x3334ef350> mol_at_pos_0                  True   \n",
       "\n",
       "                                                            internal_energy  \n",
       "file                                          molecule                       \n",
       "<rdkit.Chem.rdchem.Mol object at 0x333502d60> mol_at_pos_0             True  \n",
       "<rdkit.Chem.rdchem.Mol object at 0x3334ef660> mol_at_pos_0             True  \n",
       "<rdkit.Chem.rdchem.Mol object at 0x3334ef580> mol_at_pos_0             True  \n",
       "<rdkit.Chem.rdchem.Mol object at 0x3334ef3c0> mol_at_pos_0             True  \n",
       "<rdkit.Chem.rdchem.Mol object at 0x3334ef350> mol_at_pos_0             True  "
      ]
     },
     "execution_count": 17,
     "metadata": {},
     "output_type": "execute_result"
    }
   ],
   "source": [
    "buster = PoseBusters(config=\"mol\")\n",
    "df = buster.bust(gen_rdkit_mols, None, None, full_report=False)\n",
    "print(df.shape)\n",
    "df"
   ]
  },
  {
   "cell_type": "code",
   "execution_count": 18,
   "metadata": {},
   "outputs": [
    {
     "data": {
      "text/plain": [
       "Index(['mol_pred_loaded', 'sanitization', 'inchi_convertible',\n",
       "       'all_atoms_connected', 'bond_lengths', 'bond_angles',\n",
       "       'internal_steric_clash', 'aromatic_ring_flatness',\n",
       "       'double_bond_flatness', 'internal_energy'],\n",
       "      dtype='object')"
      ]
     },
     "execution_count": 18,
     "metadata": {},
     "output_type": "execute_result"
    }
   ],
   "source": [
    "df.columns"
   ]
  },
  {
   "cell_type": "code",
   "execution_count": 19,
   "metadata": {},
   "outputs": [
    {
     "data": {
      "text/plain": [
       "mol_pred_loaded           True\n",
       "sanitization              True\n",
       "inchi_convertible         True\n",
       "all_atoms_connected       True\n",
       "bond_lengths              True\n",
       "bond_angles               True\n",
       "internal_steric_clash     True\n",
       "aromatic_ring_flatness    True\n",
       "double_bond_flatness      True\n",
       "internal_energy           True\n",
       "Name: (<rdkit.Chem.rdchem.Mol object at 0x333502d60>, mol_at_pos_0), dtype: bool"
      ]
     },
     "execution_count": 19,
     "metadata": {},
     "output_type": "execute_result"
    }
   ],
   "source": [
    "df.iloc[0]"
   ]
  },
  {
   "cell_type": "markdown",
   "metadata": {},
   "source": [
    "#### Visualize the Molecules"
   ]
  },
  {
   "cell_type": "code",
   "execution_count": 20,
   "metadata": {},
   "outputs": [],
   "source": [
    "import py3Dmol"
   ]
  },
  {
   "cell_type": "code",
   "execution_count": null,
   "metadata": {},
   "outputs": [
    {
     "data": {
      "application/3dmoljs_load.v0": "<div id=\"3dmolviewer_1746819370755064\"  style=\"position: relative; width: 600px; height: 600px;\">\n        <p id=\"3dmolwarning_1746819370755064\" style=\"background-color:#ffcccc;color:black\">3Dmol.js failed to load for some reason.  Please check your browser console for error messages.<br></p>\n        </div>\n<script>\n\nvar loadScriptAsync = function(uri){\n  return new Promise((resolve, reject) => {\n    //this is to ignore the existence of requirejs amd\n    var savedexports, savedmodule;\n    if (typeof exports !== 'undefined') savedexports = exports;\n    else exports = {}\n    if (typeof module !== 'undefined') savedmodule = module;\n    else module = {}\n\n    var tag = document.createElement('script');\n    tag.src = uri;\n    tag.async = true;\n    tag.onload = () => {\n        exports = savedexports;\n        module = savedmodule;\n        resolve();\n    };\n  var firstScriptTag = document.getElementsByTagName('script')[0];\n  firstScriptTag.parentNode.insertBefore(tag, firstScriptTag);\n});\n};\n\nif(typeof $3Dmolpromise === 'undefined') {\n$3Dmolpromise = null;\n  $3Dmolpromise = loadScriptAsync('https://cdnjs.cloudflare.com/ajax/libs/3Dmol/2.4.2/3Dmol-min.js');\n}\n\nvar viewer_1746819370755064 = null;\nvar warn = document.getElementById(\"3dmolwarning_1746819370755064\");\nif(warn) {\n    warn.parentNode.removeChild(warn);\n}\n$3Dmolpromise.then(function() {\nvar viewergrid_1746819370755064 = null;\nviewergrid_1746819370755064 = $3Dmol.createViewerGrid(document.getElementById(\"3dmolviewer_1746819370755064\"),{rows: 2, cols: 3, control_all: true},{backgroundColor:\"white\"});\nviewer_1746819370755064 = viewergrid_1746819370755064[0][0];\nviewergrid_1746819370755064[0][0].zoomTo();viewergrid_1746819370755064[0][1].zoomTo();viewergrid_1746819370755064[0][2].zoomTo();viewergrid_1746819370755064[1][0].zoomTo();viewergrid_1746819370755064[1][1].zoomTo();viewergrid_1746819370755064[1][2].zoomTo();\tviewergrid_1746819370755064[0][0].addModel(\"\\n     RDKit          3D\\n\\n 18 18  0  0  0  0  0  0  0  0999 V2000\\n   -0.2770    2.2395    0.1472 H   0  0  0  0  0  0  0  0  0  0  0  0\\n    0.0050   -0.8682   -1.1992 C   0  0  0  0  0  0  0  0  0  0  0  0\\n    1.0783   -1.0126   -1.1085 H   0  0  0  0  0  0  0  0  0  0  0  0\\n   -0.4638   -1.8327   -0.9745 H   0  0  0  0  0  0  0  0  0  0  0  0\\n    2.0251   -1.2435    0.8912 O   0  0  0  0  0  0  0  0  0  0  0  0\\n   -0.5116    0.1097   -0.2219 N   0  0  0  0  0  0  0  0  0  0  0  0\\n   -0.8355    0.4794    2.1868 C   0  0  0  0  0  0  0  0  0  0  0  0\\n   -1.6300    0.6781    3.1134 C   0  0  0  0  0  0  0  0  0  0  0  0\\n    0.2833    1.3022    0.0610 C   0  0  0  0  0  0  0  0  0  0  0  0\\n    0.1069    0.2521    1.1271 C   0  0  0  0  0  0  0  0  0  0  0  0\\n    1.2695    1.4066   -0.3919 H   0  0  0  0  0  0  0  0  0  0  0  0\\n    1.6010   -0.2999    2.6091 H   0  0  0  0  0  0  0  0  0  0  0  0\\n   -1.4236   -0.3397   -2.7669 H   0  0  0  0  0  0  0  0  0  0  0  0\\n   -0.3420   -0.4739   -2.6395 C   0  0  0  0  0  0  0  0  0  0  0  0\\n   -0.0099   -1.2260   -3.3580 H   0  0  0  0  0  0  0  0  0  0  0  0\\n    1.3261   -0.5142    1.5368 C   0  0  0  0  0  0  0  0  0  0  0  0\\n   -2.3282    0.8729    3.8997 H   0  0  0  0  0  0  0  0  0  0  0  0\\n    0.1264    0.4702   -2.9118 H   0  0  0  0  0  0  0  0  0  0  0  0\\n  1  9  1  0\\n  2  3  1  0\\n  2  4  1  0\\n  2  6  1  0\\n  2 14  1  0\\n  5 16  2  0\\n  6  9  1  0\\n  6 10  1  0\\n  7  8  3  0\\n  7 10  1  0\\n  8 17  1  0\\n  9 10  1  0\\n  9 11  1  0\\n 10 16  1  0\\n 12 16  1  0\\n 13 14  1  0\\n 14 15  1  0\\n 14 18  1  0\\nM  CHG  1   6   1\\nM  END\\n\",\"mol\");\n\tviewergrid_1746819370755064[0][1].addModel(\"\\n     RDKit          3D\\n\\n 21 22  0  0  0  0  0  0  0  0999 V2000\\n    1.0294    0.2566    0.6895 C   0  0  0  0  0  0  0  0  0  0  0  0\\n    0.0021    0.4465    1.8560 C   0  0  0  0  0  0  0  0  0  0  0  0\\n   -0.8661   -1.9051   -1.4560 H   0  0  0  0  0  0  0  0  0  0  0  0\\n   -0.2245    1.8638    2.3412 C   0  0  0  0  0  0  0  0  0  0  0  0\\n   -1.9144   -0.7956    1.2933 H   0  0  0  0  0  0  0  0  0  0  0  0\\n   -0.0991   -0.3319   -0.1961 C   0  0  0  0  0  0  0  0  0  0  0  0\\n   -1.0381    1.7095   -0.3352 H   0  0  0  0  0  0  0  0  0  0  0  0\\n    0.2120   -0.1975    2.7217 H   0  0  0  0  0  0  0  0  0  0  0  0\\n    0.6901   -2.2623   -0.7215 H   0  0  0  0  0  0  0  0  0  0  0  0\\n    1.8094   -0.5792   -2.2553 H   0  0  0  0  0  0  0  0  0  0  0  0\\n   -0.7839    1.9254    3.3149 H   0  0  0  0  0  0  0  0  0  0  0  0\\n    0.1039   -1.4608   -1.2069 C   0  0  0  0  0  0  0  0  0  0  0  0\\n    0.0769    2.8581    1.7498 O   0  0  0  0  0  0  0  0  0  0  0  0\\n   -1.2410    0.6520   -0.3358 C   0  0  0  0  0  0  0  0  0  0  0  0\\n   -2.0508    0.3536   -0.9985 H   0  0  0  0  0  0  0  0  0  0  0  0\\n    1.5122    1.1636    0.3235 H   0  0  0  0  0  0  0  0  0  0  0  0\\n    0.9873   -1.8427   -3.1749 H   0  0  0  0  0  0  0  0  0  0  0  0\\n    1.8094   -0.4666    0.9329 H   0  0  0  0  0  0  0  0  0  0  0  0\\n   -1.1142   -0.1399    0.9486 C   0  0  0  0  0  0  0  0  0  0  0  0\\n    0.2704   -0.2317   -3.0102 H   0  0  0  0  0  0  0  0  0  0  0  0\\n    0.8290   -1.0156   -2.4810 C   0  0  0  0  0  0  0  0  0  0  0  0\\n  1  2  1  0\\n  1  6  1  0\\n  1 16  1  0\\n  1 18  1  0\\n  2  4  1  0\\n  2  8  1  0\\n  2 19  1  0\\n  3 12  1  0\\n  4 11  1  0\\n  4 13  2  0\\n  5 19  1  0\\n  6 12  1  0\\n  6 14  1  0\\n  6 19  1  0\\n  7 14  1  0\\n  9 12  1  0\\n 10 21  1  0\\n 12 21  1  0\\n 14 15  1  0\\n 14 19  1  0\\n 17 21  1  0\\n 20 21  1  0\\nM  END\\n\",\"mol\");\n\tviewergrid_1746819370755064[0][2].addModel(\"\\n     RDKit          3D\\n\\n 23 24  0  0  0  0  0  0  0  0999 V2000\\n    0.0573    2.4824    0.2046 H   0  0  0  0  0  0  0  0  0  0  0  0\\n    0.3562    1.4727   -0.1258 C   0  0  0  0  0  0  0  0  0  0  0  0\\n   -0.5309   -0.1440   -2.3685 H   0  0  0  0  0  0  0  0  0  0  0  0\\n   -0.1965    0.3282    0.2772 C   0  0  0  0  0  0  0  0  0  0  0  0\\n   -1.2735    0.0905    1.3146 C   0  0  0  0  0  0  0  0  0  0  0  0\\n    1.4940    1.2805   -1.1274 C   0  0  0  0  0  0  0  0  0  0  0  0\\n   -1.9380    1.3429    1.9300 C   0  0  0  0  0  0  0  0  0  0  0  0\\n    0.3138   -1.7494   -2.5201 H   0  0  0  0  0  0  0  0  0  0  0  0\\n   -2.4140    1.9494    1.1678 H   0  0  0  0  0  0  0  0  0  0  0  0\\n   -0.3530   -2.6571    0.4515 H   0  0  0  0  0  0  0  0  0  0  0  0\\n   -0.8568   -0.5196    2.1275 H   0  0  0  0  0  0  0  0  0  0  0  0\\n   -2.0611   -0.5244    0.8693 H   0  0  0  0  0  0  0  0  0  0  0  0\\n    0.2271   -0.8164   -1.9719 C   0  0  0  0  0  0  0  0  0  0  0  0\\n    1.4815   -0.2351   -1.3884 C   0  0  0  0  0  0  0  0  0  0  0  0\\n    1.3588    1.8746   -2.0478 H   0  0  0  0  0  0  0  0  0  0  0  0\\n   -1.2061    1.9640    2.4379 H   0  0  0  0  0  0  0  0  0  0  0  0\\n    1.1868   -2.1124    1.1255 H   0  0  0  0  0  0  0  0  0  0  0  0\\n    0.6083   -2.2109    0.2041 C   0  0  0  0  0  0  0  0  0  0  0  0\\n    0.4298   -0.8572   -0.4734 C   0  0  0  0  0  0  0  0  0  0  0  0\\n   -2.7066    1.0756    2.6687 H   0  0  0  0  0  0  0  0  0  0  0  0\\n    2.4310   -0.7446   -1.5810 H   0  0  0  0  0  0  0  0  0  0  0  0\\n    2.4555    1.6166   -0.7275 H   0  0  0  0  0  0  0  0  0  0  0  0\\n    1.1364   -2.9063   -0.4468 H   0  0  0  0  0  0  0  0  0  0  0  0\\n  1  2  1  0\\n  2  4  2  0\\n  2  6  1  0\\n  3 13  1  0\\n  4  5  1  0\\n  4 19  1  0\\n  5  7  1  0\\n  5 11  1  0\\n  5 12  1  0\\n  6 14  1  0\\n  6 15  1  0\\n  6 22  1  0\\n  7  9  1  0\\n  7 16  1  0\\n  7 20  1  0\\n  8 13  1  0\\n 10 18  1  0\\n 13 14  1  0\\n 13 19  1  0\\n 14 19  1  0\\n 14 21  1  0\\n 17 18  1  0\\n 18 19  1  0\\n 18 23  1  0\\nM  END\\n\",\"mol\");\n\tviewergrid_1746819370755064[1][0].addModel(\"\\n     RDKit          3D\\n\\n 15 16  0  0  0  0  0  0  0  0999 V2000\\n    1.9209   -0.1946   -0.4742 H   0  0  0  0  0  0  0  0  0  0  0  0\\n   -0.4825    0.8608    2.6426 H   0  0  0  0  0  0  0  0  0  0  0  0\\n   -1.1774   -0.5438   -1.7486 O   0  0  0  0  0  0  0  0  0  0  0  0\\n    0.1789   -0.1261   -1.7721 C   0  0  0  0  0  0  0  0  0  0  0  0\\n    0.4098   -1.3501    0.3317 O   0  0  0  0  0  0  0  0  0  0  0  0\\n    0.4091    1.0104    0.5377 C   0  0  0  0  0  0  0  0  0  0  0  0\\n   -0.7494   -1.9073    2.2146 O   0  0  0  0  0  0  0  0  0  0  0  0\\n    0.7110   -0.7980   -2.4478 H   0  0  0  0  0  0  0  0  0  0  0  0\\n   -0.3540    0.4278    1.6570 C   0  0  0  0  0  0  0  0  0  0  0  0\\n   -0.3036   -1.0699    1.4831 C   0  0  0  0  0  0  0  0  0  0  0  0\\n    0.8313   -0.1543   -0.3710 C   0  0  0  0  0  0  0  0  0  0  0  0\\n   -1.0115    1.1186    0.5794 O   0  0  0  0  0  0  0  0  0  0  0  0\\n    0.2540    0.8864   -2.1861 H   0  0  0  0  0  0  0  0  0  0  0  0\\n   -1.6254   -0.0864   -1.0516 H   0  0  0  0  0  0  0  0  0  0  0  0\\n    0.9887    1.9266    0.6051 H   0  0  0  0  0  0  0  0  0  0  0  0\\n  1 11  1  0\\n  2  9  1  0\\n  3  4  1  0\\n  3 14  1  0\\n  4  8  1  0\\n  4 11  1  0\\n  4 13  1  0\\n  5 10  1  0\\n  5 11  1  0\\n  6  9  1  0\\n  6 11  1  0\\n  6 12  1  0\\n  6 15  1  0\\n  7 10  2  0\\n  9 10  1  0\\n  9 12  1  0\\nM  END\\n\",\"mol\");\n\tviewergrid_1746819370755064[1][1].addModel(\"\\n     RDKit          3D\\n\\n 15 16  0  0  0  0  0  0  0  0999 V2000\\n   -1.5526    1.5815    1.5629 H   0  0  0  0  0  0  0  0  0  0  0  0\\n   -1.7774    0.4155   -0.2789 C   0  0  0  0  0  0  0  0  0  0  0  0\\n   -1.7710   -0.1615    1.8168 H   0  0  0  0  0  0  0  0  0  0  0  0\\n   -0.6863   -0.3329   -1.0087 C   0  0  0  0  0  0  0  0  0  0  0  0\\n    1.0230    0.7637    1.9394 O   0  0  0  0  0  0  0  0  0  0  0  0\\n    1.9936   -0.4341   -0.6595 C   0  0  0  0  0  0  0  0  0  0  0  0\\n   -0.7003   -0.3876   -2.0888 H   0  0  0  0  0  0  0  0  0  0  0  0\\n    0.5608   -0.3432   -0.1762 C   0  0  0  0  0  0  0  0  0  0  0  0\\n   -0.2619   -1.5183   -0.3084 O   0  0  0  0  0  0  0  0  0  0  0  0\\n    2.0443   -0.9462   -1.6132 H   0  0  0  0  0  0  0  0  0  0  0  0\\n    2.5887   -0.9857    0.0611 H   0  0  0  0  0  0  0  0  0  0  0  0\\n    2.4268    0.5586   -0.7676 H   0  0  0  0  0  0  0  0  0  0  0  0\\n   -1.2998    0.5868    1.1683 C   0  0  0  0  0  0  0  0  0  0  0  0\\n    0.2177    0.3975    1.1195 C   0  0  0  0  0  0  0  0  0  0  0  0\\n   -2.8053    0.8059   -0.7669 O   0  0  0  0  0  0  0  0  0  0  0  0\\n  1 13  1  0\\n  2  4  1  0\\n  2 13  1  0\\n  2 15  2  0\\n  3 13  1  0\\n  4  7  1  0\\n  4  8  1  0\\n  4  9  1  0\\n  5 14  2  0\\n  6  8  1  0\\n  6 10  1  0\\n  6 11  1  0\\n  6 12  1  0\\n  8  9  1  0\\n  8 14  1  0\\n 13 14  1  0\\nM  END\\n\",\"mol\");\n\tviewergrid_1746819370755064[0][0].setStyle({\"stick\": {}, \"sphere\": {\"scale\": 0.3}});\n\tviewergrid_1746819370755064[0][1].setStyle({\"stick\": {}, \"sphere\": {\"scale\": 0.3}});\n\tviewergrid_1746819370755064[0][2].setStyle({\"stick\": {}, \"sphere\": {\"scale\": 0.3}});\n\tviewergrid_1746819370755064[1][0].setStyle({\"stick\": {}, \"sphere\": {\"scale\": 0.3}});\n\tviewergrid_1746819370755064[1][1].setStyle({\"stick\": {}, \"sphere\": {\"scale\": 0.3}});\n\tviewergrid_1746819370755064[1][2].setStyle({\"stick\": {}, \"sphere\": {\"scale\": 0.3}});\n\tviewergrid_1746819370755064[0][0].zoomTo();\n\tviewergrid_1746819370755064[0][1].zoomTo();\n\tviewergrid_1746819370755064[0][2].zoomTo();\n\tviewergrid_1746819370755064[1][0].zoomTo();\n\tviewergrid_1746819370755064[1][1].zoomTo();\n\tviewergrid_1746819370755064[1][2].zoomTo();\nviewergrid_1746819370755064[1][2].render();\nviewergrid_1746819370755064[1][1].render();\nviewergrid_1746819370755064[1][0].render();\nviewergrid_1746819370755064[0][2].render();\nviewergrid_1746819370755064[0][1].render();\nviewergrid_1746819370755064[0][0].render();\n});\n</script>",
      "text/html": [
       "<div id=\"3dmolviewer_1746819370755064\"  style=\"position: relative; width: 600px; height: 600px;\">\n",
       "        <p id=\"3dmolwarning_1746819370755064\" style=\"background-color:#ffcccc;color:black\">3Dmol.js failed to load for some reason.  Please check your browser console for error messages.<br></p>\n",
       "        </div>\n",
       "<script>\n",
       "\n",
       "var loadScriptAsync = function(uri){\n",
       "  return new Promise((resolve, reject) => {\n",
       "    //this is to ignore the existence of requirejs amd\n",
       "    var savedexports, savedmodule;\n",
       "    if (typeof exports !== 'undefined') savedexports = exports;\n",
       "    else exports = {}\n",
       "    if (typeof module !== 'undefined') savedmodule = module;\n",
       "    else module = {}\n",
       "\n",
       "    var tag = document.createElement('script');\n",
       "    tag.src = uri;\n",
       "    tag.async = true;\n",
       "    tag.onload = () => {\n",
       "        exports = savedexports;\n",
       "        module = savedmodule;\n",
       "        resolve();\n",
       "    };\n",
       "  var firstScriptTag = document.getElementsByTagName('script')[0];\n",
       "  firstScriptTag.parentNode.insertBefore(tag, firstScriptTag);\n",
       "});\n",
       "};\n",
       "\n",
       "if(typeof $3Dmolpromise === 'undefined') {\n",
       "$3Dmolpromise = null;\n",
       "  $3Dmolpromise = loadScriptAsync('https://cdnjs.cloudflare.com/ajax/libs/3Dmol/2.4.2/3Dmol-min.js');\n",
       "}\n",
       "\n",
       "var viewer_1746819370755064 = null;\n",
       "var warn = document.getElementById(\"3dmolwarning_1746819370755064\");\n",
       "if(warn) {\n",
       "    warn.parentNode.removeChild(warn);\n",
       "}\n",
       "$3Dmolpromise.then(function() {\n",
       "var viewergrid_1746819370755064 = null;\n",
       "viewergrid_1746819370755064 = $3Dmol.createViewerGrid(document.getElementById(\"3dmolviewer_1746819370755064\"),{rows: 2, cols: 3, control_all: true},{backgroundColor:\"white\"});\n",
       "viewer_1746819370755064 = viewergrid_1746819370755064[0][0];\n",
       "viewergrid_1746819370755064[0][0].zoomTo();viewergrid_1746819370755064[0][1].zoomTo();viewergrid_1746819370755064[0][2].zoomTo();viewergrid_1746819370755064[1][0].zoomTo();viewergrid_1746819370755064[1][1].zoomTo();viewergrid_1746819370755064[1][2].zoomTo();\tviewergrid_1746819370755064[0][0].addModel(\"\\n     RDKit          3D\\n\\n 18 18  0  0  0  0  0  0  0  0999 V2000\\n   -0.2770    2.2395    0.1472 H   0  0  0  0  0  0  0  0  0  0  0  0\\n    0.0050   -0.8682   -1.1992 C   0  0  0  0  0  0  0  0  0  0  0  0\\n    1.0783   -1.0126   -1.1085 H   0  0  0  0  0  0  0  0  0  0  0  0\\n   -0.4638   -1.8327   -0.9745 H   0  0  0  0  0  0  0  0  0  0  0  0\\n    2.0251   -1.2435    0.8912 O   0  0  0  0  0  0  0  0  0  0  0  0\\n   -0.5116    0.1097   -0.2219 N   0  0  0  0  0  0  0  0  0  0  0  0\\n   -0.8355    0.4794    2.1868 C   0  0  0  0  0  0  0  0  0  0  0  0\\n   -1.6300    0.6781    3.1134 C   0  0  0  0  0  0  0  0  0  0  0  0\\n    0.2833    1.3022    0.0610 C   0  0  0  0  0  0  0  0  0  0  0  0\\n    0.1069    0.2521    1.1271 C   0  0  0  0  0  0  0  0  0  0  0  0\\n    1.2695    1.4066   -0.3919 H   0  0  0  0  0  0  0  0  0  0  0  0\\n    1.6010   -0.2999    2.6091 H   0  0  0  0  0  0  0  0  0  0  0  0\\n   -1.4236   -0.3397   -2.7669 H   0  0  0  0  0  0  0  0  0  0  0  0\\n   -0.3420   -0.4739   -2.6395 C   0  0  0  0  0  0  0  0  0  0  0  0\\n   -0.0099   -1.2260   -3.3580 H   0  0  0  0  0  0  0  0  0  0  0  0\\n    1.3261   -0.5142    1.5368 C   0  0  0  0  0  0  0  0  0  0  0  0\\n   -2.3282    0.8729    3.8997 H   0  0  0  0  0  0  0  0  0  0  0  0\\n    0.1264    0.4702   -2.9118 H   0  0  0  0  0  0  0  0  0  0  0  0\\n  1  9  1  0\\n  2  3  1  0\\n  2  4  1  0\\n  2  6  1  0\\n  2 14  1  0\\n  5 16  2  0\\n  6  9  1  0\\n  6 10  1  0\\n  7  8  3  0\\n  7 10  1  0\\n  8 17  1  0\\n  9 10  1  0\\n  9 11  1  0\\n 10 16  1  0\\n 12 16  1  0\\n 13 14  1  0\\n 14 15  1  0\\n 14 18  1  0\\nM  CHG  1   6   1\\nM  END\\n\",\"mol\");\n",
       "\tviewergrid_1746819370755064[0][1].addModel(\"\\n     RDKit          3D\\n\\n 21 22  0  0  0  0  0  0  0  0999 V2000\\n    1.0294    0.2566    0.6895 C   0  0  0  0  0  0  0  0  0  0  0  0\\n    0.0021    0.4465    1.8560 C   0  0  0  0  0  0  0  0  0  0  0  0\\n   -0.8661   -1.9051   -1.4560 H   0  0  0  0  0  0  0  0  0  0  0  0\\n   -0.2245    1.8638    2.3412 C   0  0  0  0  0  0  0  0  0  0  0  0\\n   -1.9144   -0.7956    1.2933 H   0  0  0  0  0  0  0  0  0  0  0  0\\n   -0.0991   -0.3319   -0.1961 C   0  0  0  0  0  0  0  0  0  0  0  0\\n   -1.0381    1.7095   -0.3352 H   0  0  0  0  0  0  0  0  0  0  0  0\\n    0.2120   -0.1975    2.7217 H   0  0  0  0  0  0  0  0  0  0  0  0\\n    0.6901   -2.2623   -0.7215 H   0  0  0  0  0  0  0  0  0  0  0  0\\n    1.8094   -0.5792   -2.2553 H   0  0  0  0  0  0  0  0  0  0  0  0\\n   -0.7839    1.9254    3.3149 H   0  0  0  0  0  0  0  0  0  0  0  0\\n    0.1039   -1.4608   -1.2069 C   0  0  0  0  0  0  0  0  0  0  0  0\\n    0.0769    2.8581    1.7498 O   0  0  0  0  0  0  0  0  0  0  0  0\\n   -1.2410    0.6520   -0.3358 C   0  0  0  0  0  0  0  0  0  0  0  0\\n   -2.0508    0.3536   -0.9985 H   0  0  0  0  0  0  0  0  0  0  0  0\\n    1.5122    1.1636    0.3235 H   0  0  0  0  0  0  0  0  0  0  0  0\\n    0.9873   -1.8427   -3.1749 H   0  0  0  0  0  0  0  0  0  0  0  0\\n    1.8094   -0.4666    0.9329 H   0  0  0  0  0  0  0  0  0  0  0  0\\n   -1.1142   -0.1399    0.9486 C   0  0  0  0  0  0  0  0  0  0  0  0\\n    0.2704   -0.2317   -3.0102 H   0  0  0  0  0  0  0  0  0  0  0  0\\n    0.8290   -1.0156   -2.4810 C   0  0  0  0  0  0  0  0  0  0  0  0\\n  1  2  1  0\\n  1  6  1  0\\n  1 16  1  0\\n  1 18  1  0\\n  2  4  1  0\\n  2  8  1  0\\n  2 19  1  0\\n  3 12  1  0\\n  4 11  1  0\\n  4 13  2  0\\n  5 19  1  0\\n  6 12  1  0\\n  6 14  1  0\\n  6 19  1  0\\n  7 14  1  0\\n  9 12  1  0\\n 10 21  1  0\\n 12 21  1  0\\n 14 15  1  0\\n 14 19  1  0\\n 17 21  1  0\\n 20 21  1  0\\nM  END\\n\",\"mol\");\n",
       "\tviewergrid_1746819370755064[0][2].addModel(\"\\n     RDKit          3D\\n\\n 23 24  0  0  0  0  0  0  0  0999 V2000\\n    0.0573    2.4824    0.2046 H   0  0  0  0  0  0  0  0  0  0  0  0\\n    0.3562    1.4727   -0.1258 C   0  0  0  0  0  0  0  0  0  0  0  0\\n   -0.5309   -0.1440   -2.3685 H   0  0  0  0  0  0  0  0  0  0  0  0\\n   -0.1965    0.3282    0.2772 C   0  0  0  0  0  0  0  0  0  0  0  0\\n   -1.2735    0.0905    1.3146 C   0  0  0  0  0  0  0  0  0  0  0  0\\n    1.4940    1.2805   -1.1274 C   0  0  0  0  0  0  0  0  0  0  0  0\\n   -1.9380    1.3429    1.9300 C   0  0  0  0  0  0  0  0  0  0  0  0\\n    0.3138   -1.7494   -2.5201 H   0  0  0  0  0  0  0  0  0  0  0  0\\n   -2.4140    1.9494    1.1678 H   0  0  0  0  0  0  0  0  0  0  0  0\\n   -0.3530   -2.6571    0.4515 H   0  0  0  0  0  0  0  0  0  0  0  0\\n   -0.8568   -0.5196    2.1275 H   0  0  0  0  0  0  0  0  0  0  0  0\\n   -2.0611   -0.5244    0.8693 H   0  0  0  0  0  0  0  0  0  0  0  0\\n    0.2271   -0.8164   -1.9719 C   0  0  0  0  0  0  0  0  0  0  0  0\\n    1.4815   -0.2351   -1.3884 C   0  0  0  0  0  0  0  0  0  0  0  0\\n    1.3588    1.8746   -2.0478 H   0  0  0  0  0  0  0  0  0  0  0  0\\n   -1.2061    1.9640    2.4379 H   0  0  0  0  0  0  0  0  0  0  0  0\\n    1.1868   -2.1124    1.1255 H   0  0  0  0  0  0  0  0  0  0  0  0\\n    0.6083   -2.2109    0.2041 C   0  0  0  0  0  0  0  0  0  0  0  0\\n    0.4298   -0.8572   -0.4734 C   0  0  0  0  0  0  0  0  0  0  0  0\\n   -2.7066    1.0756    2.6687 H   0  0  0  0  0  0  0  0  0  0  0  0\\n    2.4310   -0.7446   -1.5810 H   0  0  0  0  0  0  0  0  0  0  0  0\\n    2.4555    1.6166   -0.7275 H   0  0  0  0  0  0  0  0  0  0  0  0\\n    1.1364   -2.9063   -0.4468 H   0  0  0  0  0  0  0  0  0  0  0  0\\n  1  2  1  0\\n  2  4  2  0\\n  2  6  1  0\\n  3 13  1  0\\n  4  5  1  0\\n  4 19  1  0\\n  5  7  1  0\\n  5 11  1  0\\n  5 12  1  0\\n  6 14  1  0\\n  6 15  1  0\\n  6 22  1  0\\n  7  9  1  0\\n  7 16  1  0\\n  7 20  1  0\\n  8 13  1  0\\n 10 18  1  0\\n 13 14  1  0\\n 13 19  1  0\\n 14 19  1  0\\n 14 21  1  0\\n 17 18  1  0\\n 18 19  1  0\\n 18 23  1  0\\nM  END\\n\",\"mol\");\n",
       "\tviewergrid_1746819370755064[1][0].addModel(\"\\n     RDKit          3D\\n\\n 15 16  0  0  0  0  0  0  0  0999 V2000\\n    1.9209   -0.1946   -0.4742 H   0  0  0  0  0  0  0  0  0  0  0  0\\n   -0.4825    0.8608    2.6426 H   0  0  0  0  0  0  0  0  0  0  0  0\\n   -1.1774   -0.5438   -1.7486 O   0  0  0  0  0  0  0  0  0  0  0  0\\n    0.1789   -0.1261   -1.7721 C   0  0  0  0  0  0  0  0  0  0  0  0\\n    0.4098   -1.3501    0.3317 O   0  0  0  0  0  0  0  0  0  0  0  0\\n    0.4091    1.0104    0.5377 C   0  0  0  0  0  0  0  0  0  0  0  0\\n   -0.7494   -1.9073    2.2146 O   0  0  0  0  0  0  0  0  0  0  0  0\\n    0.7110   -0.7980   -2.4478 H   0  0  0  0  0  0  0  0  0  0  0  0\\n   -0.3540    0.4278    1.6570 C   0  0  0  0  0  0  0  0  0  0  0  0\\n   -0.3036   -1.0699    1.4831 C   0  0  0  0  0  0  0  0  0  0  0  0\\n    0.8313   -0.1543   -0.3710 C   0  0  0  0  0  0  0  0  0  0  0  0\\n   -1.0115    1.1186    0.5794 O   0  0  0  0  0  0  0  0  0  0  0  0\\n    0.2540    0.8864   -2.1861 H   0  0  0  0  0  0  0  0  0  0  0  0\\n   -1.6254   -0.0864   -1.0516 H   0  0  0  0  0  0  0  0  0  0  0  0\\n    0.9887    1.9266    0.6051 H   0  0  0  0  0  0  0  0  0  0  0  0\\n  1 11  1  0\\n  2  9  1  0\\n  3  4  1  0\\n  3 14  1  0\\n  4  8  1  0\\n  4 11  1  0\\n  4 13  1  0\\n  5 10  1  0\\n  5 11  1  0\\n  6  9  1  0\\n  6 11  1  0\\n  6 12  1  0\\n  6 15  1  0\\n  7 10  2  0\\n  9 10  1  0\\n  9 12  1  0\\nM  END\\n\",\"mol\");\n",
       "\tviewergrid_1746819370755064[1][1].addModel(\"\\n     RDKit          3D\\n\\n 15 16  0  0  0  0  0  0  0  0999 V2000\\n   -1.5526    1.5815    1.5629 H   0  0  0  0  0  0  0  0  0  0  0  0\\n   -1.7774    0.4155   -0.2789 C   0  0  0  0  0  0  0  0  0  0  0  0\\n   -1.7710   -0.1615    1.8168 H   0  0  0  0  0  0  0  0  0  0  0  0\\n   -0.6863   -0.3329   -1.0087 C   0  0  0  0  0  0  0  0  0  0  0  0\\n    1.0230    0.7637    1.9394 O   0  0  0  0  0  0  0  0  0  0  0  0\\n    1.9936   -0.4341   -0.6595 C   0  0  0  0  0  0  0  0  0  0  0  0\\n   -0.7003   -0.3876   -2.0888 H   0  0  0  0  0  0  0  0  0  0  0  0\\n    0.5608   -0.3432   -0.1762 C   0  0  0  0  0  0  0  0  0  0  0  0\\n   -0.2619   -1.5183   -0.3084 O   0  0  0  0  0  0  0  0  0  0  0  0\\n    2.0443   -0.9462   -1.6132 H   0  0  0  0  0  0  0  0  0  0  0  0\\n    2.5887   -0.9857    0.0611 H   0  0  0  0  0  0  0  0  0  0  0  0\\n    2.4268    0.5586   -0.7676 H   0  0  0  0  0  0  0  0  0  0  0  0\\n   -1.2998    0.5868    1.1683 C   0  0  0  0  0  0  0  0  0  0  0  0\\n    0.2177    0.3975    1.1195 C   0  0  0  0  0  0  0  0  0  0  0  0\\n   -2.8053    0.8059   -0.7669 O   0  0  0  0  0  0  0  0  0  0  0  0\\n  1 13  1  0\\n  2  4  1  0\\n  2 13  1  0\\n  2 15  2  0\\n  3 13  1  0\\n  4  7  1  0\\n  4  8  1  0\\n  4  9  1  0\\n  5 14  2  0\\n  6  8  1  0\\n  6 10  1  0\\n  6 11  1  0\\n  6 12  1  0\\n  8  9  1  0\\n  8 14  1  0\\n 13 14  1  0\\nM  END\\n\",\"mol\");\n",
       "\tviewergrid_1746819370755064[0][0].setStyle({\"stick\": {}, \"sphere\": {\"scale\": 0.3}});\n",
       "\tviewergrid_1746819370755064[0][1].setStyle({\"stick\": {}, \"sphere\": {\"scale\": 0.3}});\n",
       "\tviewergrid_1746819370755064[0][2].setStyle({\"stick\": {}, \"sphere\": {\"scale\": 0.3}});\n",
       "\tviewergrid_1746819370755064[1][0].setStyle({\"stick\": {}, \"sphere\": {\"scale\": 0.3}});\n",
       "\tviewergrid_1746819370755064[1][1].setStyle({\"stick\": {}, \"sphere\": {\"scale\": 0.3}});\n",
       "\tviewergrid_1746819370755064[1][2].setStyle({\"stick\": {}, \"sphere\": {\"scale\": 0.3}});\n",
       "\tviewergrid_1746819370755064[0][0].zoomTo();\n",
       "\tviewergrid_1746819370755064[0][1].zoomTo();\n",
       "\tviewergrid_1746819370755064[0][2].zoomTo();\n",
       "\tviewergrid_1746819370755064[1][0].zoomTo();\n",
       "\tviewergrid_1746819370755064[1][1].zoomTo();\n",
       "\tviewergrid_1746819370755064[1][2].zoomTo();\n",
       "viewergrid_1746819370755064[1][2].render();\n",
       "viewergrid_1746819370755064[1][1].render();\n",
       "viewergrid_1746819370755064[1][0].render();\n",
       "viewergrid_1746819370755064[0][2].render();\n",
       "viewergrid_1746819370755064[0][1].render();\n",
       "viewergrid_1746819370755064[0][0].render();\n",
       "});\n",
       "</script>"
      ]
     },
     "metadata": {},
     "output_type": "display_data"
    }
   ],
   "source": [
    "from rdkit import Chem\n",
    "import py3Dmol\n",
    "\n",
    "# Convert RDKit Mol to PDB blocks\n",
    "# Only take up to 6 mols\n",
    "pdb_blocks = [Chem.MolToMolBlock(mol) for mol in gen_rdkit_mols[:6]]  \n",
    "\n",
    "# Visualize using py3Dmol\n",
    "viewer = py3Dmol.view(width=600, height=600, viewergrid=(2, 3))\n",
    "\n",
    "for idx, pdb in enumerate(pdb_blocks):\n",
    "    row = idx // 3\n",
    "    col = idx % 3\n",
    "    viewer.addModel(pdb, \"mol\", viewer=(row, col))\n",
    "\n",
    "viewer.setStyle({\"stick\": {}, \"sphere\": {\"scale\": 0.3}})\n",
    "viewer.zoomTo()\n",
    "viewer.show()\n"
   ]
  },
  {
   "cell_type": "code",
   "execution_count": null,
   "metadata": {},
   "outputs": [],
   "source": []
  }
 ],
 "metadata": {
  "kernelspec": {
   "display_name": "deep",
   "language": "python",
   "name": "python3"
  },
  "language_info": {
   "codemirror_mode": {
    "name": "ipython",
    "version": 3
   },
   "file_extension": ".py",
   "mimetype": "text/x-python",
   "name": "python",
   "nbconvert_exporter": "python",
   "pygments_lexer": "ipython3",
   "version": "3.9.21"
  }
 },
 "nbformat": 4,
 "nbformat_minor": 2
}

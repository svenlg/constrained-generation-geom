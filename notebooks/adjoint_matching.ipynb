{
 "cells": [
  {
   "cell_type": "code",
   "execution_count": 1,
   "id": "c2da5c4a",
   "metadata": {},
   "outputs": [],
   "source": [
    "%load_ext autoreload\n",
    "%autoreload 2"
   ]
  },
  {
   "cell_type": "code",
   "execution_count": null,
   "id": "629c669c",
   "metadata": {},
   "outputs": [],
   "source": [
    "import time\n",
    "import copy\n",
    "import wandb\n",
    "import argparse\n",
    "from pathlib import Path\n",
    "from datetime import datetime\n",
    "from omegaconf import OmegaConf\n",
    "\n",
    "import numpy as np\n",
    "import torch\n",
    "from utils.utils import extract_trailing_numbers, seed_everything\n",
    "\n",
    "import flowmol"
   ]
  },
  {
   "cell_type": "code",
   "execution_count": 3,
   "id": "f725cd14",
   "metadata": {},
   "outputs": [],
   "source": [
    "def sampling(\n",
    "        config: OmegaConf,\n",
    "        model: flowmol.FlowMol,\n",
    "        xt_traj: bool = False,\n",
    "        ep_traj: bool = False, \n",
    "        device: torch.device = None\n",
    "    ):\n",
    "    new_molecules = model.sample_random_sizes(\n",
    "        n_molecules = config.num_samples, \n",
    "        n_timesteps = config.num_integration_steps,\n",
    "        xt_traj=xt_traj,\n",
    "        ep_traj=ep_traj,\n",
    "        device = device,\n",
    "    )\n",
    "    return new_molecules\n"
   ]
  },
  {
   "cell_type": "code",
   "execution_count": 4,
   "id": "1daa1548",
   "metadata": {},
   "outputs": [],
   "source": [
    "def setup_gen_model(flow_model: str, device: torch.device):\n",
    "    # Load - Flow Model\n",
    "    gen_model = flowmol.load_pretrained(flow_model)\n",
    "    gen_model.to(device)\n",
    "    return gen_model"
   ]
  },
  {
   "cell_type": "code",
   "execution_count": 5,
   "id": "e4fb6540",
   "metadata": {},
   "outputs": [],
   "source": [
    "def parse_args():\n",
    "    parser = argparse.ArgumentParser(description=\"Run ALM with optional parameter overrides\")\n",
    "    # Settings\n",
    "    parser.add_argument(\"--config\", type=str, default=\"configs/adjoint_matching.yaml\",\n",
    "                        help=\"Path to config file\")\n",
    "    parser.add_argument(\"--use_wandb\", action='store_true',\n",
    "                        help=\"Use wandb, default: false\")\n",
    "    parser.add_argument(\"--verbose\", action='store_true', \n",
    "                        help=\"Verbose output, default: false\")\n",
    "    parser.add_argument(\"--save_model\", action='store_true',\n",
    "                        help=\"Save the model, default: false\")\n",
    "    parser.add_argument(\"--save_samples\", action='store_true',\n",
    "                        help=\"Create animation of the samples and save the samples, default: false\")\n",
    "    parser.add_argument(\"--save_plots\", action='store_true',\n",
    "                        help=\"Save plots of rewards and constraints, default: false\")\n",
    "    parser.add_argument(\"--plotting_freq\", type=int,\n",
    "                        help=\"Plotting frequency\")\n",
    "    # FlowMol arguments\n",
    "    flowmol_choices = ['qm9_ctmc', 'qm9_gaussian', 'qm9_simplexflow', 'qm9_dirichlet']\n",
    "    parser.add_argument('--flow_model', type=str, choices=flowmol_choices,\n",
    "                        help='pretrained model to be used')\n",
    "    parser.add_argument(\"--reward_lambda\", type=float,\n",
    "                        help=\"Override reward_lambda in config\")\n",
    "    parser.add_argument(\"--lr\", type=float,\n",
    "                        help=\"Override adjoint_matching.lr in config\")\n",
    "    parser.add_argument(\"--clip_grad_norm\",  type=float,\n",
    "                        help=\"Override adjoint_matching.clip_grad_norm in config\")\n",
    "    parser.add_argument(\"--batch_size\", type=int,\n",
    "                        help=\"Override adjoint_matching.batch_size in config\")\n",
    "    parser.add_argument(\"--samples_per_update\", type=int,\n",
    "                        help=\"Override adjoint_matching.num_samples in config\")\n",
    "    parser.add_argument(\"--num_integration_steps\", type=int,\n",
    "                        help=\"Override adjoint_matching.num_integration_steps in config\")\n",
    "    parser.add_argument(\"--finetune_steps\", type=int,\n",
    "                        help=\"Override adjoint_matching.finetune_steps in config\")\n",
    "    parser.add_argument(\"--num_iterations\", type=int,\n",
    "                        help=\"Override number of iterations\")\n",
    "    return parser.parse_args()"
   ]
  },
  {
   "cell_type": "code",
   "execution_count": 6,
   "id": "9175cb6f",
   "metadata": {},
   "outputs": [],
   "source": [
    "import sys\n",
    "sys.argv = [\"\"]"
   ]
  },
  {
   "cell_type": "code",
   "execution_count": 7,
   "id": "32669a53",
   "metadata": {},
   "outputs": [],
   "source": [
    "def update_config_with_args(config, args):\n",
    "    # FlowMol arguments\n",
    "    if args.flow_model is not None:\n",
    "        config.flowmol.model = args.flow_model\n",
    "    # Adjoint Matching Parameters\n",
    "    if args.reward_lambda is not None:\n",
    "        config.reward_lambda = args.reward_lambda\n",
    "    if args.lr is not None:\n",
    "        config.adjoint_matching.lr = args.lr\n",
    "    if args.clip_grad_norm is not None:\n",
    "        config.adjoint_matching.clip_grad_norm = args.clip_grad_norm\n",
    "    if args.batch_size is not None:\n",
    "        config.adjoint_matching.batch_size = args.batch_size\n",
    "    if args.samples_per_update is not None:\n",
    "        config.adjoint_matching.sampling.num_samples = args.samples_per_update\n",
    "    if args.num_integration_steps is not None:\n",
    "        config.adjoint_matching.sampling.num_integration_steps = args.num_integration_steps\n",
    "    if args.finetune_steps is not None:\n",
    "        config.adjoint_matching.finetune_steps = args.finetune_steps\n",
    "    if args.num_iterations is not None:\n",
    "        config.adjoint_matching.num_iterations = args.num_iterations\n",
    "    return config"
   ]
  },
  {
   "cell_type": "code",
   "execution_count": null,
   "id": "eb320f83",
   "metadata": {},
   "outputs": [
    {
     "name": "stdout",
     "output_type": "stream",
     "text": [
      "--- Start ---\n",
      "Finetuning qm9_ctmc on QM9\n",
      "Start time: 2025-04-23 11:32:06\n",
      "Device: cpu\n",
      "--- Config ---\n",
      "Adjoint Matching Parameters\n",
      "\treward_lambda: 100000\n",
      "\tlr: 5e-06\n",
      "\tclip_grad_norm: 0.7\n",
      "\tsampling.num_samples: 100\n",
      "\tsampling.num_integration_steps: 40\n",
      "\tfinetune_steps: 5\n",
      "\tnum_iterations: 400\n"
     ]
    }
   ],
   "source": [
    "# Parse command line arguments\n",
    "args = parse_args()\n",
    "\n",
    "# Load config from file\n",
    "config_path = Path(args.config)\n",
    "config = OmegaConf.load(config_path)\n",
    "\n",
    "# Update config with command line arguments\n",
    "config = update_config_with_args(config, args)\n",
    "\n",
    "# Setup - Seed and device and root directory\n",
    "seed_everything(config.seed)\n",
    "device = torch.device(\"cuda\" if torch.cuda.is_available() else \"cpu\")\n",
    "root_dir = Path(config.root) / Path(config.dataset)\n",
    "\n",
    "# Settings\n",
    "config.verbose = args.verbose\n",
    "if args.plotting_freq is None:\n",
    "    args.plotting_freq = config.adjoint_matching.num_iterations // 20\n",
    "\n",
    "# General Parameters\n",
    "flowmol_model = config.flow_model\n",
    "dataset = config.dataset\n",
    "\n",
    "# Adjoint Matching Parameters\n",
    "reward_lambda = config.reward_lambda\n",
    "learning_rate = config.adjoint_matching.lr\n",
    "clip_grad_norm = config.adjoint_matching.clip_grad_norm\n",
    "traj_samples_per_stage = config.adjoint_matching.sampling.num_samples\n",
    "traj_len = config.adjoint_matching.sampling.num_integration_steps\n",
    "finetune_steps = config.adjoint_matching.finetune_steps\n",
    "num_iterations = config.adjoint_matching.num_iterations\n",
    "\n",
    "config.adjoint_matching.sampling.sampler_type = \"memoryless\"\n",
    "config.reward_sampling.sampler_type = \"euler\"\n",
    "\n",
    "print(f\"--- Start ---\", flush=True)\n",
    "# Setup - WandB\n",
    "if args.use_wandb:\n",
    "    wandb.init()\n",
    "    run_name = wandb.run.name  # e.g., \"olive-sweep-229\"\n",
    "    run_number = extract_trailing_numbers(run_name)  # e.g., 229\n",
    "    run_id = wandb.run.id   # e.g., \"ame6uc42\"\n",
    "    sweep_id = wandb.run.sweep_id if wandb.run.sweep_id else \"No_sweep\"\n",
    "    print(f\"Run #{run_number} - ID: {run_id}\", flush=True)\n",
    "\n",
    "# Prints\n",
    "print(f\"Finetuning {flowmol_model} on {dataset}\", flush=True)\n",
    "start_time = datetime.now().strftime(\"%Y-%m-%d %H:%M:%S\")\n",
    "print(f\"Start time: {start_time}\", flush=True)\n",
    "print(f\"Device: {device}\", flush=True)\n",
    "start_time = time.time()\n",
    "\n",
    "print(f\"--- Config ---\", flush=True)\n",
    "\n",
    "print(f\"Adjoint Matching Parameters\", flush=True)\n",
    "print(f\"\\treward_lambda: {reward_lambda}\", flush=True)\n",
    "print(f\"\\tlr: {learning_rate}\", flush=True)\n",
    "print(f\"\\tclip_grad_norm: {clip_grad_norm}\", flush=True)\n",
    "print(f\"\\tsampling.num_samples: {traj_samples_per_stage}\", flush=True)\n",
    "print(f\"\\tsampling.num_integration_steps: {traj_len}\", flush=True)\n",
    "print(f\"\\tfinetune_steps: {finetune_steps}\", flush=True)\n",
    "print(f\"\\tnum_iterations: {num_iterations}\", flush=True)"
   ]
  },
  {
   "cell_type": "code",
   "execution_count": 67,
   "id": "f67bcca3",
   "metadata": {},
   "outputs": [],
   "source": [
    "config.reward_sampling.num_samples = 3"
   ]
  },
  {
   "cell_type": "code",
   "execution_count": 10,
   "metadata": {},
   "outputs": [],
   "source": [
    "# Setup - Gen Model\n",
    "gen_model = setup_gen_model(config.flow_model, device=device)"
   ]
  },
  {
   "cell_type": "code",
   "execution_count": 11,
   "id": "60d1defb",
   "metadata": {},
   "outputs": [
    {
     "data": {
      "text/plain": [
       "{'sampler_type': 'euler', 'num_samples': 5, 'data_dim': 2, 'num_integration_steps': 40}"
      ]
     },
     "execution_count": 11,
     "metadata": {},
     "output_type": "execute_result"
    }
   ],
   "source": [
    "config.reward_sampling"
   ]
  },
  {
   "cell_type": "code",
   "execution_count": null,
   "id": "2efbc305",
   "metadata": {},
   "outputs": [
    {
     "name": "stderr",
     "output_type": "stream",
     "text": [
      "/opt/homebrew/Caskroom/miniforge/base/envs/deep/lib/python3.9/site-packages/dgl/backend/pytorch/tensor.py:449: UserWarning: TypedStorage is deprecated. It will be removed in the future and UntypedStorage will be the only storage class. This should only matter to you if you are using storages directly.  To access UntypedStorage directly, use tensor.untyped_storage() instead of tensor.storage()\n",
      "  assert input.numel() == input.storage().size(), (\n"
     ]
    }
   ],
   "source": [
    "# # Generate Samples\n",
    "# x_new = sampling(\n",
    "#     config.reward_sampling,\n",
    "#     copy.deepcopy(gen_model),\n",
    "#     device=device\n",
    "# )"
   ]
  },
  {
   "cell_type": "code",
   "execution_count": 79,
   "id": "90d28881",
   "metadata": {},
   "outputs": [
    {
     "name": "stdout",
     "output_type": "stream",
     "text": [
      "tensor([18, 18, 15])\n",
      "edge_idxs_dict: {15: tensor([[ 0,  0,  0,  0,  0,  0,  0,  0,  0,  0,  0,  0,  0,  0,  1,  1,  1,  1,\n",
      "          1,  1,  1,  1,  1,  1,  1,  1,  1,  2,  2,  2,  2,  2,  2,  2,  2,  2,\n",
      "          2,  2,  2,  3,  3,  3,  3,  3,  3,  3,  3,  3,  3,  3,  4,  4,  4,  4,\n",
      "          4,  4,  4,  4,  4,  4,  5,  5,  5,  5,  5,  5,  5,  5,  5,  6,  6,  6,\n",
      "          6,  6,  6,  6,  6,  7,  7,  7,  7,  7,  7,  7,  8,  8,  8,  8,  8,  8,\n",
      "          9,  9,  9,  9,  9, 10, 10, 10, 10, 11, 11, 11, 12, 12, 13,  1,  2,  3,\n",
      "          4,  5,  6,  7,  8,  9, 10, 11, 12, 13, 14,  2,  3,  4,  5,  6,  7,  8,\n",
      "          9, 10, 11, 12, 13, 14,  3,  4,  5,  6,  7,  8,  9, 10, 11, 12, 13, 14,\n",
      "          4,  5,  6,  7,  8,  9, 10, 11, 12, 13, 14,  5,  6,  7,  8,  9, 10, 11,\n",
      "         12, 13, 14,  6,  7,  8,  9, 10, 11, 12, 13, 14,  7,  8,  9, 10, 11, 12,\n",
      "         13, 14,  8,  9, 10, 11, 12, 13, 14,  9, 10, 11, 12, 13, 14, 10, 11, 12,\n",
      "         13, 14, 11, 12, 13, 14, 12, 13, 14, 13, 14, 14],\n",
      "        [ 1,  2,  3,  4,  5,  6,  7,  8,  9, 10, 11, 12, 13, 14,  2,  3,  4,  5,\n",
      "          6,  7,  8,  9, 10, 11, 12, 13, 14,  3,  4,  5,  6,  7,  8,  9, 10, 11,\n",
      "         12, 13, 14,  4,  5,  6,  7,  8,  9, 10, 11, 12, 13, 14,  5,  6,  7,  8,\n",
      "          9, 10, 11, 12, 13, 14,  6,  7,  8,  9, 10, 11, 12, 13, 14,  7,  8,  9,\n",
      "         10, 11, 12, 13, 14,  8,  9, 10, 11, 12, 13, 14,  9, 10, 11, 12, 13, 14,\n",
      "         10, 11, 12, 13, 14, 11, 12, 13, 14, 12, 13, 14, 13, 14, 14,  0,  0,  0,\n",
      "          0,  0,  0,  0,  0,  0,  0,  0,  0,  0,  0,  1,  1,  1,  1,  1,  1,  1,\n",
      "          1,  1,  1,  1,  1,  1,  2,  2,  2,  2,  2,  2,  2,  2,  2,  2,  2,  2,\n",
      "          3,  3,  3,  3,  3,  3,  3,  3,  3,  3,  3,  4,  4,  4,  4,  4,  4,  4,\n",
      "          4,  4,  4,  5,  5,  5,  5,  5,  5,  5,  5,  5,  6,  6,  6,  6,  6,  6,\n",
      "          6,  6,  7,  7,  7,  7,  7,  7,  7,  8,  8,  8,  8,  8,  8,  9,  9,  9,\n",
      "          9,  9, 10, 10, 10, 10, 11, 11, 11, 12, 12, 13]]), 18: tensor([[ 0,  0,  0,  0,  0,  0,  0,  0,  0,  0,  0,  0,  0,  0,  0,  0,  0,  1,\n",
      "          1,  1,  1,  1,  1,  1,  1,  1,  1,  1,  1,  1,  1,  1,  1,  2,  2,  2,\n",
      "          2,  2,  2,  2,  2,  2,  2,  2,  2,  2,  2,  2,  3,  3,  3,  3,  3,  3,\n",
      "          3,  3,  3,  3,  3,  3,  3,  3,  4,  4,  4,  4,  4,  4,  4,  4,  4,  4,\n",
      "          4,  4,  4,  5,  5,  5,  5,  5,  5,  5,  5,  5,  5,  5,  5,  6,  6,  6,\n",
      "          6,  6,  6,  6,  6,  6,  6,  6,  7,  7,  7,  7,  7,  7,  7,  7,  7,  7,\n",
      "          8,  8,  8,  8,  8,  8,  8,  8,  8,  9,  9,  9,  9,  9,  9,  9,  9, 10,\n",
      "         10, 10, 10, 10, 10, 10, 11, 11, 11, 11, 11, 11, 12, 12, 12, 12, 12, 13,\n",
      "         13, 13, 13, 14, 14, 14, 15, 15, 16,  1,  2,  3,  4,  5,  6,  7,  8,  9,\n",
      "         10, 11, 12, 13, 14, 15, 16, 17,  2,  3,  4,  5,  6,  7,  8,  9, 10, 11,\n",
      "         12, 13, 14, 15, 16, 17,  3,  4,  5,  6,  7,  8,  9, 10, 11, 12, 13, 14,\n",
      "         15, 16, 17,  4,  5,  6,  7,  8,  9, 10, 11, 12, 13, 14, 15, 16, 17,  5,\n",
      "          6,  7,  8,  9, 10, 11, 12, 13, 14, 15, 16, 17,  6,  7,  8,  9, 10, 11,\n",
      "         12, 13, 14, 15, 16, 17,  7,  8,  9, 10, 11, 12, 13, 14, 15, 16, 17,  8,\n",
      "          9, 10, 11, 12, 13, 14, 15, 16, 17,  9, 10, 11, 12, 13, 14, 15, 16, 17,\n",
      "         10, 11, 12, 13, 14, 15, 16, 17, 11, 12, 13, 14, 15, 16, 17, 12, 13, 14,\n",
      "         15, 16, 17, 13, 14, 15, 16, 17, 14, 15, 16, 17, 15, 16, 17, 16, 17, 17],\n",
      "        [ 1,  2,  3,  4,  5,  6,  7,  8,  9, 10, 11, 12, 13, 14, 15, 16, 17,  2,\n",
      "          3,  4,  5,  6,  7,  8,  9, 10, 11, 12, 13, 14, 15, 16, 17,  3,  4,  5,\n",
      "          6,  7,  8,  9, 10, 11, 12, 13, 14, 15, 16, 17,  4,  5,  6,  7,  8,  9,\n",
      "         10, 11, 12, 13, 14, 15, 16, 17,  5,  6,  7,  8,  9, 10, 11, 12, 13, 14,\n",
      "         15, 16, 17,  6,  7,  8,  9, 10, 11, 12, 13, 14, 15, 16, 17,  7,  8,  9,\n",
      "         10, 11, 12, 13, 14, 15, 16, 17,  8,  9, 10, 11, 12, 13, 14, 15, 16, 17,\n",
      "          9, 10, 11, 12, 13, 14, 15, 16, 17, 10, 11, 12, 13, 14, 15, 16, 17, 11,\n",
      "         12, 13, 14, 15, 16, 17, 12, 13, 14, 15, 16, 17, 13, 14, 15, 16, 17, 14,\n",
      "         15, 16, 17, 15, 16, 17, 16, 17, 17,  0,  0,  0,  0,  0,  0,  0,  0,  0,\n",
      "          0,  0,  0,  0,  0,  0,  0,  0,  1,  1,  1,  1,  1,  1,  1,  1,  1,  1,\n",
      "          1,  1,  1,  1,  1,  1,  2,  2,  2,  2,  2,  2,  2,  2,  2,  2,  2,  2,\n",
      "          2,  2,  2,  3,  3,  3,  3,  3,  3,  3,  3,  3,  3,  3,  3,  3,  3,  4,\n",
      "          4,  4,  4,  4,  4,  4,  4,  4,  4,  4,  4,  4,  5,  5,  5,  5,  5,  5,\n",
      "          5,  5,  5,  5,  5,  5,  6,  6,  6,  6,  6,  6,  6,  6,  6,  6,  6,  7,\n",
      "          7,  7,  7,  7,  7,  7,  7,  7,  7,  8,  8,  8,  8,  8,  8,  8,  8,  8,\n",
      "          9,  9,  9,  9,  9,  9,  9,  9, 10, 10, 10, 10, 10, 10, 10, 11, 11, 11,\n",
      "         11, 11, 11, 12, 12, 12, 12, 12, 13, 13, 13, 13, 14, 14, 14, 15, 15, 16]])}\n"
     ]
    },
    {
     "ename": "AssertionError",
     "evalue": "",
     "output_type": "error",
     "traceback": [
      "\u001b[0;31m---------------------------------------------------------------------------\u001b[0m",
      "\u001b[0;31mAssertionError\u001b[0m                            Traceback (most recent call last)",
      "Cell \u001b[0;32mIn[79], line 2\u001b[0m\n\u001b[1;32m      1\u001b[0m \u001b[38;5;66;03m# Generate Samples\u001b[39;00m\n\u001b[0;32m----> 2\u001b[0m x_new_tr \u001b[38;5;241m=\u001b[39m \u001b[43msampling\u001b[49m\u001b[43m(\u001b[49m\n\u001b[1;32m      3\u001b[0m \u001b[43m    \u001b[49m\u001b[43mconfig\u001b[49m\u001b[38;5;241;43m.\u001b[39;49m\u001b[43mreward_sampling\u001b[49m\u001b[43m,\u001b[49m\n\u001b[1;32m      4\u001b[0m \u001b[43m    \u001b[49m\u001b[43mcopy\u001b[49m\u001b[38;5;241;43m.\u001b[39;49m\u001b[43mdeepcopy\u001b[49m\u001b[43m(\u001b[49m\u001b[43mgen_model\u001b[49m\u001b[43m)\u001b[49m\u001b[43m,\u001b[49m\n\u001b[1;32m      5\u001b[0m \u001b[43m    \u001b[49m\u001b[43mxt_traj\u001b[49m\u001b[38;5;241;43m=\u001b[39;49m\u001b[38;5;28;43;01mTrue\u001b[39;49;00m\u001b[43m,\u001b[49m\n\u001b[1;32m      6\u001b[0m \u001b[43m    \u001b[49m\u001b[38;5;66;43;03m# ep_traj=True,\u001b[39;49;00m\n\u001b[1;32m      7\u001b[0m \u001b[43m    \u001b[49m\u001b[43mdevice\u001b[49m\u001b[38;5;241;43m=\u001b[39;49m\u001b[43mdevice\u001b[49m\n\u001b[1;32m      8\u001b[0m \u001b[43m)\u001b[49m\n",
      "Cell \u001b[0;32mIn[3], line 8\u001b[0m, in \u001b[0;36msampling\u001b[0;34m(config, model, xt_traj, ep_traj, device)\u001b[0m\n\u001b[1;32m      1\u001b[0m \u001b[38;5;28;01mdef\u001b[39;00m\u001b[38;5;250m \u001b[39m\u001b[38;5;21msampling\u001b[39m(\n\u001b[1;32m      2\u001b[0m         config: OmegaConf,\n\u001b[1;32m      3\u001b[0m         model: flowmol\u001b[38;5;241m.\u001b[39mFlowMol,\n\u001b[0;32m   (...)\u001b[0m\n\u001b[1;32m      6\u001b[0m         device: torch\u001b[38;5;241m.\u001b[39mdevice \u001b[38;5;241m=\u001b[39m \u001b[38;5;28;01mNone\u001b[39;00m\n\u001b[1;32m      7\u001b[0m     ):\n\u001b[0;32m----> 8\u001b[0m     new_molecules \u001b[38;5;241m=\u001b[39m \u001b[43mmodel\u001b[49m\u001b[38;5;241;43m.\u001b[39;49m\u001b[43msample_random_sizes\u001b[49m\u001b[43m(\u001b[49m\n\u001b[1;32m      9\u001b[0m \u001b[43m        \u001b[49m\u001b[43mn_molecules\u001b[49m\u001b[43m \u001b[49m\u001b[38;5;241;43m=\u001b[39;49m\u001b[43m \u001b[49m\u001b[43mconfig\u001b[49m\u001b[38;5;241;43m.\u001b[39;49m\u001b[43mnum_samples\u001b[49m\u001b[43m,\u001b[49m\u001b[43m \u001b[49m\n\u001b[1;32m     10\u001b[0m \u001b[43m        \u001b[49m\u001b[43mn_timesteps\u001b[49m\u001b[43m \u001b[49m\u001b[38;5;241;43m=\u001b[39;49m\u001b[43m \u001b[49m\u001b[43mconfig\u001b[49m\u001b[38;5;241;43m.\u001b[39;49m\u001b[43mnum_integration_steps\u001b[49m\u001b[43m,\u001b[49m\n\u001b[1;32m     11\u001b[0m \u001b[43m        \u001b[49m\u001b[43mxt_traj\u001b[49m\u001b[38;5;241;43m=\u001b[39;49m\u001b[43mxt_traj\u001b[49m\u001b[43m,\u001b[49m\n\u001b[1;32m     12\u001b[0m \u001b[43m        \u001b[49m\u001b[43mep_traj\u001b[49m\u001b[38;5;241;43m=\u001b[39;49m\u001b[43mep_traj\u001b[49m\u001b[43m,\u001b[49m\n\u001b[1;32m     13\u001b[0m \u001b[43m        \u001b[49m\u001b[43mdevice\u001b[49m\u001b[43m \u001b[49m\u001b[38;5;241;43m=\u001b[39;49m\u001b[43m \u001b[49m\u001b[43mdevice\u001b[49m\u001b[43m,\u001b[49m\n\u001b[1;32m     14\u001b[0m \u001b[43m    \u001b[49m\u001b[43m)\u001b[49m\n\u001b[1;32m     15\u001b[0m     \u001b[38;5;28;01mreturn\u001b[39;00m new_molecules\n",
      "File \u001b[0;32m~/MasterThesis/v02/flowmol/models/flowmol.py:450\u001b[0m, in \u001b[0;36mFlowMol.sample_random_sizes\u001b[0;34m(self, n_molecules, device, stochasticity, high_confidence_threshold, xt_traj, ep_traj, **kwargs)\u001b[0m\n\u001b[1;32m    448\u001b[0m \u001b[38;5;66;03m# get the number of atoms that will be in each molecules\u001b[39;00m\n\u001b[1;32m    449\u001b[0m atoms_per_molecule \u001b[38;5;241m=\u001b[39m \u001b[38;5;28mself\u001b[39m\u001b[38;5;241m.\u001b[39msample_n_atoms(n_molecules)\u001b[38;5;241m.\u001b[39mto(device)\n\u001b[0;32m--> 450\u001b[0m \u001b[38;5;28;01mreturn\u001b[39;00m \u001b[38;5;28;43mself\u001b[39;49m\u001b[38;5;241;43m.\u001b[39;49m\u001b[43msample\u001b[49m\u001b[43m(\u001b[49m\u001b[43matoms_per_molecule\u001b[49m\u001b[43m,\u001b[49m\u001b[43m \u001b[49m\n\u001b[1;32m    451\u001b[0m \u001b[43m    \u001b[49m\u001b[43mdevice\u001b[49m\u001b[38;5;241;43m=\u001b[39;49m\u001b[43mdevice\u001b[49m\u001b[43m,\u001b[49m\u001b[43m  \u001b[49m\n\u001b[1;32m    452\u001b[0m \u001b[43m    \u001b[49m\u001b[43mstochasticity\u001b[49m\u001b[38;5;241;43m=\u001b[39;49m\u001b[43mstochasticity\u001b[49m\u001b[43m,\u001b[49m\u001b[43m \u001b[49m\n\u001b[1;32m    453\u001b[0m \u001b[43m    \u001b[49m\u001b[43mhigh_confidence_threshold\u001b[49m\u001b[38;5;241;43m=\u001b[39;49m\u001b[43mhigh_confidence_threshold\u001b[49m\u001b[43m,\u001b[49m\n\u001b[1;32m    454\u001b[0m \u001b[43m    \u001b[49m\u001b[43mxt_traj\u001b[49m\u001b[38;5;241;43m=\u001b[39;49m\u001b[43mxt_traj\u001b[49m\u001b[43m,\u001b[49m\n\u001b[1;32m    455\u001b[0m \u001b[43m    \u001b[49m\u001b[43mep_traj\u001b[49m\u001b[38;5;241;43m=\u001b[39;49m\u001b[43mep_traj\u001b[49m\u001b[43m,\u001b[49m\u001b[43m \u001b[49m\u001b[38;5;241;43m*\u001b[39;49m\u001b[38;5;241;43m*\u001b[39;49m\u001b[43mkwargs\u001b[49m\u001b[43m)\u001b[49m\n",
      "File \u001b[0;32m/opt/homebrew/Caskroom/miniforge/base/envs/deep/lib/python3.9/site-packages/torch/utils/_contextlib.py:115\u001b[0m, in \u001b[0;36mcontext_decorator.<locals>.decorate_context\u001b[0;34m(*args, **kwargs)\u001b[0m\n\u001b[1;32m    112\u001b[0m \u001b[38;5;129m@functools\u001b[39m\u001b[38;5;241m.\u001b[39mwraps(func)\n\u001b[1;32m    113\u001b[0m \u001b[38;5;28;01mdef\u001b[39;00m\u001b[38;5;250m \u001b[39m\u001b[38;5;21mdecorate_context\u001b[39m(\u001b[38;5;241m*\u001b[39margs, \u001b[38;5;241m*\u001b[39m\u001b[38;5;241m*\u001b[39mkwargs):\n\u001b[1;32m    114\u001b[0m     \u001b[38;5;28;01mwith\u001b[39;00m ctx_factory():\n\u001b[0;32m--> 115\u001b[0m         \u001b[38;5;28;01mreturn\u001b[39;00m \u001b[43mfunc\u001b[49m\u001b[43m(\u001b[49m\u001b[38;5;241;43m*\u001b[39;49m\u001b[43margs\u001b[49m\u001b[43m,\u001b[49m\u001b[43m \u001b[49m\u001b[38;5;241;43m*\u001b[39;49m\u001b[38;5;241;43m*\u001b[39;49m\u001b[43mkwargs\u001b[49m\u001b[43m)\u001b[49m\n",
      "File \u001b[0;32m~/MasterThesis/v02/flowmol/models/flowmol.py:488\u001b[0m, in \u001b[0;36mFlowMol.sample\u001b[0;34m(self, n_atoms, n_timesteps, device, stochasticity, high_confidence_threshold, xt_traj, ep_traj, **kwargs)\u001b[0m\n\u001b[1;32m    486\u001b[0m \u001b[38;5;28mprint\u001b[39m(n_atoms)\n\u001b[1;32m    487\u001b[0m \u001b[38;5;28mprint\u001b[39m(\u001b[38;5;124mf\u001b[39m\u001b[38;5;124m'\u001b[39m\u001b[38;5;124medge_idxs_dict: \u001b[39m\u001b[38;5;132;01m{\u001b[39;00medge_idxs_dict\u001b[38;5;132;01m}\u001b[39;00m\u001b[38;5;124m'\u001b[39m)\n\u001b[0;32m--> 488\u001b[0m \u001b[38;5;28;01massert\u001b[39;00m \u001b[38;5;28;01mFalse\u001b[39;00m\n\u001b[1;32m    489\u001b[0m \u001b[38;5;66;03m# construct a graph for each molecule\u001b[39;00m\n\u001b[1;32m    490\u001b[0m g \u001b[38;5;241m=\u001b[39m []\n",
      "\u001b[0;31mAssertionError\u001b[0m: "
     ]
    }
   ],
   "source": [
    "# Generate Samples\n",
    "x_new_tr = sampling(\n",
    "    config.reward_sampling,\n",
    "    copy.deepcopy(gen_model),\n",
    "    xt_traj=True,\n",
    "    # ep_traj=True,\n",
    "    device=device\n",
    ")"
   ]
  },
  {
   "cell_type": "code",
   "execution_count": 69,
   "id": "f32cc3bf",
   "metadata": {},
   "outputs": [
    {
     "data": {
      "text/plain": [
       "[<flowmol.analysis.molecule_builder.SampledMolecule at 0x32fdb4790>,\n",
       " <flowmol.analysis.molecule_builder.SampledMolecule at 0x32fdb4700>,\n",
       " <flowmol.analysis.molecule_builder.SampledMolecule at 0x3200e9580>]"
      ]
     },
     "execution_count": 69,
     "metadata": {},
     "output_type": "execute_result"
    }
   ],
   "source": [
    "x_new_tr"
   ]
  },
  {
   "cell_type": "code",
   "execution_count": null,
   "id": "ad419ddf",
   "metadata": {},
   "outputs": [],
   "source": [
    "x_new_tr"
   ]
  },
  {
   "cell_type": "code",
   "execution_count": 73,
   "id": "31cd296f",
   "metadata": {},
   "outputs": [],
   "source": [
    "sample_tr = x_new_tr[1]"
   ]
  },
  {
   "cell_type": "code",
   "execution_count": 118,
   "id": "e92d6b23",
   "metadata": {},
   "outputs": [],
   "source": [
    "k = 10"
   ]
  },
  {
   "cell_type": "code",
   "execution_count": 119,
   "id": "046d0dd7",
   "metadata": {},
   "outputs": [],
   "source": [
    "x = steps = 6"
   ]
  },
  {
   "cell_type": "code",
   "execution_count": 130,
   "id": "44e0ec44",
   "metadata": {},
   "outputs": [
    {
     "data": {
      "text/plain": [
       "array([7, 3, 1, 5, 5, 9])"
      ]
     },
     "execution_count": 130,
     "metadata": {},
     "output_type": "execute_result"
    }
   ],
   "source": [
    "import numpy as np\n",
    "\n",
    "idx = np.random.choice(k, size=x, replace=True)\n",
    "idx\n",
    "\n"
   ]
  },
  {
   "cell_type": "code",
   "execution_count": 139,
   "id": "57c1104f",
   "metadata": {},
   "outputs": [
    {
     "data": {
      "text/plain": [
       "[1, 2, 3, 4, 5, 6, 7, 8, 9]"
      ]
     },
     "execution_count": 139,
     "metadata": {},
     "output_type": "execute_result"
    }
   ],
   "source": [
    "losses = [i for i in range(1,10)]\n",
    "losses"
   ]
  },
  {
   "cell_type": "code",
   "execution_count": 140,
   "id": "1b233e9e",
   "metadata": {},
   "outputs": [
    {
     "data": {
      "text/plain": [
       "[1, 1, 2, 3, 4, 5, 6, 7, 8, 9]"
      ]
     },
     "execution_count": 140,
     "metadata": {},
     "output_type": "execute_result"
    }
   ],
   "source": [
    "losses.insert(0,losses[0])\n",
    "losses"
   ]
  },
  {
   "cell_type": "code",
   "execution_count": 137,
   "id": "ae7b2f9d",
   "metadata": {},
   "outputs": [
    {
     "data": {
      "text/plain": [
       "NoneType"
      ]
     },
     "execution_count": 137,
     "metadata": {},
     "output_type": "execute_result"
    }
   ],
   "source": [
    "type(losses)"
   ]
  },
  {
   "cell_type": "code",
   "execution_count": 114,
   "id": "3eb5c295",
   "metadata": {},
   "outputs": [
    {
     "data": {
      "text/plain": [
       "Graph(num_nodes=23, num_edges=506,\n",
       "      ndata_schemes={'x_0': Scheme(shape=(3,), dtype=torch.float32), 'a_0': Scheme(shape=(6,), dtype=torch.float32), 'c_0': Scheme(shape=(7,), dtype=torch.float32), 'x_t': Scheme(shape=(3,), dtype=torch.float32), 'a_t': Scheme(shape=(6,), dtype=torch.float32), 'c_t': Scheme(shape=(7,), dtype=torch.float32), 'x_1_pred': Scheme(shape=(3,), dtype=torch.float32), 'a_1_pred': Scheme(shape=(6,), dtype=torch.float32), 'c_1_pred': Scheme(shape=(7,), dtype=torch.float32), 'x_1': Scheme(shape=(3,), dtype=torch.float32), 'a_1': Scheme(shape=(6,), dtype=torch.float32), 'c_1': Scheme(shape=(7,), dtype=torch.float32)}\n",
       "      edata_schemes={'e_0': Scheme(shape=(6,), dtype=torch.float32), 'e_t': Scheme(shape=(6,), dtype=torch.float32), 'e_1_pred': Scheme(shape=(6,), dtype=torch.float32), 'e_1': Scheme(shape=(6,), dtype=torch.float32), 'ue_mask': Scheme(shape=(), dtype=torch.bool)})"
      ]
     },
     "execution_count": 114,
     "metadata": {},
     "output_type": "execute_result"
    }
   ],
   "source": [
    "g_t = sample_tr.g\n",
    "g_t"
   ]
  },
  {
   "cell_type": "code",
   "execution_count": 117,
   "id": "22a0086f",
   "metadata": {},
   "outputs": [
    {
     "data": {
      "text/plain": [
       "{'e_0': tensor([[0., 0., 0., 0., 0., 1.],\n",
       "        [0., 0., 0., 0., 0., 1.],\n",
       "        [0., 0., 0., 0., 0., 1.],\n",
       "        ...,\n",
       "        [0., 0., 0., 0., 0., 1.],\n",
       "        [0., 0., 0., 0., 0., 1.],\n",
       "        [0., 0., 0., 0., 0., 1.]]), 'e_t': tensor([[1., 0., 0., 0., 0., 0.],\n",
       "        [1., 0., 0., 0., 0., 0.],\n",
       "        [1., 0., 0., 0., 0., 0.],\n",
       "        ...,\n",
       "        [1., 0., 0., 0., 0., 0.],\n",
       "        [1., 0., 0., 0., 0., 0.],\n",
       "        [1., 0., 0., 0., 0., 0.]]), 'e_1_pred': tensor([[1., 0., 0., 0., 0., 0.],\n",
       "        [1., 0., 0., 0., 0., 0.],\n",
       "        [1., 0., 0., 0., 0., 0.],\n",
       "        ...,\n",
       "        [1., 0., 0., 0., 0., 0.],\n",
       "        [1., 0., 0., 0., 0., 0.],\n",
       "        [1., 0., 0., 0., 0., 0.]]), 'e_1': tensor([[1., 0., 0., 0., 0., 0.],\n",
       "        [1., 0., 0., 0., 0., 0.],\n",
       "        [1., 0., 0., 0., 0., 0.],\n",
       "        ...,\n",
       "        [1., 0., 0., 0., 0., 0.],\n",
       "        [1., 0., 0., 0., 0., 0.],\n",
       "        [1., 0., 0., 0., 0., 0.]]), 'ue_mask': tensor([ True,  True,  True,  True,  True,  True,  True,  True,  True,  True,\n",
       "         True,  True,  True,  True,  True,  True,  True,  True,  True,  True,\n",
       "         True,  True,  True,  True,  True,  True,  True,  True,  True,  True,\n",
       "         True,  True,  True,  True,  True,  True,  True,  True,  True,  True,\n",
       "         True,  True,  True,  True,  True,  True,  True,  True,  True,  True,\n",
       "         True,  True,  True,  True,  True,  True,  True,  True,  True,  True,\n",
       "         True,  True,  True,  True,  True,  True,  True,  True,  True,  True,\n",
       "         True,  True,  True,  True,  True,  True,  True,  True,  True,  True,\n",
       "         True,  True,  True,  True,  True,  True,  True,  True,  True,  True,\n",
       "         True,  True,  True,  True,  True,  True,  True,  True,  True,  True,\n",
       "         True,  True,  True,  True,  True,  True,  True,  True,  True,  True,\n",
       "         True,  True,  True,  True,  True,  True,  True,  True,  True,  True,\n",
       "         True,  True,  True,  True,  True,  True,  True,  True,  True,  True,\n",
       "         True,  True,  True,  True,  True,  True,  True,  True,  True,  True,\n",
       "         True,  True,  True,  True,  True,  True,  True,  True,  True,  True,\n",
       "         True,  True,  True,  True,  True,  True,  True,  True,  True,  True,\n",
       "         True,  True,  True,  True,  True,  True,  True,  True,  True,  True,\n",
       "         True,  True,  True,  True,  True,  True,  True,  True,  True,  True,\n",
       "         True,  True,  True,  True,  True,  True,  True,  True,  True,  True,\n",
       "         True,  True,  True,  True,  True,  True,  True,  True,  True,  True,\n",
       "         True,  True,  True,  True,  True,  True,  True,  True,  True,  True,\n",
       "         True,  True,  True,  True,  True,  True,  True,  True,  True,  True,\n",
       "         True,  True,  True,  True,  True,  True,  True,  True,  True,  True,\n",
       "         True,  True,  True,  True,  True,  True,  True,  True,  True,  True,\n",
       "         True,  True,  True,  True,  True,  True,  True,  True,  True,  True,\n",
       "         True,  True,  True, False, False, False, False, False, False, False,\n",
       "        False, False, False, False, False, False, False, False, False, False,\n",
       "        False, False, False, False, False, False, False, False, False, False,\n",
       "        False, False, False, False, False, False, False, False, False, False,\n",
       "        False, False, False, False, False, False, False, False, False, False,\n",
       "        False, False, False, False, False, False, False, False, False, False,\n",
       "        False, False, False, False, False, False, False, False, False, False,\n",
       "        False, False, False, False, False, False, False, False, False, False,\n",
       "        False, False, False, False, False, False, False, False, False, False,\n",
       "        False, False, False, False, False, False, False, False, False, False,\n",
       "        False, False, False, False, False, False, False, False, False, False,\n",
       "        False, False, False, False, False, False, False, False, False, False,\n",
       "        False, False, False, False, False, False, False, False, False, False,\n",
       "        False, False, False, False, False, False, False, False, False, False,\n",
       "        False, False, False, False, False, False, False, False, False, False,\n",
       "        False, False, False, False, False, False, False, False, False, False,\n",
       "        False, False, False, False, False, False, False, False, False, False,\n",
       "        False, False, False, False, False, False, False, False, False, False,\n",
       "        False, False, False, False, False, False, False, False, False, False,\n",
       "        False, False, False, False, False, False, False, False, False, False,\n",
       "        False, False, False, False, False, False, False, False, False, False,\n",
       "        False, False, False, False, False, False, False, False, False, False,\n",
       "        False, False, False, False, False, False, False, False, False, False,\n",
       "        False, False, False, False, False, False, False, False, False, False,\n",
       "        False, False, False, False, False, False, False, False, False, False,\n",
       "        False, False, False, False, False, False])}"
      ]
     },
     "execution_count": 117,
     "metadata": {},
     "output_type": "execute_result"
    }
   ],
   "source": [
    "g_t.edata"
   ]
  },
  {
   "cell_type": "code",
   "execution_count": null,
   "id": "5e956b35",
   "metadata": {},
   "outputs": [],
   "source": [
    "g_t"
   ]
  },
  {
   "cell_type": "code",
   "execution_count": 74,
   "id": "1d596c21",
   "metadata": {},
   "outputs": [
    {
     "data": {
      "image/png": "[encoded data removed]",
      "text/plain": [
       "<rdkit.Chem.rdchem.Mol at 0x330b07cf0>"
      ]
     },
     "execution_count": 74,
     "metadata": {},
     "output_type": "execute_result"
    }
   ],
   "source": [
    "sample_tr.rdkit_mol"
   ]
  },
  {
   "cell_type": "code",
   "execution_count": 75,
   "id": "4970d861",
   "metadata": {},
   "outputs": [
    {
     "name": "stdout",
     "output_type": "stream",
     "text": [
      "x\n",
      "torch.Size([40, 23, 3])\n",
      "x_1_pred\n",
      "torch.Size([39, 23, 3])\n",
      "a\n",
      "torch.Size([40, 23, 6])\n",
      "a_1_pred\n",
      "torch.Size([39, 23, 6])\n",
      "c\n",
      "torch.Size([40, 23, 7])\n",
      "c_1_pred\n",
      "torch.Size([39, 23, 7])\n",
      "e\n",
      "torch.Size([40, 506, 6])\n",
      "e_1_pred\n",
      "torch.Size([39, 506, 6])\n"
     ]
    }
   ],
   "source": [
    "for k, v in sample_tr.traj_frames.items():\n",
    "    print(k)\n",
    "    print(v.shape)"
   ]
  },
  {
   "cell_type": "code",
   "execution_count": 102,
   "id": "66ecd58d",
   "metadata": {},
   "outputs": [],
   "source": [
    "import torch\n",
    "import dgl\n",
    "from flowmol.data_processing.utils import build_edge_idxs\n",
    "\n",
    "def build_graphs_from_traj(traj_frames):\n",
    "    x = traj_frames['x']       # [T, N, 3]\n",
    "    a = traj_frames['a']       # [T, N, 6]\n",
    "    c = traj_frames['c']       # [T, N, 7]\n",
    "    e = traj_frames['e']       # [T, E, 6]\n",
    "    \n",
    "    T, N, _ = x.shape\n",
    "    _, E, _ = e.shape\n",
    "\n",
    "    graphs = []\n",
    "    for t in range(T):\n",
    "        edge_idx = build_edge_idxs(N)  # assumed to return a tuple (src, dst) each of shape [E]\n",
    "\n",
    "        g = dgl.graph((edge_idx[0],edge_idx[1]), num_nodes=N)\n",
    "\n",
    "        g.ndata['x'] = x[t]       # [N, 3]\n",
    "        g.ndata['a'] = a[t]      # [N, 6]\n",
    "        g.ndata['c'] = c[t]    # [N, 7]\n",
    "        g.edata['e'] = e[t]      # [E, 6]\n",
    "\n",
    "        graphs.append(g)\n",
    "    \n",
    "    return graphs\n"
   ]
  },
  {
   "cell_type": "code",
   "execution_count": 103,
   "id": "f4a5c611",
   "metadata": {},
   "outputs": [],
   "source": [
    "graphs = build_graphs_from_traj(sample_tr.traj_frames)"
   ]
  },
  {
   "cell_type": "code",
   "execution_count": 104,
   "id": "46bdeb1a",
   "metadata": {},
   "outputs": [
    {
     "data": {
      "text/plain": [
       "Graph(num_nodes=23, num_edges=506,\n",
       "      ndata_schemes={'x': Scheme(shape=(3,), dtype=torch.float32), 'a': Scheme(shape=(6,), dtype=torch.float32), 'c': Scheme(shape=(7,), dtype=torch.float32)}\n",
       "      edata_schemes={'e': Scheme(shape=(6,), dtype=torch.float32)})"
      ]
     },
     "execution_count": 104,
     "metadata": {},
     "output_type": "execute_result"
    }
   ],
   "source": [
    "graphs[0]"
   ]
  },
  {
   "cell_type": "code",
   "execution_count": null,
   "id": "16d4b9fd",
   "metadata": {},
   "outputs": [
    {
     "data": {
      "text/plain": [
       "tensor([5.1830e-08, 3.6281e-08, 2.5915e-09])"
      ]
     },
     "execution_count": 109,
     "metadata": {},
     "output_type": "execute_result"
    }
   ],
   "source": [
    "graphs[0].ndata['x']"
   ]
  },
  {
   "cell_type": "code",
   "execution_count": null,
   "id": "99718424",
   "metadata": {},
   "outputs": [],
   "source": []
  },
  {
   "cell_type": "code",
   "execution_count": null,
   "id": "c252a557",
   "metadata": {},
   "outputs": [],
   "source": []
  },
  {
   "cell_type": "code",
   "execution_count": null,
   "id": "2c4cb9fa",
   "metadata": {},
   "outputs": [],
   "source": []
  },
  {
   "cell_type": "code",
   "execution_count": null,
   "id": "f87777ee",
   "metadata": {},
   "outputs": [],
   "source": []
  },
  {
   "cell_type": "code",
   "execution_count": null,
   "id": "4c378977",
   "metadata": {},
   "outputs": [],
   "source": []
  },
  {
   "cell_type": "code",
   "execution_count": null,
   "id": "c23370bf",
   "metadata": {},
   "outputs": [],
   "source": []
  },
  {
   "cell_type": "code",
   "execution_count": null,
   "id": "1d27d0b2",
   "metadata": {},
   "outputs": [],
   "source": []
  },
  {
   "cell_type": "code",
   "execution_count": null,
   "id": "c71a4be8",
   "metadata": {},
   "outputs": [],
   "source": []
  }
 ],
 "metadata": {
  "kernelspec": {
   "display_name": "deep",
   "language": "python",
   "name": "python3"
  },
  "language_info": {
   "codemirror_mode": {
    "name": "ipython",
    "version": 3
   },
   "file_extension": ".py",
   "mimetype": "text/x-python",
   "name": "python",
   "nbconvert_exporter": "python",
   "pygments_lexer": "ipython3",
   "version": "3.9.21"
  }
 },
 "nbformat": 4,
 "nbformat_minor": 5
}

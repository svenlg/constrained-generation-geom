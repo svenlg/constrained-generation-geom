{
 "cells": [
  {
   "cell_type": "markdown",
   "metadata": {},
   "source": [
    "#### Arguments"
   ]
  },
  {
   "cell_type": "code",
   "execution_count": 1,
   "metadata": {},
   "outputs": [],
   "source": [
    "args = {\n",
    "    # General\n",
    "    'seed': 42,\n",
    "    'device': 'cpu',\n",
    "    'root_dir': '/Users/svlg/MasterThesis/v02',\n",
    "\n",
    "    # FlowMol\n",
    "    'model': 'qm9_ctmc',\n",
    "    'n_molecules': 1000,\n",
    "    'n_timesteps': 50,\n",
    "\n",
    "    # Reward model\n",
    "    'reward_model': 'PAMNet_s',\n",
    "    'n_layer': 6,\n",
    "    'dim': 128,\n",
    "    'target': 7,\n",
    "    'cutoff_l': 5.0,\n",
    "    'cutoff_g': 5.0,\n",
    "\n",
    "    # Data / Dataset\n",
    "    'dataset': 'QM9',\n",
    "    'data_path': '/data',\n",
    "    'batch_size': 1000,\n",
    "}"
   ]
  },
  {
   "cell_type": "code",
   "execution_count": 2,
   "metadata": {},
   "outputs": [],
   "source": [
    "import torch\n",
    "import numpy as np\n",
    "import random\n",
    "\n",
    "def set_seed(seed):\n",
    "    \"\"\"Seed all random generators.\"\"\"\n",
    "    torch.backends.cudnn.deterministic = True\n",
    "    torch.backends.cudnn.benchmark = False\n",
    "    torch.manual_seed(seed)\n",
    "    torch.cuda.manual_seed_all(seed)\n",
    "    np.random.seed(seed)\n",
    "    random.seed(seed)\n",
    "\n",
    "set_seed(args['seed'])"
   ]
  },
  {
   "cell_type": "markdown",
   "metadata": {},
   "source": [
    "#### Data"
   ]
  },
  {
   "cell_type": "code",
   "execution_count": 3,
   "metadata": {},
   "outputs": [],
   "source": [
    "import os.path as osp\n",
    "from torch_geometric.loader import DataLoader\n",
    "from dataset.QM9 import QM9"
   ]
  },
  {
   "cell_type": "code",
   "execution_count": 4,
   "metadata": {},
   "outputs": [],
   "source": [
    "data_root = osp.join(args['root_dir'] + args['data_path'])\n",
    "train_dataset = QM9(data_root)\n",
    "train_dataset.load(osp.join(data_root, 'qm9_train_data.pt'))\n",
    "train_loader = DataLoader(train_dataset, batch_size=args['batch_size'], shuffle=True)\n",
    "val_dataset = QM9(data_root)\n",
    "val_dataset.load(osp.join(data_root, 'qm9_val_data.pt'))\n",
    "val_loader = DataLoader(val_dataset, batch_size=args['batch_size'], shuffle=False)\n",
    "test_dataset = QM9(data_root)\n",
    "test_dataset.load(osp.join(data_root, 'qm9_test_data.pt'))\n",
    "test_loader = DataLoader(test_dataset, batch_size=args['batch_size'], shuffle=False)"
   ]
  },
  {
   "cell_type": "code",
   "execution_count": 5,
   "metadata": {},
   "outputs": [
    {
     "name": "stdout",
     "output_type": "stream",
     "text": [
      "DataBatch(x=[17995, 5], edge_index=[2, 37264], edge_attr=[37264, 4], y=[1000, 19], pos=[17995, 3], z=[17995], smiles=[1000], idx=[1000], batch=[17995], ptr=[1001])\n"
     ]
    }
   ],
   "source": [
    "for batch_data in train_loader:\n",
    "    print(batch_data)\n",
    "    break\n",
    "\n",
    "qm9_data = batch_data.to_data_list()\n",
    "qm9_smiles = [data.smiles for data in qm9_data]"
   ]
  },
  {
   "cell_type": "code",
   "execution_count": 6,
   "metadata": {},
   "outputs": [],
   "source": [
    "from rdkit import Chem\n",
    "from rdkit.Geometry.rdGeometry import Point3D\n",
    "bond_type_map = [Chem.rdchem.BondType.SINGLE, \n",
    "                 Chem.rdchem.BondType.DOUBLE, \n",
    "                 Chem.rdchem.BondType.TRIPLE,\n",
    "                 Chem.rdchem.BondType.AROMATIC, \n",
    "                 None] # last bond type is for masked bonds"
   ]
  },
  {
   "cell_type": "code",
   "execution_count": 7,
   "metadata": {},
   "outputs": [],
   "source": [
    "def pyg_to_rdmol(positions, atom_types, bond_src_idxs, bond_dst_idxs, bond_types):\n",
    "    \"\"\"Builds a rdkit molecule from the given atom and bond information.\"\"\"\n",
    "    # create a rdkit molecule and add atoms to it\n",
    "    mol = Chem.RWMol()\n",
    "    for atom_type in atom_types:\n",
    "        a = Chem.Atom(int(atom_type))\n",
    "        mol.AddAtom(a)\n",
    "\n",
    "    # add bonds to rdkit molecule\n",
    "    visited = set()\n",
    "    for bond_type, src_idx, dst_idx in zip(bond_types, bond_src_idxs, bond_dst_idxs):\n",
    "        src_idx = int(src_idx)\n",
    "        dst_idx = int(dst_idx)\n",
    "        if (src_idx, dst_idx) in visited or (dst_idx, src_idx) in visited:\n",
    "            continue\n",
    "        mol.AddBond(src_idx, dst_idx, bond_type_map[bond_type])\n",
    "        visited.add((src_idx, dst_idx))\n",
    "\n",
    "    try:\n",
    "        mol = mol.GetMol()\n",
    "    except Chem.KekulizeException:\n",
    "        return None\n",
    "\n",
    "    # Set coordinates\n",
    "    conf = Chem.Conformer(mol.GetNumAtoms())\n",
    "    for i in range(mol.GetNumAtoms()):\n",
    "        x, y, z = positions[i]\n",
    "        x, y, z = float(x), float(y), float(z)\n",
    "        conf.SetAtomPosition(i, Point3D(x,y,z))\n",
    "    mol.AddConformer(conf)\n",
    "\n",
    "    return mol"
   ]
  },
  {
   "cell_type": "code",
   "execution_count": 8,
   "metadata": {},
   "outputs": [],
   "source": [
    "qm9_rdkit_mols = []\n",
    "for data in qm9_data:\n",
    "    mol = pyg_to_rdmol(data.pos, data.z.tolist(), data.edge_index[0].tolist(), data.edge_index[1].tolist(), torch.argmax(data.edge_attr, dim=1))\n",
    "    qm9_rdkit_mols.append(mol)"
   ]
  },
  {
   "cell_type": "code",
   "execution_count": 9,
   "metadata": {},
   "outputs": [
    {
     "data": {
      "application/3dmoljs_load.v0": "<div id=\"3dmolviewer_1739880290272685\"  style=\"position: relative; width: 250px; height: 250px;\">\n        <p id=\"3dmolwarning_1739880290272685\" style=\"background-color:#ffcccc;color:black\">3Dmol.js failed to load for some reason.  Please check your browser console for error messages.<br></p>\n        </div>\n<script>\n\nvar loadScriptAsync = function(uri){\n  return new Promise((resolve, reject) => {\n    //this is to ignore the existence of requirejs amd\n    var savedexports, savedmodule;\n    if (typeof exports !== 'undefined') savedexports = exports;\n    else exports = {}\n    if (typeof module !== 'undefined') savedmodule = module;\n    else module = {}\n\n    var tag = document.createElement('script');\n    tag.src = uri;\n    tag.async = true;\n    tag.onload = () => {\n        exports = savedexports;\n        module = savedmodule;\n        resolve();\n    };\n  var firstScriptTag = document.getElementsByTagName('script')[0];\n  firstScriptTag.parentNode.insertBefore(tag, firstScriptTag);\n});\n};\n\nif(typeof $3Dmolpromise === 'undefined') {\n$3Dmolpromise = null;\n  $3Dmolpromise = loadScriptAsync('https://cdnjs.cloudflare.com/ajax/libs/3Dmol/2.4.2/3Dmol-min.js');\n}\n\nvar viewer_1739880290272685 = null;\nvar warn = document.getElementById(\"3dmolwarning_1739880290272685\");\nif(warn) {\n    warn.parentNode.removeChild(warn);\n}\n$3Dmolpromise.then(function() {\nviewer_1739880290272685 = $3Dmol.createViewer(document.getElementById(\"3dmolviewer_1739880290272685\"),{backgroundColor:\"white\"});\nviewer_1739880290272685.zoomTo();\n\tviewer_1739880290272685.addModel(\"\\n     RDKit          3D\\n\\n 21 23  0  0  0  0  0  0  0  0999 V2000\\n   -0.3937    1.5403    0.0496 C   0  0  0  0  0  0  0  0  0  0  0  0\\n   -0.0216    0.0649    0.0226 C   0  0  0  0  0  0  0  0  0  0  0  0\\n    1.1569   -0.4062   -0.8735 C   0  0  0  0  0  0  0  0  0  0  0  0\\n    1.7514   -1.2122    0.2445 N   0  0  0  0  0  0  0  0  0  0  0  0\\n    2.8654   -0.4891    0.9356 C   0  0  0  0  0  0  0  0  0  0  0  0\\n    1.8708    0.1375    1.9221 C   0  0  0  0  0  0  0  0  0  0  0  0\\n    2.0630    0.3804    3.3678 C   0  0  0  0  0  0  0  0  0  0  0  0\\n    1.8305    1.5036    2.4379 N   0  0  0  0  0  0  0  0  0  0  0  0\\n    0.7362   -0.5981    1.2032 C   0  0  0  0  0  0  0  0  0  0  0  0\\n    0.4684    2.1737    0.2697 H   0  0  0  0  0  0  0  0  0  0  0  0\\n   -0.8083    1.8435   -0.9188 H   0  0  0  0  0  0  0  0  0  0  0  0\\n   -1.1500    1.7443    0.8146 H   0  0  0  0  0  0  0  0  0  0  0  0\\n   -0.9165   -0.5285   -0.1922 H   0  0  0  0  0  0  0  0  0  0  0  0\\n    0.8906   -1.0186   -1.7402 H   0  0  0  0  0  0  0  0  0  0  0  0\\n    1.8104    0.4069   -1.2160 H   0  0  0  0  0  0  0  0  0  0  0  0\\n    3.5919   -1.1762    1.3834 H   0  0  0  0  0  0  0  0  0  0  0  0\\n    3.4046    0.2150    0.2887 H   0  0  0  0  0  0  0  0  0  0  0  0\\n    1.2517    0.1944    4.0672 H   0  0  0  0  0  0  0  0  0  0  0  0\\n    3.0595    0.2368    3.7793 H   0  0  0  0  0  0  0  0  0  0  0  0\\n    2.7080    1.9772    2.2335 H   0  0  0  0  0  0  0  0  0  0  0  0\\n    0.1578   -1.2834    1.8310 H   0  0  0  0  0  0  0  0  0  0  0  0\\n  1  2  1  0\\n  1 10  1  0\\n  1 11  1  0\\n  1 12  1  0\\n  2  3  1  0\\n  2  9  1  0\\n  2 13  1  0\\n  3  4  1  0\\n  3 14  1  0\\n  3 15  1  0\\n  4  5  1  0\\n  4  9  1  0\\n  5  6  1  0\\n  5 16  1  0\\n  5 17  1  0\\n  6  7  1  0\\n  6  8  1  0\\n  6  9  1  0\\n  7  8  1  0\\n  7 18  1  0\\n  7 19  1  0\\n  8 20  1  0\\n  9 21  1  0\\nM  END\\n\",\"mol\");\n\tviewer_1739880290272685.setStyle({\"stick\": {}, \"sphere\": {\"scale\": 0.3}});\n\tviewer_1739880290272685.zoomTo();\nviewer_1739880290272685.render();\n});\n</script>",
      "text/html": [
       "<div id=\"3dmolviewer_1739880290272685\"  style=\"position: relative; width: 250px; height: 250px;\">\n",
       "        <p id=\"3dmolwarning_1739880290272685\" style=\"background-color:#ffcccc;color:black\">3Dmol.js failed to load for some reason.  Please check your browser console for error messages.<br></p>\n",
       "        </div>\n",
       "<script>\n",
       "\n",
       "var loadScriptAsync = function(uri){\n",
       "  return new Promise((resolve, reject) => {\n",
       "    //this is to ignore the existence of requirejs amd\n",
       "    var savedexports, savedmodule;\n",
       "    if (typeof exports !== 'undefined') savedexports = exports;\n",
       "    else exports = {}\n",
       "    if (typeof module !== 'undefined') savedmodule = module;\n",
       "    else module = {}\n",
       "\n",
       "    var tag = document.createElement('script');\n",
       "    tag.src = uri;\n",
       "    tag.async = true;\n",
       "    tag.onload = () => {\n",
       "        exports = savedexports;\n",
       "        module = savedmodule;\n",
       "        resolve();\n",
       "    };\n",
       "  var firstScriptTag = document.getElementsByTagName('script')[0];\n",
       "  firstScriptTag.parentNode.insertBefore(tag, firstScriptTag);\n",
       "});\n",
       "};\n",
       "\n",
       "if(typeof $3Dmolpromise === 'undefined') {\n",
       "$3Dmolpromise = null;\n",
       "  $3Dmolpromise = loadScriptAsync('https://cdnjs.cloudflare.com/ajax/libs/3Dmol/2.4.2/3Dmol-min.js');\n",
       "}\n",
       "\n",
       "var viewer_1739880290272685 = null;\n",
       "var warn = document.getElementById(\"3dmolwarning_1739880290272685\");\n",
       "if(warn) {\n",
       "    warn.parentNode.removeChild(warn);\n",
       "}\n",
       "$3Dmolpromise.then(function() {\n",
       "viewer_1739880290272685 = $3Dmol.createViewer(document.getElementById(\"3dmolviewer_1739880290272685\"),{backgroundColor:\"white\"});\n",
       "viewer_1739880290272685.zoomTo();\n",
       "\tviewer_1739880290272685.addModel(\"\\n     RDKit          3D\\n\\n 21 23  0  0  0  0  0  0  0  0999 V2000\\n   -0.3937    1.5403    0.0496 C   0  0  0  0  0  0  0  0  0  0  0  0\\n   -0.0216    0.0649    0.0226 C   0  0  0  0  0  0  0  0  0  0  0  0\\n    1.1569   -0.4062   -0.8735 C   0  0  0  0  0  0  0  0  0  0  0  0\\n    1.7514   -1.2122    0.2445 N   0  0  0  0  0  0  0  0  0  0  0  0\\n    2.8654   -0.4891    0.9356 C   0  0  0  0  0  0  0  0  0  0  0  0\\n    1.8708    0.1375    1.9221 C   0  0  0  0  0  0  0  0  0  0  0  0\\n    2.0630    0.3804    3.3678 C   0  0  0  0  0  0  0  0  0  0  0  0\\n    1.8305    1.5036    2.4379 N   0  0  0  0  0  0  0  0  0  0  0  0\\n    0.7362   -0.5981    1.2032 C   0  0  0  0  0  0  0  0  0  0  0  0\\n    0.4684    2.1737    0.2697 H   0  0  0  0  0  0  0  0  0  0  0  0\\n   -0.8083    1.8435   -0.9188 H   0  0  0  0  0  0  0  0  0  0  0  0\\n   -1.1500    1.7443    0.8146 H   0  0  0  0  0  0  0  0  0  0  0  0\\n   -0.9165   -0.5285   -0.1922 H   0  0  0  0  0  0  0  0  0  0  0  0\\n    0.8906   -1.0186   -1.7402 H   0  0  0  0  0  0  0  0  0  0  0  0\\n    1.8104    0.4069   -1.2160 H   0  0  0  0  0  0  0  0  0  0  0  0\\n    3.5919   -1.1762    1.3834 H   0  0  0  0  0  0  0  0  0  0  0  0\\n    3.4046    0.2150    0.2887 H   0  0  0  0  0  0  0  0  0  0  0  0\\n    1.2517    0.1944    4.0672 H   0  0  0  0  0  0  0  0  0  0  0  0\\n    3.0595    0.2368    3.7793 H   0  0  0  0  0  0  0  0  0  0  0  0\\n    2.7080    1.9772    2.2335 H   0  0  0  0  0  0  0  0  0  0  0  0\\n    0.1578   -1.2834    1.8310 H   0  0  0  0  0  0  0  0  0  0  0  0\\n  1  2  1  0\\n  1 10  1  0\\n  1 11  1  0\\n  1 12  1  0\\n  2  3  1  0\\n  2  9  1  0\\n  2 13  1  0\\n  3  4  1  0\\n  3 14  1  0\\n  3 15  1  0\\n  4  5  1  0\\n  4  9  1  0\\n  5  6  1  0\\n  5 16  1  0\\n  5 17  1  0\\n  6  7  1  0\\n  6  8  1  0\\n  6  9  1  0\\n  7  8  1  0\\n  7 18  1  0\\n  7 19  1  0\\n  8 20  1  0\\n  9 21  1  0\\nM  END\\n\",\"mol\");\n",
       "\tviewer_1739880290272685.setStyle({\"stick\": {}, \"sphere\": {\"scale\": 0.3}});\n",
       "\tviewer_1739880290272685.zoomTo();\n",
       "viewer_1739880290272685.render();\n",
       "});\n",
       "</script>"
      ]
     },
     "metadata": {},
     "output_type": "display_data"
    }
   ],
   "source": [
    "def show_mol(index):\n",
    "    import py3Dmol\n",
    "\n",
    "    pdb_block = Chem.MolToMolBlock(qm9_rdkit_mols[index])\n",
    "\n",
    "    # Visualize using py3Dmol\n",
    "    viewer = py3Dmol.view(width=250, height=250)\n",
    "    viewer.addModel(pdb_block, \"mol\")\n",
    "    viewer.setStyle({\"stick\": {}, \"sphere\": {\"scale\": 0.3}})\n",
    "    viewer.zoomTo()\n",
    "    viewer.show()\n",
    "\n",
    "show_mol(50)"
   ]
  },
  {
   "cell_type": "markdown",
   "metadata": {},
   "source": [
    "#### Sampling"
   ]
  },
  {
   "cell_type": "code",
   "execution_count": 10,
   "metadata": {},
   "outputs": [],
   "source": [
    "import flowmol"
   ]
  },
  {
   "cell_type": "code",
   "execution_count": 11,
   "metadata": {},
   "outputs": [
    {
     "data": {
      "text/plain": [
       "FlowMol(\n",
       "  (interpolant_scheduler): InterpolantScheduler()\n",
       "  (vector_field): CTMCVectorField(\n",
       "    (interpolant_scheduler): InterpolantScheduler()\n",
       "    (scalar_embedding): Sequential(\n",
       "      (0): Linear(in_features=14, out_features=256, bias=True)\n",
       "      (1): SiLU()\n",
       "      (2): Linear(in_features=256, out_features=256, bias=True)\n",
       "      (3): SiLU()\n",
       "      (4): LayerNorm((256,), eps=1e-05, elementwise_affine=True)\n",
       "    )\n",
       "    (edge_embedding): Sequential(\n",
       "      (0): Linear(in_features=6, out_features=128, bias=True)\n",
       "      (1): SiLU()\n",
       "      (2): Linear(in_features=128, out_features=128, bias=True)\n",
       "      (3): SiLU()\n",
       "      (4): LayerNorm((128,), eps=1e-05, elementwise_affine=True)\n",
       "    )\n",
       "    (conv_layers): ModuleList(\n",
       "      (0-7): 8 x GVPConv(\n",
       "        (edge_message): Sequential(\n",
       "          (0): GVP(\n",
       "            (vectors_activation): Sigmoid()\n",
       "            (to_feats_out): Sequential(\n",
       "              (0): Linear(in_features=437, out_features=256, bias=True)\n",
       "              (1): SiLU()\n",
       "            )\n",
       "            (scalar_to_vector_gates): Linear(in_features=256, out_features=16, bias=True)\n",
       "          )\n",
       "          (1): GVP(\n",
       "            (vectors_activation): Sigmoid()\n",
       "            (to_feats_out): Sequential(\n",
       "              (0): Linear(in_features=276, out_features=256, bias=True)\n",
       "              (1): SiLU()\n",
       "            )\n",
       "            (scalar_to_vector_gates): Linear(in_features=256, out_features=16, bias=True)\n",
       "          )\n",
       "          (2): GVP(\n",
       "            (vectors_activation): Sigmoid()\n",
       "            (to_feats_out): Sequential(\n",
       "              (0): Linear(in_features=276, out_features=256, bias=True)\n",
       "              (1): SiLU()\n",
       "            )\n",
       "            (scalar_to_vector_gates): Linear(in_features=256, out_features=16, bias=True)\n",
       "          )\n",
       "        )\n",
       "        (node_update): Sequential(\n",
       "          (0): GVP(\n",
       "            (vectors_activation): Sigmoid()\n",
       "            (to_feats_out): Sequential(\n",
       "              (0): Linear(in_features=276, out_features=256, bias=True)\n",
       "              (1): SiLU()\n",
       "            )\n",
       "            (scalar_to_vector_gates): Linear(in_features=256, out_features=16, bias=True)\n",
       "          )\n",
       "          (1): GVP(\n",
       "            (vectors_activation): Sigmoid()\n",
       "            (to_feats_out): Sequential(\n",
       "              (0): Linear(in_features=276, out_features=256, bias=True)\n",
       "              (1): SiLU()\n",
       "            )\n",
       "            (scalar_to_vector_gates): Linear(in_features=256, out_features=16, bias=True)\n",
       "          )\n",
       "          (2): GVP(\n",
       "            (vectors_activation): Sigmoid()\n",
       "            (to_feats_out): Sequential(\n",
       "              (0): Linear(in_features=276, out_features=256, bias=True)\n",
       "              (1): SiLU()\n",
       "            )\n",
       "            (scalar_to_vector_gates): Linear(in_features=256, out_features=16, bias=True)\n",
       "          )\n",
       "        )\n",
       "        (dropout): GVPDropout(\n",
       "          (vector_dropout): _VDropout()\n",
       "          (feat_dropout): Dropout(p=0.0, inplace=False)\n",
       "        )\n",
       "        (message_layer_norm): GVPLayerNorm(\n",
       "          (feat_norm): LayerNorm((256,), eps=1e-05, elementwise_affine=True)\n",
       "        )\n",
       "        (update_layer_norm): GVPLayerNorm(\n",
       "          (feat_norm): LayerNorm((256,), eps=1e-05, elementwise_affine=True)\n",
       "        )\n",
       "      )\n",
       "    )\n",
       "    (node_position_updaters): ModuleList(\n",
       "      (0-7): 8 x NodePositionUpdate(\n",
       "        (gvps): Sequential(\n",
       "          (0): GVP(\n",
       "            (vectors_activation): Sigmoid()\n",
       "            (to_feats_out): Sequential(\n",
       "              (0): Linear(in_features=276, out_features=256, bias=True)\n",
       "              (1): SiLU()\n",
       "            )\n",
       "            (scalar_to_vector_gates): Linear(in_features=256, out_features=16, bias=True)\n",
       "          )\n",
       "          (1): GVP(\n",
       "            (vectors_activation): Sigmoid()\n",
       "            (to_feats_out): Sequential(\n",
       "              (0): Linear(in_features=276, out_features=256, bias=True)\n",
       "              (1): SiLU()\n",
       "            )\n",
       "            (scalar_to_vector_gates): Linear(in_features=256, out_features=16, bias=True)\n",
       "          )\n",
       "          (2): GVP(\n",
       "            (vectors_activation): Identity()\n",
       "            (to_feats_out): Sequential(\n",
       "              (0): Linear(in_features=276, out_features=256, bias=True)\n",
       "              (1): SiLU()\n",
       "            )\n",
       "            (scalar_to_vector_gates): Linear(in_features=256, out_features=1, bias=True)\n",
       "          )\n",
       "        )\n",
       "      )\n",
       "    )\n",
       "    (edge_updaters): ModuleList(\n",
       "      (0-7): 8 x EdgeUpdate(\n",
       "        (edge_update_fn): Sequential(\n",
       "          (0): Linear(in_features=672, out_features=128, bias=True)\n",
       "          (1): SiLU()\n",
       "          (2): Linear(in_features=128, out_features=128, bias=True)\n",
       "          (3): SiLU()\n",
       "        )\n",
       "        (edge_norm): LayerNorm((128,), eps=1e-05, elementwise_affine=True)\n",
       "      )\n",
       "    )\n",
       "    (node_output_head): Sequential(\n",
       "      (0): Linear(in_features=256, out_features=256, bias=True)\n",
       "      (1): SiLU()\n",
       "      (2): Linear(in_features=256, out_features=11, bias=True)\n",
       "    )\n",
       "    (to_edge_logits): Sequential(\n",
       "      (0): Linear(in_features=128, out_features=128, bias=True)\n",
       "      (1): SiLU()\n",
       "      (2): Linear(in_features=128, out_features=5, bias=True)\n",
       "    )\n",
       "  )\n",
       ")"
      ]
     },
     "execution_count": 11,
     "metadata": {},
     "output_type": "execute_result"
    }
   ],
   "source": [
    "model = flowmol.load_pretrained(args['model'])\n",
    "model = model.to(args['device'])\n",
    "model.eval()"
   ]
  },
  {
   "cell_type": "code",
   "execution_count": null,
   "metadata": {},
   "outputs": [],
   "source": [
    "print(f\"Sampling {args['n_molecules']} molecules...\")\n",
    "generated_molecules = model.sample_random_sizes(n_molecules=args['n_molecules'], n_timesteps=args['n_timesteps'], device=args['device'])"
   ]
  },
  {
   "cell_type": "code",
   "execution_count": null,
   "metadata": {},
   "outputs": [],
   "source": [
    "gen_rdkit_molecules = []\n",
    "gen_smiles = []\n",
    "for mol in generated_molecules:\n",
    "    gen_rdkit_molecules.append(mol.rdkit_mol)\n",
    "    gen_smiles.append(mol.smiles)"
   ]
  },
  {
   "cell_type": "markdown",
   "metadata": {},
   "source": [
    "#### XTB Simulation"
   ]
  },
  {
   "cell_type": "code",
   "execution_count": 12,
   "metadata": {},
   "outputs": [],
   "source": [
    "from true_reward import xtb_simulation"
   ]
  },
  {
   "cell_type": "code",
   "execution_count": null,
   "metadata": {},
   "outputs": [],
   "source": [
    "#  Calculate the true reward\n",
    "for mol in qm9_data[:10]:\n",
    "    quantity_value = xtb_simulation.compute_true_reward(mol, \"pyg\", \"homolumo\")\n",
    "    homolumo_gap, lumo, homo = quantity_value\n",
    "    print(f\"HOMO-LUMO gap: {homolumo_gap:.4f} eV\")\n",
    "    print(f\"LUMO: {lumo} eV\\nHOMO: {homo} eV\")"
   ]
  },
  {
   "cell_type": "code",
   "execution_count": null,
   "metadata": {},
   "outputs": [],
   "source": [
    "#  Calculate the true reward\n",
    "for mol in generated_molecules:\n",
    "    quantity_value = xtb_simulation.compute_true_reward(mol.g, \"dgl\", \"homolumo\")\n",
    "    homolumo_gap, lumo, homo = quantity_value\n",
    "    print(f\"HOMO-LUMO gap: {homolumo_gap:.6f} eV\")\n",
    "    print(f\"LUMO: {lumo} eV\\nHOMO: {homo} eV\")"
   ]
  },
  {
   "cell_type": "markdown",
   "metadata": {},
   "source": [
    "#### Compare 1000 Molecules wrt there Homolumo Energy"
   ]
  },
  {
   "cell_type": "code",
   "execution_count": null,
   "metadata": {},
   "outputs": [],
   "source": [
    "## Run-Time ca. 1m40 / 1000 mol\n",
    "\n",
    "qm9_gap_pyg = []\n",
    "qm9_homo_lumo_pyg = []\n",
    "for mol in qm9_data:\n",
    "    quantity_value = xtb_simulation.compute_true_reward(mol, \"pyg\", \"homolumo\")\n",
    "    gap, lumo, homo = quantity_value\n",
    "    qm9_gap_pyg.append(gap)\n",
    "    qm9_homo_lumo_pyg.append((lumo, homo))\n",
    "\n",
    "qm9_gap_pyg = np.array(qm9_gap_pyg)\n",
    "qm9_homo_lumo_pyg = np.array(qm9_homo_lumo_pyg)"
   ]
  },
  {
   "cell_type": "code",
   "execution_count": null,
   "metadata": {},
   "outputs": [],
   "source": [
    "## Run-Time ca. 1m44 / 1000 mol \n",
    "\n",
    "qm9_gap_rd = []\n",
    "qm9_homo_lumo_rd = []\n",
    "for mol in qm9_rdkit_mols:\n",
    "    quantity_value = xtb_simulation.compute_true_reward(mol, \"rdkit\", \"homolumo\")\n",
    "    gap, lumo, homo = quantity_value\n",
    "    qm9_gap_rd.append(gap)\n",
    "    qm9_homo_lumo_rd.append((lumo, homo))\n",
    "\n",
    "qm9_gap_rd = np.array(qm9_gap_rd)\n",
    "qm9_homo_lumo_rd = np.array(qm9_homo_lumo_rd)"
   ]
  },
  {
   "cell_type": "code",
   "execution_count": null,
   "metadata": {},
   "outputs": [],
   "source": [
    "from datetime import datetime\n",
    "current_time = datetime.now().strftime('%Y%m%d%H')\n",
    "np.save(f\"output/qm9_gap_pyg_{current_time}.npy\", qm9_gap_pyg)\n",
    "np.save(f\"output/qm9_homo_lumo_pyg_{current_time}.npy\", qm9_homo_lumo_pyg)\n",
    "np.save(f\"output/qm9_gap_rd_{current_time}.npy\", qm9_gap_rd)\n",
    "np.save(f\"output/qm9_homo_lumo_rd_{current_time}.npy\", qm9_homo_lumo_rd)"
   ]
  },
  {
   "cell_type": "code",
   "execution_count": 21,
   "metadata": {},
   "outputs": [],
   "source": [
    "args['n_molecules'] = 25"
   ]
  },
  {
   "cell_type": "code",
   "execution_count": 33,
   "metadata": {},
   "outputs": [
    {
     "name": "stdout",
     "output_type": "stream",
     "text": [
      "Round 1 - Sampling 25 molecules...\n",
      "Round 2 - Sampling 25 molecules...\n",
      "Round 3 - Sampling 25 molecules...\n",
      "Round 4 - Sampling 25 molecules...\n",
      "Round 5 - Sampling 25 molecules...\n",
      "Round 6 - Sampling 25 molecules...\n",
      "Round 7 - Sampling 25 molecules...\n",
      "Round 8 - Sampling 25 molecules...\n",
      "Round 9 - Sampling 25 molecules...\n",
      "Round 10 - Sampling 25 molecules...\n",
      "Round 11 - Sampling 25 molecules...\n",
      "Round 12 - Sampling 25 molecules...\n",
      "Round 13 - Sampling 25 molecules...\n",
      "Round 14 - Sampling 25 molecules...\n",
      "Round 15 - Sampling 25 molecules...\n",
      "Round 16 - Sampling 25 molecules...\n",
      "Round 17 - Sampling 25 molecules...\n",
      "Round 18 - Sampling 25 molecules...\n",
      "Round 19 - Sampling 25 molecules...\n",
      "Round 20 - Sampling 25 molecules...\n",
      "Round 21 - Sampling 25 molecules...\n"
     ]
    },
    {
     "name": "stderr",
     "output_type": "stream",
     "text": [
      "rm: charges: No such file or directory\n",
      "rm: wbo: No such file or directory\n",
      "rm: xtbrestart: No such file or directory\n",
      "rm: xtbtopo.mol: No such file or directory\n"
     ]
    },
    {
     "name": "stdout",
     "output_type": "stream",
     "text": [
      "Round 22 - Sampling 25 molecules...\n",
      "Round 23 - Sampling 25 molecules...\n",
      "Round 24 - Sampling 25 molecules...\n",
      "Round 25 - Sampling 25 molecules...\n",
      "Round 26 - Sampling 25 molecules...\n",
      "Round 27 - Sampling 25 molecules...\n",
      "Round 28 - Sampling 25 molecules...\n",
      "Round 29 - Sampling 25 molecules...\n",
      "Round 30 - Sampling 25 molecules...\n",
      "Round 31 - Sampling 25 molecules...\n",
      "Round 32 - Sampling 25 molecules...\n",
      "Round 33 - Sampling 25 molecules...\n"
     ]
    },
    {
     "name": "stderr",
     "output_type": "stream",
     "text": [
      "rm: charges: No such file or directory\n",
      "rm: wbo: No such file or directory\n",
      "rm: xtbrestart: No such file or directory\n",
      "rm: xtbtopo.mol: No such file or directory\n"
     ]
    },
    {
     "name": "stdout",
     "output_type": "stream",
     "text": [
      "Round 34 - Sampling 25 molecules...\n",
      "Round 35 - Sampling 25 molecules...\n",
      "Round 36 - Sampling 25 molecules...\n"
     ]
    },
    {
     "name": "stderr",
     "output_type": "stream",
     "text": [
      "rm: charges: No such file or directory\n",
      "rm: wbo: No such file or directory\n",
      "rm: xtbrestart: No such file or directory\n",
      "rm: xtbtopo.mol: No such file or directory\n"
     ]
    },
    {
     "name": "stdout",
     "output_type": "stream",
     "text": [
      "Round 37 - Sampling 25 molecules...\n",
      "Round 38 - Sampling 25 molecules...\n",
      "Round 39 - Sampling 25 molecules...\n",
      "Round 40 - Sampling 25 molecules...\n"
     ]
    }
   ],
   "source": [
    "gen_gap_dgl = []\n",
    "gen_homo_lumo_dgl = []\n",
    "gen_gap_rd = []\n",
    "gen_homo_lumo_rd = []\n",
    "for i in range(40):\n",
    "    print(f\"Round {i+1} - Sampling {args['n_molecules']} molecules...\")\n",
    "    tmp_molecules = model.sample_random_sizes(n_molecules=args['n_molecules'], n_timesteps=args['n_timesteps'], device=args['device'])\n",
    "    for mol in tmp_molecules:\n",
    "        quantity_value = xtb_simulation.compute_true_reward(mol.g, \"dgl\", \"homolumo\")\n",
    "        gap, lumo, homo = quantity_value\n",
    "        gen_gap_dgl.append(gap)\n",
    "        gen_homo_lumo_dgl.append((lumo, homo))\n",
    "        quantity_value = xtb_simulation.compute_true_reward(mol.rdkit_mol, \"rdkit\", \"homolumo\")\n",
    "        gap, lumo, homo = quantity_value\n",
    "        gen_gap_rd.append(gap)\n",
    "        gen_homo_lumo_rd.append((lumo, homo))"
   ]
  },
  {
   "cell_type": "code",
   "execution_count": 34,
   "metadata": {},
   "outputs": [],
   "source": [
    "np.save(f\"output/gen_gap_dgl_{current_time}.npy\", gen_gap_dgl)\n",
    "np.save(f\"output/gen_homo_lumo_pgy_{current_time}.npy\", gen_homo_lumo_dgl)\n",
    "np.save(f\"output/gen_gap_rd_{current_time}.npy\", gen_gap_rd)\n",
    "np.save(f\"output/gen_homo_lumo_rd_{current_time}.npy\", gen_homo_lumo_rd)"
   ]
  },
  {
   "cell_type": "code",
   "execution_count": null,
   "metadata": {},
   "outputs": [],
   "source": [
    "gen_gap_dgl = np.load(f\"output/gen_gap_dgl_{current_time}.npy\") \n",
    "gen_gap_rd = np.load(f\"output/gen_gap_rd_{current_time}.npy\") \n",
    "qm9_gap_rdqm9_gap_pyg = np.load(f\"output/qm9_gap_pgy_{current_time}.npy\")\n",
    "qm9_gap_rd = np.load(f\"output/qm9_gap_rd_{current_time}.npy\")"
   ]
  },
  {
   "cell_type": "code",
   "execution_count": 37,
   "metadata": {},
   "outputs": [
    {
     "data": {
      "image/png": "[encoded data removed]",
      "text/plain": [
       "<Figure size 2000x500 with 4 Axes>"
      ]
     },
     "metadata": {},
     "output_type": "display_data"
    }
   ],
   "source": [
    "import numpy as np\n",
    "import matplotlib.pyplot as plt\n",
    "\n",
    "# Define the number of bins (adjustable)\n",
    "num_bins = 30\n",
    "\n",
    "# Create the figure and axes for 3 subplots\n",
    "fig, ax = plt.subplots(1, 4, figsize=(20, 5), sharey=True, sharex=True)  # 1 row, 3 columns\n",
    "\n",
    "ax[0].hist(gen_gap_dgl, bins=num_bins, alpha=0.7, color='blue', edgecolor='black')\n",
    "ax[0].set_title('Generated Mols (DGL)')\n",
    "tmp = np.mean(gen_gap_dgl)\n",
    "ax[0].set_xlabel(f'Value / Mean: {tmp:.4f}')\n",
    "ax[0].set_ylabel('Frequency')\n",
    "\n",
    "ax[1].hist(gen_gap_rd, bins=num_bins, alpha=0.7, color='blue', edgecolor='black')\n",
    "ax[1].set_title('Generated Mols (RD)')\n",
    "tmp = np.mean(gen_gap_rd)\n",
    "ax[1].set_xlabel(f'Value / Mean: {tmp:.4f}')\n",
    "\n",
    "ax[2].hist(qm9_gap_pyg, bins=num_bins, alpha=0.7, color='red', edgecolor='black')\n",
    "ax[2].set_title('QM9 Mols (PyG)')\n",
    "tmp = np.mean(qm9_gap_pyg)\n",
    "ax[2].set_xlabel(f'Value / Mean: {tmp:.4f}')\n",
    "\n",
    "ax[3].hist(qm9_gap_rd, bins=num_bins, alpha=0.7, color='red', edgecolor='black')\n",
    "ax[3].set_title('QM9 Mols (RD)')\n",
    "tmp = np.mean(qm9_gap_rd)\n",
    "ax[3].set_xlabel(f'Value / Mean: {tmp:.4f}')\n",
    "\n",
    "# Plot both histograms with overlay\n",
    "# ax[2].hist(gen_gap, bins=num_bins, alpha=0.7, color='blue', label='Gen', edgecolor='black')\n",
    "# ax[2].hist(qm9_gap, bins=num_bins, alpha=0.7, color='red', label='qm9', edgecolor='black')\n",
    "# ax[2].set_title('Overlaid Histograms')\n",
    "# ax[2].set_xlabel('Value')\n",
    "# ax[2].legend()\n",
    "\n",
    "# Adjust layout for better spacing\n",
    "plt.tight_layout()\n",
    "plt.show()"
   ]
  },
  {
   "cell_type": "markdown",
   "metadata": {},
   "source": [
    "#### Differentiable Reward"
   ]
  },
  {
   "cell_type": "code",
   "execution_count": null,
   "metadata": {},
   "outputs": [],
   "source": [
    "from PAMNet.models import PAMNet_s, Config"
   ]
  },
  {
   "cell_type": "code",
   "execution_count": null,
   "metadata": {},
   "outputs": [],
   "source": [
    "config = Config(dataset=args['dataset'], dim=args['dim'], n_layer=args['n_layer'], cutoff_l=args['cutoff_l'], cutoff_g=args['cutoff_g'])\n",
    "reward_model = PAMNet_s(config).to(args['device'])\n",
    "reward_model.eval()"
   ]
  },
  {
   "cell_type": "code",
   "execution_count": null,
   "metadata": {},
   "outputs": [],
   "source": [
    "targets = []\n",
    "for data in generated_molecules:\n",
    "    data = data.pyg_mol\n",
    "    data.pos.requires_grad_()\n",
    "    tmp = reward_model(data)\n",
    "    targets.append(tmp)\n",
    "    tmp.backward()\n",
    "    pos_grad = data.pos.grad\n",
    "print(len(targets))\n",
    "print(data.pos.shape)\n",
    "print(pos_grad.shape)"
   ]
  },
  {
   "cell_type": "markdown",
   "metadata": {},
   "source": [
    "#### Visualize the Molecules"
   ]
  },
  {
   "cell_type": "code",
   "execution_count": null,
   "metadata": {},
   "outputs": [],
   "source": [
    "import py3Dmol"
   ]
  },
  {
   "cell_type": "code",
   "execution_count": null,
   "metadata": {},
   "outputs": [],
   "source": [
    "# Convert RDKit Mol to PDB block\n",
    "pdb_blocks = []\n",
    "for mol in gen_rdkit_molecules:\n",
    "    pdb_blocks.append(Chem.MolToMolBlock(mol))\n",
    "\n",
    "# Visualize using py3Dmol\n",
    "viewer = py3Dmol.view(width=600, height=600, viewergrid=(3, 3))\n",
    "viewer.addModel(pdb_blocks[0], \"mol\", viewer=(0, 0))\n",
    "viewer.addModel(pdb_blocks[1], \"mol\", viewer=(0, 1))\n",
    "viewer.addModel(pdb_blocks[2], \"mol\", viewer=(0, 2))\n",
    "viewer.addModel(pdb_blocks[3], \"mol\", viewer=(1, 0))\n",
    "viewer.addModel(pdb_blocks[4], \"mol\", viewer=(1, 1))\n",
    "viewer.addModel(pdb_blocks[5], \"mol\", viewer=(1, 2))\n",
    "viewer.addModel(pdb_blocks[6], \"mol\", viewer=(2, 0))\n",
    "viewer.addModel(pdb_blocks[7], \"mol\", viewer=(2, 1))\n",
    "viewer.addModel(pdb_blocks[8], \"mol\", viewer=(2, 2))\n",
    "viewer.setStyle({\"stick\": {}, \"sphere\": {\"scale\": 0.3}})\n",
    "viewer.zoomTo()\n",
    "viewer.show()"
   ]
  },
  {
   "cell_type": "code",
   "execution_count": null,
   "metadata": {},
   "outputs": [],
   "source": []
  }
 ],
 "metadata": {
  "kernelspec": {
   "display_name": "deep",
   "language": "python",
   "name": "python3"
  },
  "language_info": {
   "codemirror_mode": {
    "name": "ipython",
    "version": 3
   },
   "file_extension": ".py",
   "mimetype": "text/x-python",
   "name": "python",
   "nbconvert_exporter": "python",
   "pygments_lexer": "ipython3",
   "version": "3.9.21"
  }
 },
 "nbformat": 4,
 "nbformat_minor": 2
}

{
 "cells": [
  {
   "cell_type": "markdown",
   "metadata": {},
   "source": [
    "#### Arguments"
   ]
  },
  {
   "cell_type": "code",
   "execution_count": null,
   "metadata": {},
   "outputs": [],
   "source": [
    "args = {\n",
    "    # General\n",
    "    'seed': 42,\n",
    "    'device': 'cpu',\n",
    "    'root_dir': '/Users/svlg/MasterThesis/v02',\n",
    "\n",
    "    # FlowMol\n",
    "    'model': 'qm9_ctmc',\n",
    "    'n_molecules': 2,\n",
    "    'n_timesteps': 50,\n",
    "\n",
    "    # Reward model\n",
    "    'reward_model': 'PAMNet_s',\n",
    "    'n_layer': 6,\n",
    "    'dim': 128,\n",
    "    'target': 7,\n",
    "    'cutoff_l': 5.0,\n",
    "    'cutoff_g': 5.0,\n",
    "\n",
    "    # Data / Dataset\n",
    "    'dataset': 'QM9',\n",
    "    'data_path': '/data',\n",
    "    'batch_size': 2,\n",
    "}"
   ]
  },
  {
   "cell_type": "code",
   "execution_count": null,
   "metadata": {},
   "outputs": [],
   "source": [
    "import torch\n",
    "import numpy as np\n",
    "import random\n",
    "\n",
    "def set_seed(seed):\n",
    "    \"\"\"Seed all random generators.\"\"\"\n",
    "    torch.backends.cudnn.deterministic = True\n",
    "    torch.backends.cudnn.benchmark = False\n",
    "    torch.manual_seed(seed)\n",
    "    torch.cuda.manual_seed_all(seed)\n",
    "    np.random.seed(seed)\n",
    "    random.seed(seed)\n",
    "\n",
    "set_seed(args['seed'])"
   ]
  },
  {
   "cell_type": "markdown",
   "metadata": {},
   "source": [
    "#### Data"
   ]
  },
  {
   "cell_type": "code",
   "execution_count": null,
   "metadata": {},
   "outputs": [],
   "source": [
    "import os\n",
    "import os.path as osp\n",
    "from torch_geometric.loader import DataLoader\n",
    "from dataset.QM9 import QM9"
   ]
  },
  {
   "cell_type": "code",
   "execution_count": null,
   "metadata": {},
   "outputs": [],
   "source": [
    "data_root = osp.join(args['root_dir'] + args['data_path'])\n",
    "train_dataset = QM9(data_root)\n",
    "train_dataset.load(osp.join(data_root, 'qm9_train_data.pt'))\n",
    "train_loader = DataLoader(train_dataset, batch_size=args['batch_size'], shuffle=True)\n",
    "val_dataset = QM9(data_root)\n",
    "val_dataset.load(osp.join(data_root, 'qm9_val_data.pt'))\n",
    "val_loader = DataLoader(val_dataset, batch_size=args['batch_size'], shuffle=False)\n",
    "test_dataset = QM9(data_root)\n",
    "test_dataset.load(osp.join(data_root, 'qm9_test_data.pt'))\n",
    "test_loader = DataLoader(test_dataset, batch_size=args['batch_size'], shuffle=False)"
   ]
  },
  {
   "cell_type": "code",
   "execution_count": null,
   "metadata": {},
   "outputs": [],
   "source": [
    "for data in train_loader:\n",
    "    print(data)\n",
    "    break"
   ]
  },
  {
   "cell_type": "code",
   "execution_count": null,
   "metadata": {},
   "outputs": [],
   "source": [
    "from rdkit import Chem\n",
    "from rdkit.Geometry.rdGeometry import Point3D\n",
    "bond_type_map = [Chem.rdchem.BondType.SINGLE, \n",
    "                 Chem.rdchem.BondType.DOUBLE, \n",
    "                 Chem.rdchem.BondType.TRIPLE,\n",
    "                 Chem.rdchem.BondType.AROMATIC, \n",
    "                 None] # last bond type is for masked bonds"
   ]
  },
  {
   "cell_type": "code",
   "execution_count": null,
   "metadata": {},
   "outputs": [],
   "source": [
    "def pyg_to_rdmol(positions, atom_types, bond_src_idxs, bond_dst_idxs, bond_types):\n",
    "    \"\"\"Builds a rdkit molecule from the given atom and bond information.\"\"\"\n",
    "    # create a rdkit molecule and add atoms to it\n",
    "    mol = Chem.RWMol()\n",
    "    for atom_type in atom_types:\n",
    "        a = Chem.Atom(int(atom_type))\n",
    "        mol.AddAtom(a)\n",
    "\n",
    "    # add bonds to rdkit molecule\n",
    "    visited = set()\n",
    "    for bond_type, src_idx, dst_idx in zip(bond_types, bond_src_idxs, bond_dst_idxs):\n",
    "        src_idx = int(src_idx)\n",
    "        dst_idx = int(dst_idx)\n",
    "        if (src_idx, dst_idx) in visited or (dst_idx, src_idx) in visited:\n",
    "            continue\n",
    "        mol.AddBond(src_idx, dst_idx, bond_type_map[bond_type])\n",
    "        visited.add((src_idx, dst_idx))\n",
    "\n",
    "    try:\n",
    "        mol = mol.GetMol()\n",
    "    except Chem.KekulizeException:\n",
    "        return None\n",
    "\n",
    "    # Set coordinates\n",
    "    conf = Chem.Conformer(mol.GetNumAtoms())\n",
    "    for i in range(mol.GetNumAtoms()):\n",
    "        x, y, z = positions[i]\n",
    "        x, y, z = float(x), float(y), float(z)\n",
    "        conf.SetAtomPosition(i, Point3D(x,y,z))\n",
    "    mol.AddConformer(conf)\n",
    "\n",
    "    # SMILES = Chem.MolToSmiles(mol)\n",
    "\n",
    "    return mol"
   ]
  },
  {
   "cell_type": "markdown",
   "metadata": {},
   "source": [
    "#### Sampling"
   ]
  },
  {
   "cell_type": "code",
   "execution_count": null,
   "metadata": {},
   "outputs": [],
   "source": [
    "import flowmol"
   ]
  },
  {
   "cell_type": "code",
   "execution_count": null,
   "metadata": {},
   "outputs": [],
   "source": [
    "model = flowmol.load_pretrained(args['model'])\n",
    "model = model.to(args['device'])\n",
    "model.eval()"
   ]
  },
  {
   "cell_type": "code",
   "execution_count": null,
   "metadata": {},
   "outputs": [],
   "source": [
    "print(f\"Sampling {args['n_molecules']} molecules...\")\n",
    "sampled_molecules = model.sample_random_sizes(n_molecules=args['n_molecules'], n_timesteps=args['n_timesteps'], device=args['device'])"
   ]
  },
  {
   "cell_type": "code",
   "execution_count": null,
   "metadata": {},
   "outputs": [],
   "source": [
    "# Create dict with SMILES and pgy objects\n",
    "rdkit_molecules = []\n",
    "smiles_molecules = []\n",
    "pgy_molecules = []\n",
    "dgl_molecules = []\n",
    "for mol in sampled_molecules:\n",
    "    smiles_molecules.append(mol.smiles)\n",
    "    pgy_molecules.append(mol.pyg_mol)\n",
    "    rdkit_molecules.append(mol.rdkit_mol)\n",
    "    dgl_molecules.append(mol.g)"
   ]
  },
  {
   "cell_type": "code",
   "execution_count": null,
   "metadata": {},
   "outputs": [],
   "source": [
    "for mol in smiles_molecules:\n",
    "    print(mol)"
   ]
  },
  {
   "cell_type": "markdown",
   "metadata": {},
   "source": [
    "#### SA Score"
   ]
  },
  {
   "cell_type": "code",
   "execution_count": null,
   "metadata": {},
   "outputs": [],
   "source": [
    "from molscore.scoring_functions.SA_Score import sascorer\n",
    "from rdkit import Chem"
   ]
  },
  {
   "cell_type": "code",
   "execution_count": null,
   "metadata": {},
   "outputs": [],
   "source": [
    "sa_scores = []\n",
    "for tmp in rdkit_molecules:\n",
    "    Chem.GetSSSR(tmp)\n",
    "    Chem.SanitizeMol(tmp)\n",
    "    score = sascorer.calculateScore(tmp)\n",
    "    sa_scores.append(score)\n",
    "\n",
    "print(sa_scores)"
   ]
  },
  {
   "cell_type": "markdown",
   "metadata": {},
   "source": [
    "#### AiZynthFinder"
   ]
  },
  {
   "cell_type": "code",
   "execution_count": null,
   "metadata": {},
   "outputs": [],
   "source": [
    "from molscore.scoring_functions.aizynthfinder import AiZynthFinder"
   ]
  },
  {
   "cell_type": "code",
   "execution_count": null,
   "metadata": {},
   "outputs": [],
   "source": [
    "aizynthfinder = AiZynthFinder(filter_policy=None)"
   ]
  },
  {
   "cell_type": "code",
   "execution_count": null,
   "metadata": {},
   "outputs": [],
   "source": [
    "results = aizynthfinder(smiles_molecules, directory='ai_finder_results')\n",
    "results"
   ]
  },
  {
   "cell_type": "code",
   "execution_count": null,
   "metadata": {},
   "outputs": [],
   "source": [
    "import json\n",
    "import pandas as pd\n",
    "\n",
    "# Open and read the JSON file\n",
    "with open('/Users/svlg/MasterThesis/v02/ai_finder_results/aizynth_out.json', 'r') as file:\n",
    "    f = json.load(file)\n",
    "\n",
    "# Extract schema and data\n",
    "schema = f[\"schema\"]\n",
    "data = f[\"data\"]\n",
    "\n",
    "# Create a DataFrame\n",
    "df = pd.DataFrame(data)\n",
    "\n",
    "type_mapping = {\n",
    "    \"integer\": \"int64\",\n",
    "    \"number\": \"float64\",\n",
    "    \"string\": \"object\",\n",
    "    \"boolean\": \"bool\"\n",
    "}\n",
    "\n",
    "for field in schema[\"fields\"]:\n",
    "    column_name = field[\"name\"]\n",
    "    column_type = field[\"type\"]\n",
    "    if column_type in type_mapping:\n",
    "        df[column_name] = df[column_name].astype(type_mapping[column_type])\n",
    "\n",
    "df.set_index(schema[\"primaryKey\"], inplace=True)\n",
    "df"
   ]
  },
  {
   "cell_type": "markdown",
   "metadata": {},
   "source": [
    "#### FS-Score"
   ]
  },
  {
   "cell_type": "code",
   "execution_count": null,
   "metadata": {},
   "outputs": [],
   "source": [
    "from fsscore.score import Scorer\n",
    "from fsscore.models.ranknet import LitRankNet"
   ]
  },
  {
   "cell_type": "code",
   "execution_count": null,
   "metadata": {},
   "outputs": [],
   "source": [
    "PRETRAIN_MODEL_PATH = \"/Users/svlg/MasterThesis/v02/pretrained_models/FSscore/pretrain_graph_GGLGGL_ep242_best_valloss.ckpt\"\n",
    "model = LitRankNet.load_from_checkpoint(PRETRAIN_MODEL_PATH)\n",
    "model.to(args['device'])\n",
    "model.eval()\n",
    "scorer = Scorer(model=model, device=args['device'])"
   ]
  },
  {
   "cell_type": "code",
   "execution_count": null,
   "metadata": {},
   "outputs": [],
   "source": [
    "scores = scorer.score(smiles_molecules)\n",
    "scores"
   ]
  },
  {
   "cell_type": "markdown",
   "metadata": {},
   "source": [
    "#### RA-Score"
   ]
  },
  {
   "cell_type": "code",
   "execution_count": null,
   "metadata": {},
   "outputs": [],
   "source": [
    "from molscore.scoring_functions.rascore_xgb import RAScore_XGB\n",
    "# import requests"
   ]
  },
  {
   "cell_type": "code",
   "execution_count": null,
   "metadata": {},
   "outputs": [],
   "source": [
    "ra_scorer = RAScore_XGB(model = \"GDB\")"
   ]
  },
  {
   "cell_type": "code",
   "execution_count": null,
   "metadata": {},
   "outputs": [],
   "source": [
    "ra_scores = ra_scorer.send_smiles_to_server(smiles_molecules)\n",
    "ra_scores"
   ]
  },
  {
   "cell_type": "markdown",
   "metadata": {},
   "source": [
    "#### Full MolScore"
   ]
  },
  {
   "cell_type": "code",
   "execution_count": null,
   "metadata": {},
   "outputs": [],
   "source": [
    "from molscore import MolScore"
   ]
  },
  {
   "cell_type": "code",
   "execution_count": null,
   "metadata": {},
   "outputs": [],
   "source": [
    "# Calculate the constraints\n",
    "constraints_mol_scores = MolScore(model_name='RAscore', task_config=\"/Users/svlg/MasterThesis/v02/RAscorer.json\").score(smiles_molecules)"
   ]
  },
  {
   "cell_type": "markdown",
   "metadata": {},
   "source": [
    "#### PoseBuster"
   ]
  },
  {
   "cell_type": "code",
   "execution_count": null,
   "metadata": {},
   "outputs": [],
   "source": [
    "from posebusters import PoseBusters"
   ]
  },
  {
   "cell_type": "code",
   "execution_count": null,
   "metadata": {},
   "outputs": [],
   "source": [
    "buster = PoseBusters(config=\"mol\")\n",
    "df = buster.bust(rdkit_molecules, None, None, full_report=True)\n",
    "df"
   ]
  },
  {
   "cell_type": "code",
   "execution_count": null,
   "metadata": {},
   "outputs": [],
   "source": [
    "df.columns"
   ]
  },
  {
   "cell_type": "code",
   "execution_count": null,
   "metadata": {},
   "outputs": [],
   "source": [
    "df.iloc[0]"
   ]
  },
  {
   "cell_type": "code",
   "execution_count": null,
   "metadata": {},
   "outputs": [],
   "source": []
  },
  {
   "cell_type": "markdown",
   "metadata": {},
   "source": [
    "#### XTB Simulation"
   ]
  },
  {
   "cell_type": "code",
   "execution_count": null,
   "metadata": {},
   "outputs": [],
   "source": [
    "from true_reward import xtb_simulation"
   ]
  },
  {
   "cell_type": "code",
   "execution_count": null,
   "metadata": {},
   "outputs": [],
   "source": [
    "#  Calculate the true reward\n",
    "true_rewards = []\n",
    "for mol in dgl_molecules:\n",
    "    quantity_value = xtb_simulation.compute_true_reward(mol, \"dgl\", \"homolumo\")\n",
    "    homolumo_gap, lumo, homo = quantity_value\n",
    "    print(f\"HOMO-LUMO gap: {homolumo_gap:.6f} eV\")\n",
    "    print(f\"LUMO: {lumo} eV\\nHOMO: {homo} eV\")"
   ]
  },
  {
   "cell_type": "markdown",
   "metadata": {},
   "source": [
    "#### Differentiable Reward"
   ]
  },
  {
   "cell_type": "code",
   "execution_count": null,
   "metadata": {},
   "outputs": [],
   "source": [
    "from PAMNet.models import PAMNet_s, Config"
   ]
  },
  {
   "cell_type": "code",
   "execution_count": null,
   "metadata": {},
   "outputs": [],
   "source": [
    "config = Config(dataset=args['dataset'], dim=args['dim'], n_layer=args['n_layer'], cutoff_l=args['cutoff_l'], cutoff_g=args['cutoff_g'])\n",
    "reward_model = PAMNet_s(config).to(args['device'])\n",
    "reward_model.eval()\n",
    "\n",
    "targets = []\n",
    "for data in sampled_molecules:\n",
    "    data.pyg_mol.pos.requires_grad_()\n",
    "    tmp = reward_model(data.pyg_mol)\n",
    "    targets.append(tmp)\n",
    "    tmp.backward()\n",
    "    pos_grad = data.pyg_mol.pos.grad\n",
    "print(len(targets))"
   ]
  },
  {
   "cell_type": "markdown",
   "metadata": {},
   "source": [
    "#### Visualize the Molecules"
   ]
  },
  {
   "cell_type": "code",
   "execution_count": null,
   "metadata": {},
   "outputs": [],
   "source": [
    "import py3Dmol"
   ]
  },
  {
   "cell_type": "code",
   "execution_count": null,
   "metadata": {},
   "outputs": [],
   "source": [
    "# Convert RDKit Mol to PDB block\n",
    "pdb_blocks = []\n",
    "for mol in rdkit_molecules:\n",
    "    pdb_blocks.append(Chem.MolToMolBlock(mol))\n",
    "\n",
    "# Visualize using py3Dmol\n",
    "viewer = py3Dmol.view(width=1250, height=250, viewergrid=(1, 2))\n",
    "viewer.addModel(pdb_blocks[0], \"mol\", viewer=(0, 0))\n",
    "viewer.addModel(pdb_blocks[1], \"mol\", viewer=(0, 1))\n",
    "# viewer.addModel(pdb_blocks[2], \"mol\", viewer=(0, 2))\n",
    "# viewer.addModel(pdb_blocks[3], \"mol\", viewer=(0, 3))\n",
    "# viewer.addModel(pdb_blocks[4], \"mol\", viewer=(0, 4))\n",
    "# viewer.addModel(pdb_blocks[5], \"mol\", viewer=(1, 0))\n",
    "# viewer.addModel(pdb_blocks[6], \"mol\", viewer=(1, 1))\n",
    "# viewer.addModel(pdb_blocks[7], \"mol\", viewer=(1, 2))\n",
    "# viewer.addModel(pdb_blocks[8], \"mol\", viewer=(1, 3))\n",
    "# viewer.addModel(pdb_blocks[9], \"mol\", viewer=(1, 4))\n",
    "viewer.setStyle({\"stick\": {}, \"sphere\": {\"scale\": 0.3}})\n",
    "viewer.zoomTo()\n",
    "viewer.show()"
   ]
  },
  {
   "cell_type": "code",
   "execution_count": null,
   "metadata": {},
   "outputs": [],
   "source": []
  },
  {
   "cell_type": "code",
   "execution_count": null,
   "metadata": {},
   "outputs": [],
   "source": [
    "# smiles_molecules"
   ]
  },
  {
   "cell_type": "code",
   "execution_count": null,
   "metadata": {},
   "outputs": [],
   "source": [
    "# try:\n",
    "#     response = requests.post(server_url + \"/\", json=payload)\n",
    "# except requests.exceptions.ConnectionError as e:\n",
    "#     f\"{e}: \"\n",
    "#     f\"\\n\\tAre sure the server was running at {server_url}?\"\n",
    "#     f\"\\n\\tAre you sure the right environment engine was used (I'm using)?\"\n",
    "#     raise e"
   ]
  },
  {
   "cell_type": "code",
   "execution_count": null,
   "metadata": {},
   "outputs": [],
   "source": [
    "# response"
   ]
  },
  {
   "cell_type": "code",
   "execution_count": null,
   "metadata": {},
   "outputs": [],
   "source": [
    "# response = requests.post(server_url + \"/\", json=payload)\n",
    "# response.status_code"
   ]
  },
  {
   "cell_type": "markdown",
   "metadata": {},
   "source": [
    "#### Full MolScore"
   ]
  },
  {
   "cell_type": "code",
   "execution_count": null,
   "metadata": {},
   "outputs": [],
   "source": [
    "from molscore import MolScore"
   ]
  },
  {
   "cell_type": "code",
   "execution_count": null,
   "metadata": {},
   "outputs": [],
   "source": [
    "# Calculate the constraints\n",
    "constraints_mol_scores = MolScore(model_name='RAscore', task_config=\"/Users/svlg/MasterThesis/v02/RAscorer.json\").score(smiles_molecules)"
   ]
  },
  {
   "cell_type": "markdown",
   "metadata": {},
   "source": [
    "#### PoseBuster"
   ]
  },
  {
   "cell_type": "code",
   "execution_count": null,
   "metadata": {},
   "outputs": [],
   "source": [
    "from posebusters import PoseBusters"
   ]
  },
  {
   "cell_type": "code",
   "execution_count": null,
   "metadata": {},
   "outputs": [],
   "source": [
    "buster = PoseBusters(config=\"mol\")\n",
    "df = buster.bust(rdkit_molecules, None, None, full_report=True)\n",
    "print(df.shape)\n",
    "df"
   ]
  },
  {
   "cell_type": "code",
   "execution_count": null,
   "metadata": {},
   "outputs": [],
   "source": [
    "df.columns"
   ]
  },
  {
   "cell_type": "code",
   "execution_count": null,
   "metadata": {},
   "outputs": [],
   "source": [
    "df.iloc[0]"
   ]
  },
  {
   "cell_type": "code",
   "execution_count": null,
   "metadata": {},
   "outputs": [],
   "source": []
  },
  {
   "cell_type": "markdown",
   "metadata": {},
   "source": [
    "#### XTB Simulation"
   ]
  },
  {
   "cell_type": "code",
   "execution_count": null,
   "metadata": {},
   "outputs": [],
   "source": [
    "from true_reward import xtb_simulation"
   ]
  },
  {
   "cell_type": "code",
   "execution_count": null,
   "metadata": {},
   "outputs": [],
   "source": [
    "#  Calculate the true reward\n",
    "true_rewards = []\n",
    "for mol in dgl_molecules:\n",
    "    quantity_value = xtb_simulation.compute_true_reward(mol, \"dgl\", \"homolumo\")\n",
    "    homolumo_gap, lumo, homo = quantity_value\n",
    "    print(f\"HOMO-LUMO gap: {homolumo_gap:.6f} eV\")\n",
    "    print(f\"LUMO: {lumo} eV\\nHOMO: {homo} eV\")"
   ]
  },
  {
   "cell_type": "markdown",
   "metadata": {},
   "source": [
    "#### Differentiable Reward"
   ]
  },
  {
   "cell_type": "code",
   "execution_count": null,
   "metadata": {},
   "outputs": [],
   "source": [
    "from PAMNet.models import PAMNet_s, Config"
   ]
  },
  {
   "cell_type": "code",
   "execution_count": null,
   "metadata": {},
   "outputs": [],
   "source": [
    "config = Config(dataset=args['dataset'], dim=args['dim'], n_layer=args['n_layer'], cutoff_l=args['cutoff_l'], cutoff_g=args['cutoff_g'])\n",
    "reward_model = PAMNet_s(config).to(args['device'])\n",
    "reward_model.eval()\n",
    "\n",
    "targets = []\n",
    "for data in sampled_molecules:\n",
    "    data.pyg_mol.pos.requires_grad_()\n",
    "    tmp = reward_model(data.pyg_mol)\n",
    "    targets.append(tmp)\n",
    "    tmp.backward()\n",
    "    pos_grad = data.pyg_mol.pos.grad\n",
    "print(len(targets))"
   ]
  },
  {
   "cell_type": "markdown",
   "metadata": {},
   "source": [
    "#### Visualize the Molecules"
   ]
  },
  {
   "cell_type": "code",
   "execution_count": null,
   "metadata": {},
   "outputs": [],
   "source": [
    "import py3Dmol"
   ]
  },
  {
   "cell_type": "code",
   "execution_count": null,
   "metadata": {},
   "outputs": [],
   "source": [
    "# Convert RDKit Mol to PDB block\n",
    "pdb_blocks = []\n",
    "for mol in rdkit_molecules:\n",
    "    pdb_blocks.append(Chem.MolToMolBlock(mol))\n",
    "\n",
    "# Visualize using py3Dmol\n",
    "viewer = py3Dmol.view(width=1250, height=250, viewergrid=(1, 5))\n",
    "viewer.addModel(pdb_blocks[0], \"mol\", viewer=(0, 0))\n",
    "viewer.addModel(pdb_blocks[1], \"mol\", viewer=(0, 1))\n",
    "viewer.addModel(pdb_blocks[2], \"mol\", viewer=(0, 2))\n",
    "viewer.addModel(pdb_blocks[3], \"mol\", viewer=(0, 3))\n",
    "viewer.addModel(pdb_blocks[4], \"mol\", viewer=(0, 4))\n",
    "# viewer.addModel(pdb_blocks[5], \"mol\", viewer=(1, 0))\n",
    "# viewer.addModel(pdb_blocks[6], \"mol\", viewer=(1, 1))\n",
    "# viewer.addModel(pdb_blocks[7], \"mol\", viewer=(1, 2))\n",
    "# viewer.addModel(pdb_blocks[8], \"mol\", viewer=(1, 3))\n",
    "# viewer.addModel(pdb_blocks[9], \"mol\", viewer=(1, 4))\n",
    "viewer.setStyle({\"stick\": {}, \"sphere\": {\"scale\": 0.3}})\n",
    "viewer.zoomTo()\n",
    "viewer.show()"
   ]
  },
  {
   "cell_type": "code",
   "execution_count": null,
   "metadata": {},
   "outputs": [],
   "source": []
  }
 ],
 "metadata": {
  "kernelspec": {
   "display_name": "mol",
   "language": "python",
   "name": "python3"
  },
  "language_info": {
   "codemirror_mode": {
    "name": "ipython",
    "version": 3
   },
   "file_extension": ".py",
   "mimetype": "text/x-python",
   "name": "python",
   "nbconvert_exporter": "python",
   "pygments_lexer": "ipython3",
   "version": "3.9.21"
  }
 },
 "nbformat": 4,
 "nbformat_minor": 2
}
